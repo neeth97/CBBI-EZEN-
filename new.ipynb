{
 "cells": [
  {
   "cell_type": "markdown",
   "id": "5ffc7cdc",
   "metadata": {},
   "source": [
    "# Imports"
   ]
  },
  {
   "cell_type": "code",
   "execution_count": 9,
   "id": "dd2058da",
   "metadata": {},
   "outputs": [],
   "source": [
    "import plotly.graph_objs as go\n",
    "import numpy as np\n",
    "import pandas as pd\n",
    "from scipy import stats\n",
    "from scipy.ndimage import gaussian_filter1d"
   ]
  },
  {
   "cell_type": "markdown",
   "id": "5cc97067",
   "metadata": {},
   "source": [
    "# Sample data for Scatter Plots"
   ]
  },
  {
   "cell_type": "code",
   "execution_count": 10,
   "id": "bed308b0",
   "metadata": {},
   "outputs": [],
   "source": [
    "# Seed for reproducibility\n",
    "np.random.seed(0)\n",
    "\n",
    "# Data for scatter plots\n",
    "df_scatter = pd.DataFrame({\n",
    "    'x': np.random.randn(100),\n",
    "    'y': np.random.randn(100),\n",
    "    'z': np.random.randn(100),\n",
    "    'color_label': np.random.choice(['Category 1', 'Category 2'], size=100),\n",
    "    'shape_label': np.random.choice(['circle', 'square'], size=100),\n",
    "    'opacity_label': np.random.rand(100),\n",
    "    'label': [f'point_{i}' for i in range(100)],\n",
    "    'error': np.random.rand(100) * 0.2  # Random error for error bars\n",
    "})\n",
    "\n",
    "# Data for line plot\n",
    "n_points = 365  # Number of data points (e.g., daily data for a year)\n",
    "trend = np.linspace(0, 50, n_points)  # Linear upward trend\n",
    "seasonality = 25 * np.sin(np.linspace(0, 3 * np.pi, n_points))  # Seasonal component\n",
    "noise = np.random.normal(scale=5, size=n_points)  # Random noise\n",
    "\n",
    "data = trend + seasonality + noise\n",
    "x = pd.date_range(start='2023-01-01', periods=n_points, freq='D')\n",
    "df_line = pd.DataFrame({'x': x, 'y': data})\n",
    "df_line['error'] = np.random.uniform(2, 5, size=n_points)  # Example error values\n"
   ]
  },
  {
   "cell_type": "markdown",
   "id": "4736e60e",
   "metadata": {},
   "source": [
    "# Global configuration for the plot layout"
   ]
  },
  {
   "cell_type": "code",
   "execution_count": 11,
   "id": "2493852d",
   "metadata": {},
   "outputs": [],
   "source": [
    "def set_global_plotly_config(title):\n",
    "    \"\"\"\n",
    "    Set global plotly configuration for consistent styling.\n",
    "    \n",
    "    Args:\n",
    "        title (str): Title of the plot.\n",
    "\n",
    "    Returns:\n",
    "        layout (dict): Global layout configuration for plotly figures.\n",
    "    \"\"\"\n",
    "    layout = dict(\n",
    "        title=title,\n",
    "        font={'color': 'black', 'size': 14},\n",
    "        plot_bgcolor='rgba(245, 245, 245, 1)',\n",
    "        paper_bgcolor='white',\n",
    "        showlegend=False,\n",
    "        colorway=['#006E96', '#00263D', '#B8D87A', '#8E847A', '#EB6852', '#983E53'],\n",
    "    )\n",
    "    return layout\n"
   ]
  },
  {
   "cell_type": "markdown",
   "id": "201d3804",
   "metadata": {},
   "source": [
    "# Scatter plot with 2D and advanced features"
   ]
  },
  {
   "cell_type": "code",
   "execution_count": 16,
   "id": "ff33fc2c",
   "metadata": {},
   "outputs": [
    {
     "data": {
      "application/vnd.plotly.v1+json": {
       "config": {
        "plotlyServerURL": "https://plot.ly"
       },
       "data": [
        {
         "marker": {
          "color": [
           "rgba(93, 164, 214, 0.8)",
           "rgba(255, 144, 14, 0.8)",
           "rgba(93, 164, 214, 0.8)",
           "rgba(255, 144, 14, 0.8)",
           "rgba(93, 164, 214, 0.8)",
           "rgba(93, 164, 214, 0.8)",
           "rgba(255, 144, 14, 0.8)",
           "rgba(255, 144, 14, 0.8)",
           "rgba(255, 144, 14, 0.8)",
           "rgba(93, 164, 214, 0.8)",
           "rgba(255, 144, 14, 0.8)",
           "rgba(93, 164, 214, 0.8)",
           "rgba(255, 144, 14, 0.8)",
           "rgba(93, 164, 214, 0.8)",
           "rgba(255, 144, 14, 0.8)",
           "rgba(255, 144, 14, 0.8)",
           "rgba(93, 164, 214, 0.8)",
           "rgba(93, 164, 214, 0.8)",
           "rgba(255, 144, 14, 0.8)",
           "rgba(93, 164, 214, 0.8)",
           "rgba(255, 144, 14, 0.8)",
           "rgba(93, 164, 214, 0.8)",
           "rgba(93, 164, 214, 0.8)",
           "rgba(255, 144, 14, 0.8)",
           "rgba(93, 164, 214, 0.8)",
           "rgba(255, 144, 14, 0.8)",
           "rgba(255, 144, 14, 0.8)",
           "rgba(255, 144, 14, 0.8)",
           "rgba(93, 164, 214, 0.8)",
           "rgba(93, 164, 214, 0.8)",
           "rgba(255, 144, 14, 0.8)",
           "rgba(255, 144, 14, 0.8)",
           "rgba(255, 144, 14, 0.8)",
           "rgba(93, 164, 214, 0.8)",
           "rgba(93, 164, 214, 0.8)",
           "rgba(255, 144, 14, 0.8)",
           "rgba(255, 144, 14, 0.8)",
           "rgba(93, 164, 214, 0.8)",
           "rgba(93, 164, 214, 0.8)",
           "rgba(255, 144, 14, 0.8)",
           "rgba(93, 164, 214, 0.8)",
           "rgba(93, 164, 214, 0.8)",
           "rgba(255, 144, 14, 0.8)"
          ],
          "line": {
           "color": "DarkSlateGrey",
           "width": 1
          },
          "opacity": [
           0.9677946717985019,
           0.5922304187618368,
           0.5520782766919708,
           0.2716527676061459,
           0.455444149450027,
           0.5058663838253084,
           0.3103808259798114,
           0.3335074657912753,
           0.9241587666207636,
           0.04869029597552854,
           0.4461355126592019,
           0.3484759890334971,
           0.7400975256176825,
           0.6805144811428259,
           0.6223844285660048,
           0.6762424822774629,
           0.8792347630313271,
           0.5436780538280952,
           0.2826996509455366,
           0.08949454503290011,
           0.4059423219682837,
           0.3426109843415903,
           0.2097499496556351,
           0.5771402440203418,
           0.647196653894036,
           0.9627703198402424,
           0.016871673370039697,
           0.5098071966215841,
           0.7908401632274049,
           0.44203563772992527,
           0.6939564109345475,
           0.09088573203240946,
           0.22775950153786095,
           0.6232946730201306,
           0.6188261682413765,
           0.13346147093493443,
           0.922347981796633,
           0.5413807937571358,
           0.38913467710118577,
           0.4463944154832029,
           0.4402637528294918,
           0.0764867690302854,
           0.2473987555391537
          ],
          "size": 10,
          "symbol": "square"
         },
         "mode": "markers",
         "name": "square",
         "text": [
          "point_0",
          "point_3",
          "point_6",
          "point_7",
          "point_8",
          "point_11",
          "point_12",
          "point_16",
          "point_17",
          "point_19",
          "point_21",
          "point_23",
          "point_24",
          "point_25",
          "point_26",
          "point_30",
          "point_31",
          "point_32",
          "point_33",
          "point_40",
          "point_41",
          "point_43",
          "point_46",
          "point_48",
          "point_53",
          "point_56",
          "point_57",
          "point_60",
          "point_62",
          "point_64",
          "point_66",
          "point_67",
          "point_68",
          "point_70",
          "point_72",
          "point_73",
          "point_77",
          "point_78",
          "point_85",
          "point_90",
          "point_94",
          "point_95",
          "point_97"
         ],
         "type": "scatter",
         "x": [
          1.764052345967664,
          2.240893199201458,
          0.9500884175255894,
          -0.1513572082976979,
          -0.10321885179355784,
          1.454273506962975,
          0.7610377251469934,
          1.4940790731576061,
          -0.20515826376580087,
          -0.8540957393017248,
          0.6536185954403606,
          -0.7421650204064419,
          2.2697546239876076,
          -1.4543656745987648,
          0.04575851730144607,
          0.1549474256969163,
          0.37816251960217356,
          -0.8877857476301128,
          -1.980796468223927,
          -1.0485529650670926,
          -1.4200179371789752,
          1.9507753952317897,
          -1.2527953600499262,
          -1.6138978475579515,
          -1.180632184122412,
          0.06651722238316789,
          0.3024718977397814,
          -0.672460447775951,
          -0.813146282044454,
          0.17742614225375283,
          -1.6301983469660446,
          0.4627822555257742,
          -0.9072983643832422,
          0.7290905621775369,
          1.1394006845433007,
          -1.2348258203536526,
          -0.5788496647644155,
          -0.31155253212737266,
          1.8958891760305832,
          -0.40317694697317963,
          0.3563663971744019,
          0.7065731681919482,
          1.7858704939058352
         ],
         "y": [
          1.8831506970562544,
          0.9693967081580112,
          -0.41361898075974735,
          -0.7474548114407578,
          1.9229420264803847,
          0.9060446582753853,
          -0.8612256850547025,
          0.947251967773748,
          -0.1550100930908342,
          0.9222066715665268,
          -1.0994007905841945,
          1.3263858966870303,
          -0.6945678597313655,
          -0.14963454032767076,
          -0.43515355172163744,
          -0.7699160744453164,
          0.5392491912918173,
          -0.6743326606573761,
          0.03183055827435118,
          -1.4912575927056055,
          0.4393917012645369,
          0.6350314368921064,
          -0.9128222254441586,
          -1.3159074105115212,
          -0.8264385386590144,
          1.126635922106507,
          -1.0799315083634233,
          -0.4980324506923049,
          0.9494208069257608,
          -1.225435518830168,
          -1.0002153473895647,
          -1.5447710967776116,
          1.1880297923523018,
          0.920858823780819,
          0.8568306119026912,
          -0.6510255933001469,
          -0.6895497777502005,
          -0.45553250351734315,
          -1.6020576556067476,
          -1.2928569097234486,
          0.5232766605317537,
          -0.1715463312222481,
          0.8235041539637314
         ]
        },
        {
         "marker": {
          "color": [
           "rgba(93, 164, 214, 0.8)",
           "rgba(255, 144, 14, 0.8)",
           "rgba(93, 164, 214, 0.8)",
           "rgba(93, 164, 214, 0.8)",
           "rgba(255, 144, 14, 0.8)",
           "rgba(93, 164, 214, 0.8)",
           "rgba(93, 164, 214, 0.8)",
           "rgba(93, 164, 214, 0.8)",
           "rgba(93, 164, 214, 0.8)",
           "rgba(93, 164, 214, 0.8)",
           "rgba(93, 164, 214, 0.8)",
           "rgba(93, 164, 214, 0.8)",
           "rgba(93, 164, 214, 0.8)",
           "rgba(93, 164, 214, 0.8)",
           "rgba(255, 144, 14, 0.8)",
           "rgba(255, 144, 14, 0.8)",
           "rgba(255, 144, 14, 0.8)",
           "rgba(93, 164, 214, 0.8)",
           "rgba(93, 164, 214, 0.8)",
           "rgba(93, 164, 214, 0.8)",
           "rgba(93, 164, 214, 0.8)",
           "rgba(93, 164, 214, 0.8)",
           "rgba(93, 164, 214, 0.8)",
           "rgba(93, 164, 214, 0.8)",
           "rgba(255, 144, 14, 0.8)",
           "rgba(255, 144, 14, 0.8)",
           "rgba(255, 144, 14, 0.8)",
           "rgba(255, 144, 14, 0.8)",
           "rgba(93, 164, 214, 0.8)",
           "rgba(255, 144, 14, 0.8)",
           "rgba(255, 144, 14, 0.8)",
           "rgba(255, 144, 14, 0.8)",
           "rgba(255, 144, 14, 0.8)",
           "rgba(255, 144, 14, 0.8)",
           "rgba(93, 164, 214, 0.8)",
           "rgba(255, 144, 14, 0.8)",
           "rgba(93, 164, 214, 0.8)",
           "rgba(255, 144, 14, 0.8)",
           "rgba(255, 144, 14, 0.8)",
           "rgba(255, 144, 14, 0.8)",
           "rgba(255, 144, 14, 0.8)",
           "rgba(93, 164, 214, 0.8)",
           "rgba(93, 164, 214, 0.8)",
           "rgba(93, 164, 214, 0.8)",
           "rgba(255, 144, 14, 0.8)",
           "rgba(93, 164, 214, 0.8)",
           "rgba(93, 164, 214, 0.8)",
           "rgba(93, 164, 214, 0.8)",
           "rgba(255, 144, 14, 0.8)",
           "rgba(255, 144, 14, 0.8)",
           "rgba(255, 144, 14, 0.8)",
           "rgba(255, 144, 14, 0.8)",
           "rgba(93, 164, 214, 0.8)",
           "rgba(255, 144, 14, 0.8)",
           "rgba(255, 144, 14, 0.8)",
           "rgba(255, 144, 14, 0.8)",
           "rgba(255, 144, 14, 0.8)"
          ],
          "line": {
           "color": "DarkSlateGrey",
           "width": 1
          },
          "opacity": [
           0.5468849016694222,
           0.2748235698675966,
           0.8967611582244098,
           0.4067333458357483,
           0.40171353537959864,
           0.24841346508297102,
           0.37303486388074747,
           0.5249704422542643,
           0.7505950229289875,
           0.8623185468359024,
           0.25364252425682277,
           0.10462788874247408,
           0.7105284027223456,
           0.20492368695970176,
           0.3416981148647321,
           0.03023525800598259,
           0.7103368289742134,
           0.007884103508440377,
           0.3726790698209955,
           0.5305372145627818,
           0.922111461767193,
           0.024313199710157773,
           0.6222310588397949,
           0.2790679482285984,
           0.11570323332709365,
           0.695270005904686,
           0.6719571405958223,
           0.9488610207205074,
           0.0027032138935026984,
           0.6003922370976396,
           0.5887396099702882,
           0.6964824307014501,
           0.8136786497018634,
           0.33396486959680916,
           0.09724292563242465,
           0.5199523745708382,
           0.41030156269012563,
           0.8869607812174175,
           0.9805801327872824,
           0.8717857347554929,
           0.502720761145324,
           0.9233060678891631,
           0.8298973686033432,
           0.9682864102942973,
           0.9197828107781584,
           0.03603381742856948,
           0.17477200416093996,
           0.9521426972954208,
           0.3000289194759296,
           0.16046764388760104,
           0.8863046660865599,
           0.9078755943543261,
           0.16023046632014326,
           0.6611175115080995,
           0.6964631446525006,
           0.039615522579517726,
           0.05994429824957326
          ],
          "size": 10,
          "symbol": "circle"
         },
         "mode": "markers",
         "name": "circle",
         "text": [
          "point_1",
          "point_2",
          "point_4",
          "point_5",
          "point_9",
          "point_10",
          "point_13",
          "point_14",
          "point_15",
          "point_18",
          "point_20",
          "point_22",
          "point_27",
          "point_28",
          "point_29",
          "point_34",
          "point_35",
          "point_36",
          "point_37",
          "point_38",
          "point_39",
          "point_42",
          "point_44",
          "point_45",
          "point_47",
          "point_49",
          "point_50",
          "point_51",
          "point_52",
          "point_54",
          "point_55",
          "point_58",
          "point_59",
          "point_61",
          "point_63",
          "point_65",
          "point_69",
          "point_71",
          "point_74",
          "point_75",
          "point_76",
          "point_79",
          "point_80",
          "point_81",
          "point_82",
          "point_83",
          "point_84",
          "point_86",
          "point_87",
          "point_88",
          "point_89",
          "point_91",
          "point_92",
          "point_93",
          "point_96",
          "point_98",
          "point_99"
         ],
         "type": "scatter",
         "x": [
          0.4001572083672233,
          0.9787379841057392,
          1.8675579901499675,
          -0.977277879876411,
          0.41059850193837233,
          0.144043571160878,
          0.12167501649282841,
          0.44386323274542566,
          0.33367432737426683,
          0.31306770165090136,
          -2.5529898158340787,
          0.8644361988595057,
          -0.1871838500258336,
          1.5327792143584575,
          1.469358769900285,
          -0.3479121493261526,
          0.15634896910398005,
          1.2302906807277207,
          1.2023798487844113,
          -0.3873268174079523,
          -0.30230275057533557,
          -1.7062701906250126,
          -0.5096521817516535,
          -0.4380743016111864,
          0.7774903558319101,
          -0.2127402802139687,
          -0.8954665611936756,
          0.386902497859262,
          -0.510805137568873,
          -0.028182228338654868,
          0.42833187053041766,
          -0.6343220936809636,
          -0.3627411659871381,
          -0.3595531615405413,
          -1.7262826023316769,
          -0.4017809362082619,
          0.05194539579613895,
          0.12898291075741067,
          0.402341641177549,
          -0.6848100909403132,
          -0.8707971491818818,
          0.05616534222974544,
          -1.1651498407833565,
          0.9008264869541871,
          0.46566243973045984,
          -1.5362436862772237,
          1.4882521937955997,
          1.1787795711596507,
          -0.17992483581235091,
          -1.0707526215105425,
          1.0544517269311366,
          1.2224450703824274,
          0.2082749780768603,
          0.9766390364837128,
          0.010500020720820478,
          0.12691209270361992,
          0.40198936344470165
         ],
         "y": [
          -1.3477590611424464,
          -1.2704849984857336,
          -1.17312340511416,
          1.9436211856492926,
          1.4805147914344243,
          1.8675589604265699,
          1.9100649530990337,
          -0.2680033709513804,
          0.8024563957963952,
          0.6140793703460803,
          0.37642553115562943,
          0.298238174206056,
          1.8492637284793418,
          0.6722947570124355,
          0.40746183624111043,
          -0.635846078378881,
          0.6764332949464997,
          0.5765908166149409,
          -0.20829875557799488,
          0.3960067126616453,
          -1.0930615087305058,
          0.16667349537252904,
          2.383144774863942,
          0.9444794869904138,
          1.117016288095853,
          -0.461584604814709,
          -0.06824160532463124,
          1.7133427216493666,
          -0.7447548220484399,
          -0.0984525244254323,
          -0.6634782863621074,
          -1.1474686524111024,
          -0.43782004474443403,
          1.9295320538169858,
          0.0875512413851909,
          0.8443629764015471,
          0.3169426119248496,
          0.3187276529430212,
          -1.0342428417844647,
          0.681594518281627,
          -0.8034096641738411,
          0.01747915902505673,
          -0.35399391125348395,
          -1.3749512934180188,
          -0.6436184028328905,
          -2.2234031522244266,
          0.6252314510271875,
          -1.1043833394284506,
          0.052165079260974405,
          -0.7395629963913133,
          1.5430145954067358,
          0.26705086934918293,
          -0.0392828182274956,
          -1.1680934977411974,
          0.7717905512136674,
          2.16323594928069,
          1.336527949436392
         ]
        },
        {
         "line": {
          "color": "red",
          "dash": "dash"
         },
         "mode": "lines",
         "name": "Regression Line",
         "type": "scatter",
         "x": [
          -2.5529898158340787,
          2.2697546239876076
         ],
         "y": [
          -0.21767084768351858,
          0.33549038495854816
         ]
        }
       ],
       "layout": {
        "annotations": [
         {
          "bordercolor": "black",
          "borderwidth": 1,
          "showarrow": false,
          "text": "R²: 0.01<br>Pearson: 0.11",
          "x": 0.05,
          "xref": "paper",
          "y": 0.95,
          "yref": "paper"
         },
         {
          "showarrow": false,
          "text": "Sample Annotation",
          "x": 0.5,
          "xref": "paper",
          "y": 0.5,
          "yref": "paper"
         }
        ],
        "colorway": [
         "#006E96",
         "#00263D",
         "#B8D87A",
         "#8E847A",
         "#EB6852",
         "#983E53"
        ],
        "font": {
         "color": "black",
         "size": 14
        },
        "images": [
         {
          "layer": "below",
          "opacity": 0.3,
          "sizex": 0.2,
          "sizey": 0.2,
          "source": "https://example.com/logo.png",
          "x": 0.5,
          "xanchor": "center",
          "xref": "paper",
          "y": 0.5,
          "yanchor": "middle",
          "yref": "paper"
         }
        ],
        "paper_bgcolor": "white",
        "plot_bgcolor": "rgba(245, 245, 245, 1)",
        "showlegend": false,
        "template": {
         "data": {
          "bar": [
           {
            "error_x": {
             "color": "#2a3f5f"
            },
            "error_y": {
             "color": "#2a3f5f"
            },
            "marker": {
             "line": {
              "color": "#E5ECF6",
              "width": 0.5
             },
             "pattern": {
              "fillmode": "overlay",
              "size": 10,
              "solidity": 0.2
             }
            },
            "type": "bar"
           }
          ],
          "barpolar": [
           {
            "marker": {
             "line": {
              "color": "#E5ECF6",
              "width": 0.5
             },
             "pattern": {
              "fillmode": "overlay",
              "size": 10,
              "solidity": 0.2
             }
            },
            "type": "barpolar"
           }
          ],
          "carpet": [
           {
            "aaxis": {
             "endlinecolor": "#2a3f5f",
             "gridcolor": "white",
             "linecolor": "white",
             "minorgridcolor": "white",
             "startlinecolor": "#2a3f5f"
            },
            "baxis": {
             "endlinecolor": "#2a3f5f",
             "gridcolor": "white",
             "linecolor": "white",
             "minorgridcolor": "white",
             "startlinecolor": "#2a3f5f"
            },
            "type": "carpet"
           }
          ],
          "choropleth": [
           {
            "colorbar": {
             "outlinewidth": 0,
             "ticks": ""
            },
            "type": "choropleth"
           }
          ],
          "contour": [
           {
            "colorbar": {
             "outlinewidth": 0,
             "ticks": ""
            },
            "colorscale": [
             [
              0,
              "#0d0887"
             ],
             [
              0.1111111111111111,
              "#46039f"
             ],
             [
              0.2222222222222222,
              "#7201a8"
             ],
             [
              0.3333333333333333,
              "#9c179e"
             ],
             [
              0.4444444444444444,
              "#bd3786"
             ],
             [
              0.5555555555555556,
              "#d8576b"
             ],
             [
              0.6666666666666666,
              "#ed7953"
             ],
             [
              0.7777777777777778,
              "#fb9f3a"
             ],
             [
              0.8888888888888888,
              "#fdca26"
             ],
             [
              1,
              "#f0f921"
             ]
            ],
            "type": "contour"
           }
          ],
          "contourcarpet": [
           {
            "colorbar": {
             "outlinewidth": 0,
             "ticks": ""
            },
            "type": "contourcarpet"
           }
          ],
          "heatmap": [
           {
            "colorbar": {
             "outlinewidth": 0,
             "ticks": ""
            },
            "colorscale": [
             [
              0,
              "#0d0887"
             ],
             [
              0.1111111111111111,
              "#46039f"
             ],
             [
              0.2222222222222222,
              "#7201a8"
             ],
             [
              0.3333333333333333,
              "#9c179e"
             ],
             [
              0.4444444444444444,
              "#bd3786"
             ],
             [
              0.5555555555555556,
              "#d8576b"
             ],
             [
              0.6666666666666666,
              "#ed7953"
             ],
             [
              0.7777777777777778,
              "#fb9f3a"
             ],
             [
              0.8888888888888888,
              "#fdca26"
             ],
             [
              1,
              "#f0f921"
             ]
            ],
            "type": "heatmap"
           }
          ],
          "heatmapgl": [
           {
            "colorbar": {
             "outlinewidth": 0,
             "ticks": ""
            },
            "colorscale": [
             [
              0,
              "#0d0887"
             ],
             [
              0.1111111111111111,
              "#46039f"
             ],
             [
              0.2222222222222222,
              "#7201a8"
             ],
             [
              0.3333333333333333,
              "#9c179e"
             ],
             [
              0.4444444444444444,
              "#bd3786"
             ],
             [
              0.5555555555555556,
              "#d8576b"
             ],
             [
              0.6666666666666666,
              "#ed7953"
             ],
             [
              0.7777777777777778,
              "#fb9f3a"
             ],
             [
              0.8888888888888888,
              "#fdca26"
             ],
             [
              1,
              "#f0f921"
             ]
            ],
            "type": "heatmapgl"
           }
          ],
          "histogram": [
           {
            "marker": {
             "pattern": {
              "fillmode": "overlay",
              "size": 10,
              "solidity": 0.2
             }
            },
            "type": "histogram"
           }
          ],
          "histogram2d": [
           {
            "colorbar": {
             "outlinewidth": 0,
             "ticks": ""
            },
            "colorscale": [
             [
              0,
              "#0d0887"
             ],
             [
              0.1111111111111111,
              "#46039f"
             ],
             [
              0.2222222222222222,
              "#7201a8"
             ],
             [
              0.3333333333333333,
              "#9c179e"
             ],
             [
              0.4444444444444444,
              "#bd3786"
             ],
             [
              0.5555555555555556,
              "#d8576b"
             ],
             [
              0.6666666666666666,
              "#ed7953"
             ],
             [
              0.7777777777777778,
              "#fb9f3a"
             ],
             [
              0.8888888888888888,
              "#fdca26"
             ],
             [
              1,
              "#f0f921"
             ]
            ],
            "type": "histogram2d"
           }
          ],
          "histogram2dcontour": [
           {
            "colorbar": {
             "outlinewidth": 0,
             "ticks": ""
            },
            "colorscale": [
             [
              0,
              "#0d0887"
             ],
             [
              0.1111111111111111,
              "#46039f"
             ],
             [
              0.2222222222222222,
              "#7201a8"
             ],
             [
              0.3333333333333333,
              "#9c179e"
             ],
             [
              0.4444444444444444,
              "#bd3786"
             ],
             [
              0.5555555555555556,
              "#d8576b"
             ],
             [
              0.6666666666666666,
              "#ed7953"
             ],
             [
              0.7777777777777778,
              "#fb9f3a"
             ],
             [
              0.8888888888888888,
              "#fdca26"
             ],
             [
              1,
              "#f0f921"
             ]
            ],
            "type": "histogram2dcontour"
           }
          ],
          "mesh3d": [
           {
            "colorbar": {
             "outlinewidth": 0,
             "ticks": ""
            },
            "type": "mesh3d"
           }
          ],
          "parcoords": [
           {
            "line": {
             "colorbar": {
              "outlinewidth": 0,
              "ticks": ""
             }
            },
            "type": "parcoords"
           }
          ],
          "pie": [
           {
            "automargin": true,
            "type": "pie"
           }
          ],
          "scatter": [
           {
            "fillpattern": {
             "fillmode": "overlay",
             "size": 10,
             "solidity": 0.2
            },
            "type": "scatter"
           }
          ],
          "scatter3d": [
           {
            "line": {
             "colorbar": {
              "outlinewidth": 0,
              "ticks": ""
             }
            },
            "marker": {
             "colorbar": {
              "outlinewidth": 0,
              "ticks": ""
             }
            },
            "type": "scatter3d"
           }
          ],
          "scattercarpet": [
           {
            "marker": {
             "colorbar": {
              "outlinewidth": 0,
              "ticks": ""
             }
            },
            "type": "scattercarpet"
           }
          ],
          "scattergeo": [
           {
            "marker": {
             "colorbar": {
              "outlinewidth": 0,
              "ticks": ""
             }
            },
            "type": "scattergeo"
           }
          ],
          "scattergl": [
           {
            "marker": {
             "colorbar": {
              "outlinewidth": 0,
              "ticks": ""
             }
            },
            "type": "scattergl"
           }
          ],
          "scattermapbox": [
           {
            "marker": {
             "colorbar": {
              "outlinewidth": 0,
              "ticks": ""
             }
            },
            "type": "scattermapbox"
           }
          ],
          "scatterpolar": [
           {
            "marker": {
             "colorbar": {
              "outlinewidth": 0,
              "ticks": ""
             }
            },
            "type": "scatterpolar"
           }
          ],
          "scatterpolargl": [
           {
            "marker": {
             "colorbar": {
              "outlinewidth": 0,
              "ticks": ""
             }
            },
            "type": "scatterpolargl"
           }
          ],
          "scatterternary": [
           {
            "marker": {
             "colorbar": {
              "outlinewidth": 0,
              "ticks": ""
             }
            },
            "type": "scatterternary"
           }
          ],
          "surface": [
           {
            "colorbar": {
             "outlinewidth": 0,
             "ticks": ""
            },
            "colorscale": [
             [
              0,
              "#0d0887"
             ],
             [
              0.1111111111111111,
              "#46039f"
             ],
             [
              0.2222222222222222,
              "#7201a8"
             ],
             [
              0.3333333333333333,
              "#9c179e"
             ],
             [
              0.4444444444444444,
              "#bd3786"
             ],
             [
              0.5555555555555556,
              "#d8576b"
             ],
             [
              0.6666666666666666,
              "#ed7953"
             ],
             [
              0.7777777777777778,
              "#fb9f3a"
             ],
             [
              0.8888888888888888,
              "#fdca26"
             ],
             [
              1,
              "#f0f921"
             ]
            ],
            "type": "surface"
           }
          ],
          "table": [
           {
            "cells": {
             "fill": {
              "color": "#EBF0F8"
             },
             "line": {
              "color": "white"
             }
            },
            "header": {
             "fill": {
              "color": "#C8D4E3"
             },
             "line": {
              "color": "white"
             }
            },
            "type": "table"
           }
          ]
         },
         "layout": {
          "annotationdefaults": {
           "arrowcolor": "#2a3f5f",
           "arrowhead": 0,
           "arrowwidth": 1
          },
          "autotypenumbers": "strict",
          "coloraxis": {
           "colorbar": {
            "outlinewidth": 0,
            "ticks": ""
           }
          },
          "colorscale": {
           "diverging": [
            [
             0,
             "#8e0152"
            ],
            [
             0.1,
             "#c51b7d"
            ],
            [
             0.2,
             "#de77ae"
            ],
            [
             0.3,
             "#f1b6da"
            ],
            [
             0.4,
             "#fde0ef"
            ],
            [
             0.5,
             "#f7f7f7"
            ],
            [
             0.6,
             "#e6f5d0"
            ],
            [
             0.7,
             "#b8e186"
            ],
            [
             0.8,
             "#7fbc41"
            ],
            [
             0.9,
             "#4d9221"
            ],
            [
             1,
             "#276419"
            ]
           ],
           "sequential": [
            [
             0,
             "#0d0887"
            ],
            [
             0.1111111111111111,
             "#46039f"
            ],
            [
             0.2222222222222222,
             "#7201a8"
            ],
            [
             0.3333333333333333,
             "#9c179e"
            ],
            [
             0.4444444444444444,
             "#bd3786"
            ],
            [
             0.5555555555555556,
             "#d8576b"
            ],
            [
             0.6666666666666666,
             "#ed7953"
            ],
            [
             0.7777777777777778,
             "#fb9f3a"
            ],
            [
             0.8888888888888888,
             "#fdca26"
            ],
            [
             1,
             "#f0f921"
            ]
           ],
           "sequentialminus": [
            [
             0,
             "#0d0887"
            ],
            [
             0.1111111111111111,
             "#46039f"
            ],
            [
             0.2222222222222222,
             "#7201a8"
            ],
            [
             0.3333333333333333,
             "#9c179e"
            ],
            [
             0.4444444444444444,
             "#bd3786"
            ],
            [
             0.5555555555555556,
             "#d8576b"
            ],
            [
             0.6666666666666666,
             "#ed7953"
            ],
            [
             0.7777777777777778,
             "#fb9f3a"
            ],
            [
             0.8888888888888888,
             "#fdca26"
            ],
            [
             1,
             "#f0f921"
            ]
           ]
          },
          "colorway": [
           "#636efa",
           "#EF553B",
           "#00cc96",
           "#ab63fa",
           "#FFA15A",
           "#19d3f3",
           "#FF6692",
           "#B6E880",
           "#FF97FF",
           "#FECB52"
          ],
          "font": {
           "color": "#2a3f5f"
          },
          "geo": {
           "bgcolor": "white",
           "lakecolor": "white",
           "landcolor": "#E5ECF6",
           "showlakes": true,
           "showland": true,
           "subunitcolor": "white"
          },
          "hoverlabel": {
           "align": "left"
          },
          "hovermode": "closest",
          "mapbox": {
           "style": "light"
          },
          "paper_bgcolor": "white",
          "plot_bgcolor": "#E5ECF6",
          "polar": {
           "angularaxis": {
            "gridcolor": "white",
            "linecolor": "white",
            "ticks": ""
           },
           "bgcolor": "#E5ECF6",
           "radialaxis": {
            "gridcolor": "white",
            "linecolor": "white",
            "ticks": ""
           }
          },
          "scene": {
           "xaxis": {
            "backgroundcolor": "#E5ECF6",
            "gridcolor": "white",
            "gridwidth": 2,
            "linecolor": "white",
            "showbackground": true,
            "ticks": "",
            "zerolinecolor": "white"
           },
           "yaxis": {
            "backgroundcolor": "#E5ECF6",
            "gridcolor": "white",
            "gridwidth": 2,
            "linecolor": "white",
            "showbackground": true,
            "ticks": "",
            "zerolinecolor": "white"
           },
           "zaxis": {
            "backgroundcolor": "#E5ECF6",
            "gridcolor": "white",
            "gridwidth": 2,
            "linecolor": "white",
            "showbackground": true,
            "ticks": "",
            "zerolinecolor": "white"
           }
          },
          "shapedefaults": {
           "line": {
            "color": "#2a3f5f"
           }
          },
          "ternary": {
           "aaxis": {
            "gridcolor": "white",
            "linecolor": "white",
            "ticks": ""
           },
           "baxis": {
            "gridcolor": "white",
            "linecolor": "white",
            "ticks": ""
           },
           "bgcolor": "#E5ECF6",
           "caxis": {
            "gridcolor": "white",
            "linecolor": "white",
            "ticks": ""
           }
          },
          "title": {
           "x": 0.05
          },
          "xaxis": {
           "automargin": true,
           "gridcolor": "white",
           "linecolor": "white",
           "ticks": "",
           "title": {
            "standoff": 15
           },
           "zerolinecolor": "white",
           "zerolinewidth": 2
          },
          "yaxis": {
           "automargin": true,
           "gridcolor": "white",
           "linecolor": "white",
           "ticks": "",
           "title": {
            "standoff": 15
           },
           "zerolinecolor": "white",
           "zerolinewidth": 2
          }
         }
        },
        "title": {
         "text": "2D Scatter Plot with Advanced Features"
        }
       }
      },
      "text/html": [
       "<div>                            <div id=\"575540a0-277e-428f-ba10-cdbb14fdf4c2\" class=\"plotly-graph-div\" style=\"height:525px; width:100%;\"></div>            <script type=\"text/javascript\">                require([\"plotly\"], function(Plotly) {                    window.PLOTLYENV=window.PLOTLYENV || {};                                    if (document.getElementById(\"575540a0-277e-428f-ba10-cdbb14fdf4c2\")) {                    Plotly.newPlot(                        \"575540a0-277e-428f-ba10-cdbb14fdf4c2\",                        [{\"marker\":{\"color\":[\"rgba(93, 164, 214, 0.8)\",\"rgba(255, 144, 14, 0.8)\",\"rgba(93, 164, 214, 0.8)\",\"rgba(255, 144, 14, 0.8)\",\"rgba(93, 164, 214, 0.8)\",\"rgba(93, 164, 214, 0.8)\",\"rgba(255, 144, 14, 0.8)\",\"rgba(255, 144, 14, 0.8)\",\"rgba(255, 144, 14, 0.8)\",\"rgba(93, 164, 214, 0.8)\",\"rgba(255, 144, 14, 0.8)\",\"rgba(93, 164, 214, 0.8)\",\"rgba(255, 144, 14, 0.8)\",\"rgba(93, 164, 214, 0.8)\",\"rgba(255, 144, 14, 0.8)\",\"rgba(255, 144, 14, 0.8)\",\"rgba(93, 164, 214, 0.8)\",\"rgba(93, 164, 214, 0.8)\",\"rgba(255, 144, 14, 0.8)\",\"rgba(93, 164, 214, 0.8)\",\"rgba(255, 144, 14, 0.8)\",\"rgba(93, 164, 214, 0.8)\",\"rgba(93, 164, 214, 0.8)\",\"rgba(255, 144, 14, 0.8)\",\"rgba(93, 164, 214, 0.8)\",\"rgba(255, 144, 14, 0.8)\",\"rgba(255, 144, 14, 0.8)\",\"rgba(255, 144, 14, 0.8)\",\"rgba(93, 164, 214, 0.8)\",\"rgba(93, 164, 214, 0.8)\",\"rgba(255, 144, 14, 0.8)\",\"rgba(255, 144, 14, 0.8)\",\"rgba(255, 144, 14, 0.8)\",\"rgba(93, 164, 214, 0.8)\",\"rgba(93, 164, 214, 0.8)\",\"rgba(255, 144, 14, 0.8)\",\"rgba(255, 144, 14, 0.8)\",\"rgba(93, 164, 214, 0.8)\",\"rgba(93, 164, 214, 0.8)\",\"rgba(255, 144, 14, 0.8)\",\"rgba(93, 164, 214, 0.8)\",\"rgba(93, 164, 214, 0.8)\",\"rgba(255, 144, 14, 0.8)\"],\"line\":{\"color\":\"DarkSlateGrey\",\"width\":1},\"opacity\":[0.9677946717985019,0.5922304187618368,0.5520782766919708,0.2716527676061459,0.455444149450027,0.5058663838253084,0.3103808259798114,0.3335074657912753,0.9241587666207636,0.04869029597552854,0.4461355126592019,0.3484759890334971,0.7400975256176825,0.6805144811428259,0.6223844285660048,0.6762424822774629,0.8792347630313271,0.5436780538280952,0.2826996509455366,0.08949454503290011,0.4059423219682837,0.3426109843415903,0.2097499496556351,0.5771402440203418,0.647196653894036,0.9627703198402424,0.016871673370039697,0.5098071966215841,0.7908401632274049,0.44203563772992527,0.6939564109345475,0.09088573203240946,0.22775950153786095,0.6232946730201306,0.6188261682413765,0.13346147093493443,0.922347981796633,0.5413807937571358,0.38913467710118577,0.4463944154832029,0.4402637528294918,0.0764867690302854,0.2473987555391537],\"size\":10,\"symbol\":\"square\"},\"mode\":\"markers\",\"name\":\"square\",\"text\":[\"point_0\",\"point_3\",\"point_6\",\"point_7\",\"point_8\",\"point_11\",\"point_12\",\"point_16\",\"point_17\",\"point_19\",\"point_21\",\"point_23\",\"point_24\",\"point_25\",\"point_26\",\"point_30\",\"point_31\",\"point_32\",\"point_33\",\"point_40\",\"point_41\",\"point_43\",\"point_46\",\"point_48\",\"point_53\",\"point_56\",\"point_57\",\"point_60\",\"point_62\",\"point_64\",\"point_66\",\"point_67\",\"point_68\",\"point_70\",\"point_72\",\"point_73\",\"point_77\",\"point_78\",\"point_85\",\"point_90\",\"point_94\",\"point_95\",\"point_97\"],\"x\":[1.764052345967664,2.240893199201458,0.9500884175255894,-0.1513572082976979,-0.10321885179355784,1.454273506962975,0.7610377251469934,1.4940790731576061,-0.20515826376580087,-0.8540957393017248,0.6536185954403606,-0.7421650204064419,2.2697546239876076,-1.4543656745987648,0.04575851730144607,0.1549474256969163,0.37816251960217356,-0.8877857476301128,-1.980796468223927,-1.0485529650670926,-1.4200179371789752,1.9507753952317897,-1.2527953600499262,-1.6138978475579515,-1.180632184122412,0.06651722238316789,0.3024718977397814,-0.672460447775951,-0.813146282044454,0.17742614225375283,-1.6301983469660446,0.4627822555257742,-0.9072983643832422,0.7290905621775369,1.1394006845433007,-1.2348258203536526,-0.5788496647644155,-0.31155253212737266,1.8958891760305832,-0.40317694697317963,0.3563663971744019,0.7065731681919482,1.7858704939058352],\"y\":[1.8831506970562544,0.9693967081580112,-0.41361898075974735,-0.7474548114407578,1.9229420264803847,0.9060446582753853,-0.8612256850547025,0.947251967773748,-0.1550100930908342,0.9222066715665268,-1.0994007905841945,1.3263858966870303,-0.6945678597313655,-0.14963454032767076,-0.43515355172163744,-0.7699160744453164,0.5392491912918173,-0.6743326606573761,0.03183055827435118,-1.4912575927056055,0.4393917012645369,0.6350314368921064,-0.9128222254441586,-1.3159074105115212,-0.8264385386590144,1.126635922106507,-1.0799315083634233,-0.4980324506923049,0.9494208069257608,-1.225435518830168,-1.0002153473895647,-1.5447710967776116,1.1880297923523018,0.920858823780819,0.8568306119026912,-0.6510255933001469,-0.6895497777502005,-0.45553250351734315,-1.6020576556067476,-1.2928569097234486,0.5232766605317537,-0.1715463312222481,0.8235041539637314],\"type\":\"scatter\"},{\"marker\":{\"color\":[\"rgba(93, 164, 214, 0.8)\",\"rgba(255, 144, 14, 0.8)\",\"rgba(93, 164, 214, 0.8)\",\"rgba(93, 164, 214, 0.8)\",\"rgba(255, 144, 14, 0.8)\",\"rgba(93, 164, 214, 0.8)\",\"rgba(93, 164, 214, 0.8)\",\"rgba(93, 164, 214, 0.8)\",\"rgba(93, 164, 214, 0.8)\",\"rgba(93, 164, 214, 0.8)\",\"rgba(93, 164, 214, 0.8)\",\"rgba(93, 164, 214, 0.8)\",\"rgba(93, 164, 214, 0.8)\",\"rgba(93, 164, 214, 0.8)\",\"rgba(255, 144, 14, 0.8)\",\"rgba(255, 144, 14, 0.8)\",\"rgba(255, 144, 14, 0.8)\",\"rgba(93, 164, 214, 0.8)\",\"rgba(93, 164, 214, 0.8)\",\"rgba(93, 164, 214, 0.8)\",\"rgba(93, 164, 214, 0.8)\",\"rgba(93, 164, 214, 0.8)\",\"rgba(93, 164, 214, 0.8)\",\"rgba(93, 164, 214, 0.8)\",\"rgba(255, 144, 14, 0.8)\",\"rgba(255, 144, 14, 0.8)\",\"rgba(255, 144, 14, 0.8)\",\"rgba(255, 144, 14, 0.8)\",\"rgba(93, 164, 214, 0.8)\",\"rgba(255, 144, 14, 0.8)\",\"rgba(255, 144, 14, 0.8)\",\"rgba(255, 144, 14, 0.8)\",\"rgba(255, 144, 14, 0.8)\",\"rgba(255, 144, 14, 0.8)\",\"rgba(93, 164, 214, 0.8)\",\"rgba(255, 144, 14, 0.8)\",\"rgba(93, 164, 214, 0.8)\",\"rgba(255, 144, 14, 0.8)\",\"rgba(255, 144, 14, 0.8)\",\"rgba(255, 144, 14, 0.8)\",\"rgba(255, 144, 14, 0.8)\",\"rgba(93, 164, 214, 0.8)\",\"rgba(93, 164, 214, 0.8)\",\"rgba(93, 164, 214, 0.8)\",\"rgba(255, 144, 14, 0.8)\",\"rgba(93, 164, 214, 0.8)\",\"rgba(93, 164, 214, 0.8)\",\"rgba(93, 164, 214, 0.8)\",\"rgba(255, 144, 14, 0.8)\",\"rgba(255, 144, 14, 0.8)\",\"rgba(255, 144, 14, 0.8)\",\"rgba(255, 144, 14, 0.8)\",\"rgba(93, 164, 214, 0.8)\",\"rgba(255, 144, 14, 0.8)\",\"rgba(255, 144, 14, 0.8)\",\"rgba(255, 144, 14, 0.8)\",\"rgba(255, 144, 14, 0.8)\"],\"line\":{\"color\":\"DarkSlateGrey\",\"width\":1},\"opacity\":[0.5468849016694222,0.2748235698675966,0.8967611582244098,0.4067333458357483,0.40171353537959864,0.24841346508297102,0.37303486388074747,0.5249704422542643,0.7505950229289875,0.8623185468359024,0.25364252425682277,0.10462788874247408,0.7105284027223456,0.20492368695970176,0.3416981148647321,0.03023525800598259,0.7103368289742134,0.007884103508440377,0.3726790698209955,0.5305372145627818,0.922111461767193,0.024313199710157773,0.6222310588397949,0.2790679482285984,0.11570323332709365,0.695270005904686,0.6719571405958223,0.9488610207205074,0.0027032138935026984,0.6003922370976396,0.5887396099702882,0.6964824307014501,0.8136786497018634,0.33396486959680916,0.09724292563242465,0.5199523745708382,0.41030156269012563,0.8869607812174175,0.9805801327872824,0.8717857347554929,0.502720761145324,0.9233060678891631,0.8298973686033432,0.9682864102942973,0.9197828107781584,0.03603381742856948,0.17477200416093996,0.9521426972954208,0.3000289194759296,0.16046764388760104,0.8863046660865599,0.9078755943543261,0.16023046632014326,0.6611175115080995,0.6964631446525006,0.039615522579517726,0.05994429824957326],\"size\":10,\"symbol\":\"circle\"},\"mode\":\"markers\",\"name\":\"circle\",\"text\":[\"point_1\",\"point_2\",\"point_4\",\"point_5\",\"point_9\",\"point_10\",\"point_13\",\"point_14\",\"point_15\",\"point_18\",\"point_20\",\"point_22\",\"point_27\",\"point_28\",\"point_29\",\"point_34\",\"point_35\",\"point_36\",\"point_37\",\"point_38\",\"point_39\",\"point_42\",\"point_44\",\"point_45\",\"point_47\",\"point_49\",\"point_50\",\"point_51\",\"point_52\",\"point_54\",\"point_55\",\"point_58\",\"point_59\",\"point_61\",\"point_63\",\"point_65\",\"point_69\",\"point_71\",\"point_74\",\"point_75\",\"point_76\",\"point_79\",\"point_80\",\"point_81\",\"point_82\",\"point_83\",\"point_84\",\"point_86\",\"point_87\",\"point_88\",\"point_89\",\"point_91\",\"point_92\",\"point_93\",\"point_96\",\"point_98\",\"point_99\"],\"x\":[0.4001572083672233,0.9787379841057392,1.8675579901499675,-0.977277879876411,0.41059850193837233,0.144043571160878,0.12167501649282841,0.44386323274542566,0.33367432737426683,0.31306770165090136,-2.5529898158340787,0.8644361988595057,-0.1871838500258336,1.5327792143584575,1.469358769900285,-0.3479121493261526,0.15634896910398005,1.2302906807277207,1.2023798487844113,-0.3873268174079523,-0.30230275057533557,-1.7062701906250126,-0.5096521817516535,-0.4380743016111864,0.7774903558319101,-0.2127402802139687,-0.8954665611936756,0.386902497859262,-0.510805137568873,-0.028182228338654868,0.42833187053041766,-0.6343220936809636,-0.3627411659871381,-0.3595531615405413,-1.7262826023316769,-0.4017809362082619,0.05194539579613895,0.12898291075741067,0.402341641177549,-0.6848100909403132,-0.8707971491818818,0.05616534222974544,-1.1651498407833565,0.9008264869541871,0.46566243973045984,-1.5362436862772237,1.4882521937955997,1.1787795711596507,-0.17992483581235091,-1.0707526215105425,1.0544517269311366,1.2224450703824274,0.2082749780768603,0.9766390364837128,0.010500020720820478,0.12691209270361992,0.40198936344470165],\"y\":[-1.3477590611424464,-1.2704849984857336,-1.17312340511416,1.9436211856492926,1.4805147914344243,1.8675589604265699,1.9100649530990337,-0.2680033709513804,0.8024563957963952,0.6140793703460803,0.37642553115562943,0.298238174206056,1.8492637284793418,0.6722947570124355,0.40746183624111043,-0.635846078378881,0.6764332949464997,0.5765908166149409,-0.20829875557799488,0.3960067126616453,-1.0930615087305058,0.16667349537252904,2.383144774863942,0.9444794869904138,1.117016288095853,-0.461584604814709,-0.06824160532463124,1.7133427216493666,-0.7447548220484399,-0.0984525244254323,-0.6634782863621074,-1.1474686524111024,-0.43782004474443403,1.9295320538169858,0.0875512413851909,0.8443629764015471,0.3169426119248496,0.3187276529430212,-1.0342428417844647,0.681594518281627,-0.8034096641738411,0.01747915902505673,-0.35399391125348395,-1.3749512934180188,-0.6436184028328905,-2.2234031522244266,0.6252314510271875,-1.1043833394284506,0.052165079260974405,-0.7395629963913133,1.5430145954067358,0.26705086934918293,-0.0392828182274956,-1.1680934977411974,0.7717905512136674,2.16323594928069,1.336527949436392],\"type\":\"scatter\"},{\"line\":{\"color\":\"red\",\"dash\":\"dash\"},\"mode\":\"lines\",\"name\":\"Regression Line\",\"x\":[-2.5529898158340787,2.2697546239876076],\"y\":[-0.21767084768351858,0.33549038495854816],\"type\":\"scatter\"}],                        {\"template\":{\"data\":{\"histogram2dcontour\":[{\"type\":\"histogram2dcontour\",\"colorbar\":{\"outlinewidth\":0,\"ticks\":\"\"},\"colorscale\":[[0.0,\"#0d0887\"],[0.1111111111111111,\"#46039f\"],[0.2222222222222222,\"#7201a8\"],[0.3333333333333333,\"#9c179e\"],[0.4444444444444444,\"#bd3786\"],[0.5555555555555556,\"#d8576b\"],[0.6666666666666666,\"#ed7953\"],[0.7777777777777778,\"#fb9f3a\"],[0.8888888888888888,\"#fdca26\"],[1.0,\"#f0f921\"]]}],\"choropleth\":[{\"type\":\"choropleth\",\"colorbar\":{\"outlinewidth\":0,\"ticks\":\"\"}}],\"histogram2d\":[{\"type\":\"histogram2d\",\"colorbar\":{\"outlinewidth\":0,\"ticks\":\"\"},\"colorscale\":[[0.0,\"#0d0887\"],[0.1111111111111111,\"#46039f\"],[0.2222222222222222,\"#7201a8\"],[0.3333333333333333,\"#9c179e\"],[0.4444444444444444,\"#bd3786\"],[0.5555555555555556,\"#d8576b\"],[0.6666666666666666,\"#ed7953\"],[0.7777777777777778,\"#fb9f3a\"],[0.8888888888888888,\"#fdca26\"],[1.0,\"#f0f921\"]]}],\"heatmap\":[{\"type\":\"heatmap\",\"colorbar\":{\"outlinewidth\":0,\"ticks\":\"\"},\"colorscale\":[[0.0,\"#0d0887\"],[0.1111111111111111,\"#46039f\"],[0.2222222222222222,\"#7201a8\"],[0.3333333333333333,\"#9c179e\"],[0.4444444444444444,\"#bd3786\"],[0.5555555555555556,\"#d8576b\"],[0.6666666666666666,\"#ed7953\"],[0.7777777777777778,\"#fb9f3a\"],[0.8888888888888888,\"#fdca26\"],[1.0,\"#f0f921\"]]}],\"heatmapgl\":[{\"type\":\"heatmapgl\",\"colorbar\":{\"outlinewidth\":0,\"ticks\":\"\"},\"colorscale\":[[0.0,\"#0d0887\"],[0.1111111111111111,\"#46039f\"],[0.2222222222222222,\"#7201a8\"],[0.3333333333333333,\"#9c179e\"],[0.4444444444444444,\"#bd3786\"],[0.5555555555555556,\"#d8576b\"],[0.6666666666666666,\"#ed7953\"],[0.7777777777777778,\"#fb9f3a\"],[0.8888888888888888,\"#fdca26\"],[1.0,\"#f0f921\"]]}],\"contourcarpet\":[{\"type\":\"contourcarpet\",\"colorbar\":{\"outlinewidth\":0,\"ticks\":\"\"}}],\"contour\":[{\"type\":\"contour\",\"colorbar\":{\"outlinewidth\":0,\"ticks\":\"\"},\"colorscale\":[[0.0,\"#0d0887\"],[0.1111111111111111,\"#46039f\"],[0.2222222222222222,\"#7201a8\"],[0.3333333333333333,\"#9c179e\"],[0.4444444444444444,\"#bd3786\"],[0.5555555555555556,\"#d8576b\"],[0.6666666666666666,\"#ed7953\"],[0.7777777777777778,\"#fb9f3a\"],[0.8888888888888888,\"#fdca26\"],[1.0,\"#f0f921\"]]}],\"surface\":[{\"type\":\"surface\",\"colorbar\":{\"outlinewidth\":0,\"ticks\":\"\"},\"colorscale\":[[0.0,\"#0d0887\"],[0.1111111111111111,\"#46039f\"],[0.2222222222222222,\"#7201a8\"],[0.3333333333333333,\"#9c179e\"],[0.4444444444444444,\"#bd3786\"],[0.5555555555555556,\"#d8576b\"],[0.6666666666666666,\"#ed7953\"],[0.7777777777777778,\"#fb9f3a\"],[0.8888888888888888,\"#fdca26\"],[1.0,\"#f0f921\"]]}],\"mesh3d\":[{\"type\":\"mesh3d\",\"colorbar\":{\"outlinewidth\":0,\"ticks\":\"\"}}],\"scatter\":[{\"fillpattern\":{\"fillmode\":\"overlay\",\"size\":10,\"solidity\":0.2},\"type\":\"scatter\"}],\"parcoords\":[{\"type\":\"parcoords\",\"line\":{\"colorbar\":{\"outlinewidth\":0,\"ticks\":\"\"}}}],\"scatterpolargl\":[{\"type\":\"scatterpolargl\",\"marker\":{\"colorbar\":{\"outlinewidth\":0,\"ticks\":\"\"}}}],\"bar\":[{\"error_x\":{\"color\":\"#2a3f5f\"},\"error_y\":{\"color\":\"#2a3f5f\"},\"marker\":{\"line\":{\"color\":\"#E5ECF6\",\"width\":0.5},\"pattern\":{\"fillmode\":\"overlay\",\"size\":10,\"solidity\":0.2}},\"type\":\"bar\"}],\"scattergeo\":[{\"type\":\"scattergeo\",\"marker\":{\"colorbar\":{\"outlinewidth\":0,\"ticks\":\"\"}}}],\"scatterpolar\":[{\"type\":\"scatterpolar\",\"marker\":{\"colorbar\":{\"outlinewidth\":0,\"ticks\":\"\"}}}],\"histogram\":[{\"marker\":{\"pattern\":{\"fillmode\":\"overlay\",\"size\":10,\"solidity\":0.2}},\"type\":\"histogram\"}],\"scattergl\":[{\"type\":\"scattergl\",\"marker\":{\"colorbar\":{\"outlinewidth\":0,\"ticks\":\"\"}}}],\"scatter3d\":[{\"type\":\"scatter3d\",\"line\":{\"colorbar\":{\"outlinewidth\":0,\"ticks\":\"\"}},\"marker\":{\"colorbar\":{\"outlinewidth\":0,\"ticks\":\"\"}}}],\"scattermapbox\":[{\"type\":\"scattermapbox\",\"marker\":{\"colorbar\":{\"outlinewidth\":0,\"ticks\":\"\"}}}],\"scatterternary\":[{\"type\":\"scatterternary\",\"marker\":{\"colorbar\":{\"outlinewidth\":0,\"ticks\":\"\"}}}],\"scattercarpet\":[{\"type\":\"scattercarpet\",\"marker\":{\"colorbar\":{\"outlinewidth\":0,\"ticks\":\"\"}}}],\"carpet\":[{\"aaxis\":{\"endlinecolor\":\"#2a3f5f\",\"gridcolor\":\"white\",\"linecolor\":\"white\",\"minorgridcolor\":\"white\",\"startlinecolor\":\"#2a3f5f\"},\"baxis\":{\"endlinecolor\":\"#2a3f5f\",\"gridcolor\":\"white\",\"linecolor\":\"white\",\"minorgridcolor\":\"white\",\"startlinecolor\":\"#2a3f5f\"},\"type\":\"carpet\"}],\"table\":[{\"cells\":{\"fill\":{\"color\":\"#EBF0F8\"},\"line\":{\"color\":\"white\"}},\"header\":{\"fill\":{\"color\":\"#C8D4E3\"},\"line\":{\"color\":\"white\"}},\"type\":\"table\"}],\"barpolar\":[{\"marker\":{\"line\":{\"color\":\"#E5ECF6\",\"width\":0.5},\"pattern\":{\"fillmode\":\"overlay\",\"size\":10,\"solidity\":0.2}},\"type\":\"barpolar\"}],\"pie\":[{\"automargin\":true,\"type\":\"pie\"}]},\"layout\":{\"autotypenumbers\":\"strict\",\"colorway\":[\"#636efa\",\"#EF553B\",\"#00cc96\",\"#ab63fa\",\"#FFA15A\",\"#19d3f3\",\"#FF6692\",\"#B6E880\",\"#FF97FF\",\"#FECB52\"],\"font\":{\"color\":\"#2a3f5f\"},\"hovermode\":\"closest\",\"hoverlabel\":{\"align\":\"left\"},\"paper_bgcolor\":\"white\",\"plot_bgcolor\":\"#E5ECF6\",\"polar\":{\"bgcolor\":\"#E5ECF6\",\"angularaxis\":{\"gridcolor\":\"white\",\"linecolor\":\"white\",\"ticks\":\"\"},\"radialaxis\":{\"gridcolor\":\"white\",\"linecolor\":\"white\",\"ticks\":\"\"}},\"ternary\":{\"bgcolor\":\"#E5ECF6\",\"aaxis\":{\"gridcolor\":\"white\",\"linecolor\":\"white\",\"ticks\":\"\"},\"baxis\":{\"gridcolor\":\"white\",\"linecolor\":\"white\",\"ticks\":\"\"},\"caxis\":{\"gridcolor\":\"white\",\"linecolor\":\"white\",\"ticks\":\"\"}},\"coloraxis\":{\"colorbar\":{\"outlinewidth\":0,\"ticks\":\"\"}},\"colorscale\":{\"sequential\":[[0.0,\"#0d0887\"],[0.1111111111111111,\"#46039f\"],[0.2222222222222222,\"#7201a8\"],[0.3333333333333333,\"#9c179e\"],[0.4444444444444444,\"#bd3786\"],[0.5555555555555556,\"#d8576b\"],[0.6666666666666666,\"#ed7953\"],[0.7777777777777778,\"#fb9f3a\"],[0.8888888888888888,\"#fdca26\"],[1.0,\"#f0f921\"]],\"sequentialminus\":[[0.0,\"#0d0887\"],[0.1111111111111111,\"#46039f\"],[0.2222222222222222,\"#7201a8\"],[0.3333333333333333,\"#9c179e\"],[0.4444444444444444,\"#bd3786\"],[0.5555555555555556,\"#d8576b\"],[0.6666666666666666,\"#ed7953\"],[0.7777777777777778,\"#fb9f3a\"],[0.8888888888888888,\"#fdca26\"],[1.0,\"#f0f921\"]],\"diverging\":[[0,\"#8e0152\"],[0.1,\"#c51b7d\"],[0.2,\"#de77ae\"],[0.3,\"#f1b6da\"],[0.4,\"#fde0ef\"],[0.5,\"#f7f7f7\"],[0.6,\"#e6f5d0\"],[0.7,\"#b8e186\"],[0.8,\"#7fbc41\"],[0.9,\"#4d9221\"],[1,\"#276419\"]]},\"xaxis\":{\"gridcolor\":\"white\",\"linecolor\":\"white\",\"ticks\":\"\",\"title\":{\"standoff\":15},\"zerolinecolor\":\"white\",\"automargin\":true,\"zerolinewidth\":2},\"yaxis\":{\"gridcolor\":\"white\",\"linecolor\":\"white\",\"ticks\":\"\",\"title\":{\"standoff\":15},\"zerolinecolor\":\"white\",\"automargin\":true,\"zerolinewidth\":2},\"scene\":{\"xaxis\":{\"backgroundcolor\":\"#E5ECF6\",\"gridcolor\":\"white\",\"linecolor\":\"white\",\"showbackground\":true,\"ticks\":\"\",\"zerolinecolor\":\"white\",\"gridwidth\":2},\"yaxis\":{\"backgroundcolor\":\"#E5ECF6\",\"gridcolor\":\"white\",\"linecolor\":\"white\",\"showbackground\":true,\"ticks\":\"\",\"zerolinecolor\":\"white\",\"gridwidth\":2},\"zaxis\":{\"backgroundcolor\":\"#E5ECF6\",\"gridcolor\":\"white\",\"linecolor\":\"white\",\"showbackground\":true,\"ticks\":\"\",\"zerolinecolor\":\"white\",\"gridwidth\":2}},\"shapedefaults\":{\"line\":{\"color\":\"#2a3f5f\"}},\"annotationdefaults\":{\"arrowcolor\":\"#2a3f5f\",\"arrowhead\":0,\"arrowwidth\":1},\"geo\":{\"bgcolor\":\"white\",\"landcolor\":\"#E5ECF6\",\"subunitcolor\":\"white\",\"showland\":true,\"showlakes\":true,\"lakecolor\":\"white\"},\"title\":{\"x\":0.05},\"mapbox\":{\"style\":\"light\"}}},\"annotations\":[{\"bordercolor\":\"black\",\"borderwidth\":1,\"showarrow\":false,\"text\":\"R\\u00b2: 0.01<br>Pearson: 0.11\",\"x\":0.05,\"xref\":\"paper\",\"y\":0.95,\"yref\":\"paper\"},{\"showarrow\":false,\"text\":\"Sample Annotation\",\"x\":0.5,\"xref\":\"paper\",\"y\":0.5,\"yref\":\"paper\"}],\"images\":[{\"layer\":\"below\",\"opacity\":0.3,\"sizex\":0.2,\"sizey\":0.2,\"source\":\"https://example.com/logo.png\",\"x\":0.5,\"xanchor\":\"center\",\"xref\":\"paper\",\"y\":0.5,\"yanchor\":\"middle\",\"yref\":\"paper\"}],\"font\":{\"color\":\"black\",\"size\":14},\"title\":{\"text\":\"2D Scatter Plot with Advanced Features\"},\"plot_bgcolor\":\"rgba(245, 245, 245, 1)\",\"paper_bgcolor\":\"white\",\"showlegend\":false,\"colorway\":[\"#006E96\",\"#00263D\",\"#B8D87A\",\"#8E847A\",\"#EB6852\",\"#983E53\"]},                        {\"responsive\": true}                    ).then(function(){\n",
       "                            \n",
       "var gd = document.getElementById('575540a0-277e-428f-ba10-cdbb14fdf4c2');\n",
       "var x = new MutationObserver(function (mutations, observer) {{\n",
       "        var display = window.getComputedStyle(gd).display;\n",
       "        if (!display || display === 'none') {{\n",
       "            console.log([gd, 'removed!']);\n",
       "            Plotly.purge(gd);\n",
       "            observer.disconnect();\n",
       "        }}\n",
       "}});\n",
       "\n",
       "// Listen for the removal of the full notebook cells\n",
       "var notebookContainer = gd.closest('#notebook-container');\n",
       "if (notebookContainer) {{\n",
       "    x.observe(notebookContainer, {childList: true});\n",
       "}}\n",
       "\n",
       "// Listen for the clearing of the current output cell\n",
       "var outputEl = gd.closest('.output');\n",
       "if (outputEl) {{\n",
       "    x.observe(outputEl, {childList: true});\n",
       "}}\n",
       "\n",
       "                        })                };                });            </script>        </div>"
      ]
     },
     "metadata": {},
     "output_type": "display_data"
    }
   ],
   "source": [
    "def create_2d_scatter(df):\n",
    "    \"\"\"\n",
    "    Create a 2D scatter plot with advanced customization options.\n",
    "    \n",
    "    Args:\n",
    "        df (pd.DataFrame): Input data frame.\n",
    "\n",
    "    Returns:\n",
    "        fig (plotly.graph_objs.Figure): The configured scatter plot.\n",
    "    \"\"\"\n",
    "    shape_map = {'circle': 'circle', 'square': 'square'}\n",
    "    fig = go.Figure()\n",
    "\n",
    "    # Add scatter plot points with customizations\n",
    "    for shape in df['shape_label'].unique():\n",
    "        filtered_df = df[df['shape_label'] == shape]\n",
    "        fig.add_trace(go.Scatter(\n",
    "            x=filtered_df['x'],\n",
    "            y=filtered_df['y'],\n",
    "            mode='markers',\n",
    "            text=filtered_df['label'],\n",
    "            marker=dict(\n",
    "                size=10,\n",
    "                symbol=shape_map[shape],\n",
    "                color=filtered_df['color_label'].map({'Category 1': 'rgba(93, 164, 214, 0.8)', 'Category 2': 'rgba(255, 144, 14, 0.8)'}),\n",
    "                opacity=filtered_df['opacity_label'],\n",
    "                line=dict(width=1, color='DarkSlateGrey')\n",
    "            ),\n",
    "            name=shape\n",
    "        ))\n",
    "\n",
    "    # Linear regression\n",
    "    slope, intercept, r_value, _, _ = stats.linregress(df['x'], df['y'])\n",
    "    line_x = np.array([df['x'].min(), df['x'].max()])\n",
    "    line_y = slope * line_x + intercept\n",
    "    fig.add_trace(go.Scatter(\n",
    "        x=line_x,\n",
    "        y=line_y,\n",
    "        mode='lines',\n",
    "        line=dict(color='red', dash='dash'),\n",
    "        name='Regression Line'\n",
    "    ))\n",
    "\n",
    "    # Add regression statistics\n",
    "    r_squared = r_value ** 2\n",
    "    pearson_corr, _ = stats.pearsonr(df['x'], df['y'])\n",
    "    fig.add_annotation(\n",
    "        text=f\"R²: {r_squared:.2f}<br>Pearson: {pearson_corr:.2f}\",\n",
    "        xref=\"paper\", yref=\"paper\",\n",
    "        x=0.05, y=0.95, showarrow=False,\n",
    "        bordercolor=\"black\", borderwidth=1\n",
    "    )\n",
    "    \n",
    "    # Adding annotations\n",
    "    fig.add_annotation(\n",
    "        text=\"Sample Annotation\",  # Arbitrary text annotation\n",
    "        xref=\"paper\", yref=\"paper\",\n",
    "        x=0.5, y=0.5, showarrow=False\n",
    "    )\n",
    "\n",
    "    # Adding CBBI logo watermark as an example (replace with actual graphic location)\n",
    "    fig.add_layout_image(\n",
    "        dict(\n",
    "            source=\"https://example.com/logo.png\",  # Placeholder image\n",
    "            xref=\"paper\", yref=\"paper\",\n",
    "            x=0.5, y=0.5,  # Positioning\n",
    "            sizex=0.2, sizey=0.2,\n",
    "            xanchor=\"center\", yanchor=\"middle\",\n",
    "            opacity=0.3,\n",
    "            layer=\"below\"\n",
    "        )\n",
    "    )\n",
    "    \n",
    "    # Applying global configuration\n",
    "    layout = set_global_plotly_config(\"2D Scatter Plot with Advanced Features\")\n",
    "    fig.update_layout(layout)\n",
    "\n",
    "    return fig\n",
    "# Create and display a 2D scatter plot\n",
    "fig_2d = create_2d_scatter(df_scatter)\n",
    "fig_2d.show()"
   ]
  },
  {
   "cell_type": "markdown",
   "id": "fdb69263",
   "metadata": {},
   "source": [
    "# 3D Scatter plot"
   ]
  },
  {
   "cell_type": "code",
   "execution_count": 17,
   "id": "126b4938",
   "metadata": {},
   "outputs": [
    {
     "data": {
      "application/vnd.plotly.v1+json": {
       "config": {
        "plotlyServerURL": "https://plot.ly"
       },
       "data": [
        {
         "marker": {
          "color": [
           -0.3691818379424436,
           -0.2393791775759264,
           1.0996595958871132,
           0.6552637307225978,
           0.640131526097592,
           -1.6169560443108344,
           -0.024326124398935636,
           -0.7380309092056887,
           0.27992459904323824,
           -0.09815038964295794,
           0.9101789080925919,
           0.31721821519130206,
           0.7863279621089762,
           -0.46641909673594306,
           -0.9444462559182504,
           -0.41004969320254847,
           -0.017020413861440594,
           0.3791517355550818,
           2.259308950690852,
           -0.04225715166064269,
           -0.955945000492777,
           -0.34598177569938643,
           -0.4635959746460942,
           0.4814814737734622,
           -1.5407970144446248,
           0.06326199420033171,
           0.1565065379653756,
           0.23218103620027578,
           -0.5973160689653627,
           -0.237921729736007,
           -1.4240609089825316,
           -0.49331988336219407,
           -0.5428614760167177,
           0.4160500462614255,
           -1.1561824318219127,
           0.7811981017099934,
           1.4944845444913688,
           -2.0699850250135325,
           0.42625873077810095,
           0.6769080350302455,
           -0.637437025552229,
           -0.39727181432879766,
           -0.13288057758695562,
           -0.2977908794017283,
           -0.3090129690471222,
           -1.6760038063299767,
           1.15233156478312,
           1.079618592036821,
           -0.8133642592042029,
           -1.466424327802514,
           0.5210648764527586,
           -0.5757879698130661,
           0.14195316332077967,
           -0.3193284171450952,
           0.6915387510701866,
           0.6947491436560059,
           -0.7255973784635843,
           -1.3833639553950554,
           -1.582938397335082,
           0.6103793791072052,
           -1.188859257784029,
           -0.5068163542986875,
           -0.5963140384505081,
           -0.05256729626954629,
           -1.936279805846507,
           0.18877859679382855,
           0.5238910238342056,
           0.08842208704466141,
           -0.3108861716984717,
           0.09740016626878341,
           0.3990463456401302,
           -2.77259275642665,
           1.9559123082506942,
           0.39009332268792646,
           -0.65240858238702,
           -0.3909533751876011,
           0.49374177734918845,
           -0.11610393903436653,
           -2.0306844677814944,
           2.0644928613593194,
           -0.11054065723247261,
           1.0201727117157997,
           -0.6920498477843912,
           1.5363770542457977,
           0.28634368889227957,
           0.6088438344754508,
           -1.0452533661469547,
           1.2111452896827009,
           0.6898181645347884,
           1.3018462295649984,
           -0.6280875596415789,
           -0.4810271184607877,
           2.303916697683942,
           -1.0600158227215473,
           -0.13594970067832082,
           1.1368913626026953,
           0.0977249677148556,
           0.5829536797532936,
           -0.3994490292628752,
           0.37005588784751875
          ],
          "colorscale": [
           [
            0,
            "#440154"
           ],
           [
            0.1111111111111111,
            "#482878"
           ],
           [
            0.2222222222222222,
            "#3e4989"
           ],
           [
            0.3333333333333333,
            "#31688e"
           ],
           [
            0.4444444444444444,
            "#26828e"
           ],
           [
            0.5555555555555556,
            "#1f9e89"
           ],
           [
            0.6666666666666666,
            "#35b779"
           ],
           [
            0.7777777777777778,
            "#6ece58"
           ],
           [
            0.8888888888888888,
            "#b5de2b"
           ],
           [
            1,
            "#fde725"
           ]
          ],
          "opacity": 0.8,
          "size": 5
         },
         "mode": "markers",
         "text": [
          "point_0",
          "point_1",
          "point_2",
          "point_3",
          "point_4",
          "point_5",
          "point_6",
          "point_7",
          "point_8",
          "point_9",
          "point_10",
          "point_11",
          "point_12",
          "point_13",
          "point_14",
          "point_15",
          "point_16",
          "point_17",
          "point_18",
          "point_19",
          "point_20",
          "point_21",
          "point_22",
          "point_23",
          "point_24",
          "point_25",
          "point_26",
          "point_27",
          "point_28",
          "point_29",
          "point_30",
          "point_31",
          "point_32",
          "point_33",
          "point_34",
          "point_35",
          "point_36",
          "point_37",
          "point_38",
          "point_39",
          "point_40",
          "point_41",
          "point_42",
          "point_43",
          "point_44",
          "point_45",
          "point_46",
          "point_47",
          "point_48",
          "point_49",
          "point_50",
          "point_51",
          "point_52",
          "point_53",
          "point_54",
          "point_55",
          "point_56",
          "point_57",
          "point_58",
          "point_59",
          "point_60",
          "point_61",
          "point_62",
          "point_63",
          "point_64",
          "point_65",
          "point_66",
          "point_67",
          "point_68",
          "point_69",
          "point_70",
          "point_71",
          "point_72",
          "point_73",
          "point_74",
          "point_75",
          "point_76",
          "point_77",
          "point_78",
          "point_79",
          "point_80",
          "point_81",
          "point_82",
          "point_83",
          "point_84",
          "point_85",
          "point_86",
          "point_87",
          "point_88",
          "point_89",
          "point_90",
          "point_91",
          "point_92",
          "point_93",
          "point_94",
          "point_95",
          "point_96",
          "point_97",
          "point_98",
          "point_99"
         ],
         "type": "scatter3d",
         "x": [
          1.764052345967664,
          0.4001572083672233,
          0.9787379841057392,
          2.240893199201458,
          1.8675579901499675,
          -0.977277879876411,
          0.9500884175255894,
          -0.1513572082976979,
          -0.10321885179355784,
          0.41059850193837233,
          0.144043571160878,
          1.454273506962975,
          0.7610377251469934,
          0.12167501649282841,
          0.44386323274542566,
          0.33367432737426683,
          1.4940790731576061,
          -0.20515826376580087,
          0.31306770165090136,
          -0.8540957393017248,
          -2.5529898158340787,
          0.6536185954403606,
          0.8644361988595057,
          -0.7421650204064419,
          2.2697546239876076,
          -1.4543656745987648,
          0.04575851730144607,
          -0.1871838500258336,
          1.5327792143584575,
          1.469358769900285,
          0.1549474256969163,
          0.37816251960217356,
          -0.8877857476301128,
          -1.980796468223927,
          -0.3479121493261526,
          0.15634896910398005,
          1.2302906807277207,
          1.2023798487844113,
          -0.3873268174079523,
          -0.30230275057533557,
          -1.0485529650670926,
          -1.4200179371789752,
          -1.7062701906250126,
          1.9507753952317897,
          -0.5096521817516535,
          -0.4380743016111864,
          -1.2527953600499262,
          0.7774903558319101,
          -1.6138978475579515,
          -0.2127402802139687,
          -0.8954665611936756,
          0.386902497859262,
          -0.510805137568873,
          -1.180632184122412,
          -0.028182228338654868,
          0.42833187053041766,
          0.06651722238316789,
          0.3024718977397814,
          -0.6343220936809636,
          -0.3627411659871381,
          -0.672460447775951,
          -0.3595531615405413,
          -0.813146282044454,
          -1.7262826023316769,
          0.17742614225375283,
          -0.4017809362082619,
          -1.6301983469660446,
          0.4627822555257742,
          -0.9072983643832422,
          0.05194539579613895,
          0.7290905621775369,
          0.12898291075741067,
          1.1394006845433007,
          -1.2348258203536526,
          0.402341641177549,
          -0.6848100909403132,
          -0.8707971491818818,
          -0.5788496647644155,
          -0.31155253212737266,
          0.05616534222974544,
          -1.1651498407833565,
          0.9008264869541871,
          0.46566243973045984,
          -1.5362436862772237,
          1.4882521937955997,
          1.8958891760305832,
          1.1787795711596507,
          -0.17992483581235091,
          -1.0707526215105425,
          1.0544517269311366,
          -0.40317694697317963,
          1.2224450703824274,
          0.2082749780768603,
          0.9766390364837128,
          0.3563663971744019,
          0.7065731681919482,
          0.010500020720820478,
          1.7858704939058352,
          0.12691209270361992,
          0.40198936344470165
         ],
         "y": [
          1.8831506970562544,
          -1.3477590611424464,
          -1.2704849984857336,
          0.9693967081580112,
          -1.17312340511416,
          1.9436211856492926,
          -0.41361898075974735,
          -0.7474548114407578,
          1.9229420264803847,
          1.4805147914344243,
          1.8675589604265699,
          0.9060446582753853,
          -0.8612256850547025,
          1.9100649530990337,
          -0.2680033709513804,
          0.8024563957963952,
          0.947251967773748,
          -0.1550100930908342,
          0.6140793703460803,
          0.9222066715665268,
          0.37642553115562943,
          -1.0994007905841945,
          0.298238174206056,
          1.3263858966870303,
          -0.6945678597313655,
          -0.14963454032767076,
          -0.43515355172163744,
          1.8492637284793418,
          0.6722947570124355,
          0.40746183624111043,
          -0.7699160744453164,
          0.5392491912918173,
          -0.6743326606573761,
          0.03183055827435118,
          -0.635846078378881,
          0.6764332949464997,
          0.5765908166149409,
          -0.20829875557799488,
          0.3960067126616453,
          -1.0930615087305058,
          -1.4912575927056055,
          0.4393917012645369,
          0.16667349537252904,
          0.6350314368921064,
          2.383144774863942,
          0.9444794869904138,
          -0.9128222254441586,
          1.117016288095853,
          -1.3159074105115212,
          -0.461584604814709,
          -0.06824160532463124,
          1.7133427216493666,
          -0.7447548220484399,
          -0.8264385386590144,
          -0.0984525244254323,
          -0.6634782863621074,
          1.126635922106507,
          -1.0799315083634233,
          -1.1474686524111024,
          -0.43782004474443403,
          -0.4980324506923049,
          1.9295320538169858,
          0.9494208069257608,
          0.0875512413851909,
          -1.225435518830168,
          0.8443629764015471,
          -1.0002153473895647,
          -1.5447710967776116,
          1.1880297923523018,
          0.3169426119248496,
          0.920858823780819,
          0.3187276529430212,
          0.8568306119026912,
          -0.6510255933001469,
          -1.0342428417844647,
          0.681594518281627,
          -0.8034096641738411,
          -0.6895497777502005,
          -0.45553250351734315,
          0.01747915902505673,
          -0.35399391125348395,
          -1.3749512934180188,
          -0.6436184028328905,
          -2.2234031522244266,
          0.6252314510271875,
          -1.6020576556067476,
          -1.1043833394284506,
          0.052165079260974405,
          -0.7395629963913133,
          1.5430145954067358,
          -1.2928569097234486,
          0.26705086934918293,
          -0.0392828182274956,
          -1.1680934977411974,
          0.5232766605317537,
          -0.1715463312222481,
          0.7717905512136674,
          0.8235041539637314,
          2.16323594928069,
          1.336527949436392
         ],
         "z": [
          -0.3691818379424436,
          -0.2393791775759264,
          1.0996595958871132,
          0.6552637307225978,
          0.640131526097592,
          -1.6169560443108344,
          -0.024326124398935636,
          -0.7380309092056887,
          0.27992459904323824,
          -0.09815038964295794,
          0.9101789080925919,
          0.31721821519130206,
          0.7863279621089762,
          -0.46641909673594306,
          -0.9444462559182504,
          -0.41004969320254847,
          -0.017020413861440594,
          0.3791517355550818,
          2.259308950690852,
          -0.04225715166064269,
          -0.955945000492777,
          -0.34598177569938643,
          -0.4635959746460942,
          0.4814814737734622,
          -1.5407970144446248,
          0.06326199420033171,
          0.1565065379653756,
          0.23218103620027578,
          -0.5973160689653627,
          -0.237921729736007,
          -1.4240609089825316,
          -0.49331988336219407,
          -0.5428614760167177,
          0.4160500462614255,
          -1.1561824318219127,
          0.7811981017099934,
          1.4944845444913688,
          -2.0699850250135325,
          0.42625873077810095,
          0.6769080350302455,
          -0.637437025552229,
          -0.39727181432879766,
          -0.13288057758695562,
          -0.2977908794017283,
          -0.3090129690471222,
          -1.6760038063299767,
          1.15233156478312,
          1.079618592036821,
          -0.8133642592042029,
          -1.466424327802514,
          0.5210648764527586,
          -0.5757879698130661,
          0.14195316332077967,
          -0.3193284171450952,
          0.6915387510701866,
          0.6947491436560059,
          -0.7255973784635843,
          -1.3833639553950554,
          -1.582938397335082,
          0.6103793791072052,
          -1.188859257784029,
          -0.5068163542986875,
          -0.5963140384505081,
          -0.05256729626954629,
          -1.936279805846507,
          0.18877859679382855,
          0.5238910238342056,
          0.08842208704466141,
          -0.3108861716984717,
          0.09740016626878341,
          0.3990463456401302,
          -2.77259275642665,
          1.9559123082506942,
          0.39009332268792646,
          -0.65240858238702,
          -0.3909533751876011,
          0.49374177734918845,
          -0.11610393903436653,
          -2.0306844677814944,
          2.0644928613593194,
          -0.11054065723247261,
          1.0201727117157997,
          -0.6920498477843912,
          1.5363770542457977,
          0.28634368889227957,
          0.6088438344754508,
          -1.0452533661469547,
          1.2111452896827009,
          0.6898181645347884,
          1.3018462295649984,
          -0.6280875596415789,
          -0.4810271184607877,
          2.303916697683942,
          -1.0600158227215473,
          -0.13594970067832082,
          1.1368913626026953,
          0.0977249677148556,
          0.5829536797532936,
          -0.3994490292628752,
          0.37005588784751875
         ]
        }
       ],
       "layout": {
        "annotations": [
         {
          "showarrow": false,
          "text": "Sample Annotation",
          "x": 0.5,
          "xref": "paper",
          "y": 0.5,
          "yref": "paper"
         }
        ],
        "colorway": [
         "#006E96",
         "#00263D",
         "#B8D87A",
         "#8E847A",
         "#EB6852",
         "#983E53"
        ],
        "font": {
         "color": "black",
         "size": 14
        },
        "images": [
         {
          "layer": "below",
          "opacity": 0.3,
          "sizex": 0.2,
          "sizey": 0.2,
          "source": "https://example.com/logo.png",
          "x": 0.5,
          "xanchor": "center",
          "xref": "paper",
          "y": 0.5,
          "yanchor": "middle",
          "yref": "paper"
         }
        ],
        "paper_bgcolor": "white",
        "plot_bgcolor": "rgba(245, 245, 245, 1)",
        "showlegend": false,
        "template": {
         "data": {
          "bar": [
           {
            "error_x": {
             "color": "#2a3f5f"
            },
            "error_y": {
             "color": "#2a3f5f"
            },
            "marker": {
             "line": {
              "color": "#E5ECF6",
              "width": 0.5
             },
             "pattern": {
              "fillmode": "overlay",
              "size": 10,
              "solidity": 0.2
             }
            },
            "type": "bar"
           }
          ],
          "barpolar": [
           {
            "marker": {
             "line": {
              "color": "#E5ECF6",
              "width": 0.5
             },
             "pattern": {
              "fillmode": "overlay",
              "size": 10,
              "solidity": 0.2
             }
            },
            "type": "barpolar"
           }
          ],
          "carpet": [
           {
            "aaxis": {
             "endlinecolor": "#2a3f5f",
             "gridcolor": "white",
             "linecolor": "white",
             "minorgridcolor": "white",
             "startlinecolor": "#2a3f5f"
            },
            "baxis": {
             "endlinecolor": "#2a3f5f",
             "gridcolor": "white",
             "linecolor": "white",
             "minorgridcolor": "white",
             "startlinecolor": "#2a3f5f"
            },
            "type": "carpet"
           }
          ],
          "choropleth": [
           {
            "colorbar": {
             "outlinewidth": 0,
             "ticks": ""
            },
            "type": "choropleth"
           }
          ],
          "contour": [
           {
            "colorbar": {
             "outlinewidth": 0,
             "ticks": ""
            },
            "colorscale": [
             [
              0,
              "#0d0887"
             ],
             [
              0.1111111111111111,
              "#46039f"
             ],
             [
              0.2222222222222222,
              "#7201a8"
             ],
             [
              0.3333333333333333,
              "#9c179e"
             ],
             [
              0.4444444444444444,
              "#bd3786"
             ],
             [
              0.5555555555555556,
              "#d8576b"
             ],
             [
              0.6666666666666666,
              "#ed7953"
             ],
             [
              0.7777777777777778,
              "#fb9f3a"
             ],
             [
              0.8888888888888888,
              "#fdca26"
             ],
             [
              1,
              "#f0f921"
             ]
            ],
            "type": "contour"
           }
          ],
          "contourcarpet": [
           {
            "colorbar": {
             "outlinewidth": 0,
             "ticks": ""
            },
            "type": "contourcarpet"
           }
          ],
          "heatmap": [
           {
            "colorbar": {
             "outlinewidth": 0,
             "ticks": ""
            },
            "colorscale": [
             [
              0,
              "#0d0887"
             ],
             [
              0.1111111111111111,
              "#46039f"
             ],
             [
              0.2222222222222222,
              "#7201a8"
             ],
             [
              0.3333333333333333,
              "#9c179e"
             ],
             [
              0.4444444444444444,
              "#bd3786"
             ],
             [
              0.5555555555555556,
              "#d8576b"
             ],
             [
              0.6666666666666666,
              "#ed7953"
             ],
             [
              0.7777777777777778,
              "#fb9f3a"
             ],
             [
              0.8888888888888888,
              "#fdca26"
             ],
             [
              1,
              "#f0f921"
             ]
            ],
            "type": "heatmap"
           }
          ],
          "heatmapgl": [
           {
            "colorbar": {
             "outlinewidth": 0,
             "ticks": ""
            },
            "colorscale": [
             [
              0,
              "#0d0887"
             ],
             [
              0.1111111111111111,
              "#46039f"
             ],
             [
              0.2222222222222222,
              "#7201a8"
             ],
             [
              0.3333333333333333,
              "#9c179e"
             ],
             [
              0.4444444444444444,
              "#bd3786"
             ],
             [
              0.5555555555555556,
              "#d8576b"
             ],
             [
              0.6666666666666666,
              "#ed7953"
             ],
             [
              0.7777777777777778,
              "#fb9f3a"
             ],
             [
              0.8888888888888888,
              "#fdca26"
             ],
             [
              1,
              "#f0f921"
             ]
            ],
            "type": "heatmapgl"
           }
          ],
          "histogram": [
           {
            "marker": {
             "pattern": {
              "fillmode": "overlay",
              "size": 10,
              "solidity": 0.2
             }
            },
            "type": "histogram"
           }
          ],
          "histogram2d": [
           {
            "colorbar": {
             "outlinewidth": 0,
             "ticks": ""
            },
            "colorscale": [
             [
              0,
              "#0d0887"
             ],
             [
              0.1111111111111111,
              "#46039f"
             ],
             [
              0.2222222222222222,
              "#7201a8"
             ],
             [
              0.3333333333333333,
              "#9c179e"
             ],
             [
              0.4444444444444444,
              "#bd3786"
             ],
             [
              0.5555555555555556,
              "#d8576b"
             ],
             [
              0.6666666666666666,
              "#ed7953"
             ],
             [
              0.7777777777777778,
              "#fb9f3a"
             ],
             [
              0.8888888888888888,
              "#fdca26"
             ],
             [
              1,
              "#f0f921"
             ]
            ],
            "type": "histogram2d"
           }
          ],
          "histogram2dcontour": [
           {
            "colorbar": {
             "outlinewidth": 0,
             "ticks": ""
            },
            "colorscale": [
             [
              0,
              "#0d0887"
             ],
             [
              0.1111111111111111,
              "#46039f"
             ],
             [
              0.2222222222222222,
              "#7201a8"
             ],
             [
              0.3333333333333333,
              "#9c179e"
             ],
             [
              0.4444444444444444,
              "#bd3786"
             ],
             [
              0.5555555555555556,
              "#d8576b"
             ],
             [
              0.6666666666666666,
              "#ed7953"
             ],
             [
              0.7777777777777778,
              "#fb9f3a"
             ],
             [
              0.8888888888888888,
              "#fdca26"
             ],
             [
              1,
              "#f0f921"
             ]
            ],
            "type": "histogram2dcontour"
           }
          ],
          "mesh3d": [
           {
            "colorbar": {
             "outlinewidth": 0,
             "ticks": ""
            },
            "type": "mesh3d"
           }
          ],
          "parcoords": [
           {
            "line": {
             "colorbar": {
              "outlinewidth": 0,
              "ticks": ""
             }
            },
            "type": "parcoords"
           }
          ],
          "pie": [
           {
            "automargin": true,
            "type": "pie"
           }
          ],
          "scatter": [
           {
            "fillpattern": {
             "fillmode": "overlay",
             "size": 10,
             "solidity": 0.2
            },
            "type": "scatter"
           }
          ],
          "scatter3d": [
           {
            "line": {
             "colorbar": {
              "outlinewidth": 0,
              "ticks": ""
             }
            },
            "marker": {
             "colorbar": {
              "outlinewidth": 0,
              "ticks": ""
             }
            },
            "type": "scatter3d"
           }
          ],
          "scattercarpet": [
           {
            "marker": {
             "colorbar": {
              "outlinewidth": 0,
              "ticks": ""
             }
            },
            "type": "scattercarpet"
           }
          ],
          "scattergeo": [
           {
            "marker": {
             "colorbar": {
              "outlinewidth": 0,
              "ticks": ""
             }
            },
            "type": "scattergeo"
           }
          ],
          "scattergl": [
           {
            "marker": {
             "colorbar": {
              "outlinewidth": 0,
              "ticks": ""
             }
            },
            "type": "scattergl"
           }
          ],
          "scattermapbox": [
           {
            "marker": {
             "colorbar": {
              "outlinewidth": 0,
              "ticks": ""
             }
            },
            "type": "scattermapbox"
           }
          ],
          "scatterpolar": [
           {
            "marker": {
             "colorbar": {
              "outlinewidth": 0,
              "ticks": ""
             }
            },
            "type": "scatterpolar"
           }
          ],
          "scatterpolargl": [
           {
            "marker": {
             "colorbar": {
              "outlinewidth": 0,
              "ticks": ""
             }
            },
            "type": "scatterpolargl"
           }
          ],
          "scatterternary": [
           {
            "marker": {
             "colorbar": {
              "outlinewidth": 0,
              "ticks": ""
             }
            },
            "type": "scatterternary"
           }
          ],
          "surface": [
           {
            "colorbar": {
             "outlinewidth": 0,
             "ticks": ""
            },
            "colorscale": [
             [
              0,
              "#0d0887"
             ],
             [
              0.1111111111111111,
              "#46039f"
             ],
             [
              0.2222222222222222,
              "#7201a8"
             ],
             [
              0.3333333333333333,
              "#9c179e"
             ],
             [
              0.4444444444444444,
              "#bd3786"
             ],
             [
              0.5555555555555556,
              "#d8576b"
             ],
             [
              0.6666666666666666,
              "#ed7953"
             ],
             [
              0.7777777777777778,
              "#fb9f3a"
             ],
             [
              0.8888888888888888,
              "#fdca26"
             ],
             [
              1,
              "#f0f921"
             ]
            ],
            "type": "surface"
           }
          ],
          "table": [
           {
            "cells": {
             "fill": {
              "color": "#EBF0F8"
             },
             "line": {
              "color": "white"
             }
            },
            "header": {
             "fill": {
              "color": "#C8D4E3"
             },
             "line": {
              "color": "white"
             }
            },
            "type": "table"
           }
          ]
         },
         "layout": {
          "annotationdefaults": {
           "arrowcolor": "#2a3f5f",
           "arrowhead": 0,
           "arrowwidth": 1
          },
          "autotypenumbers": "strict",
          "coloraxis": {
           "colorbar": {
            "outlinewidth": 0,
            "ticks": ""
           }
          },
          "colorscale": {
           "diverging": [
            [
             0,
             "#8e0152"
            ],
            [
             0.1,
             "#c51b7d"
            ],
            [
             0.2,
             "#de77ae"
            ],
            [
             0.3,
             "#f1b6da"
            ],
            [
             0.4,
             "#fde0ef"
            ],
            [
             0.5,
             "#f7f7f7"
            ],
            [
             0.6,
             "#e6f5d0"
            ],
            [
             0.7,
             "#b8e186"
            ],
            [
             0.8,
             "#7fbc41"
            ],
            [
             0.9,
             "#4d9221"
            ],
            [
             1,
             "#276419"
            ]
           ],
           "sequential": [
            [
             0,
             "#0d0887"
            ],
            [
             0.1111111111111111,
             "#46039f"
            ],
            [
             0.2222222222222222,
             "#7201a8"
            ],
            [
             0.3333333333333333,
             "#9c179e"
            ],
            [
             0.4444444444444444,
             "#bd3786"
            ],
            [
             0.5555555555555556,
             "#d8576b"
            ],
            [
             0.6666666666666666,
             "#ed7953"
            ],
            [
             0.7777777777777778,
             "#fb9f3a"
            ],
            [
             0.8888888888888888,
             "#fdca26"
            ],
            [
             1,
             "#f0f921"
            ]
           ],
           "sequentialminus": [
            [
             0,
             "#0d0887"
            ],
            [
             0.1111111111111111,
             "#46039f"
            ],
            [
             0.2222222222222222,
             "#7201a8"
            ],
            [
             0.3333333333333333,
             "#9c179e"
            ],
            [
             0.4444444444444444,
             "#bd3786"
            ],
            [
             0.5555555555555556,
             "#d8576b"
            ],
            [
             0.6666666666666666,
             "#ed7953"
            ],
            [
             0.7777777777777778,
             "#fb9f3a"
            ],
            [
             0.8888888888888888,
             "#fdca26"
            ],
            [
             1,
             "#f0f921"
            ]
           ]
          },
          "colorway": [
           "#636efa",
           "#EF553B",
           "#00cc96",
           "#ab63fa",
           "#FFA15A",
           "#19d3f3",
           "#FF6692",
           "#B6E880",
           "#FF97FF",
           "#FECB52"
          ],
          "font": {
           "color": "#2a3f5f"
          },
          "geo": {
           "bgcolor": "white",
           "lakecolor": "white",
           "landcolor": "#E5ECF6",
           "showlakes": true,
           "showland": true,
           "subunitcolor": "white"
          },
          "hoverlabel": {
           "align": "left"
          },
          "hovermode": "closest",
          "mapbox": {
           "style": "light"
          },
          "paper_bgcolor": "white",
          "plot_bgcolor": "#E5ECF6",
          "polar": {
           "angularaxis": {
            "gridcolor": "white",
            "linecolor": "white",
            "ticks": ""
           },
           "bgcolor": "#E5ECF6",
           "radialaxis": {
            "gridcolor": "white",
            "linecolor": "white",
            "ticks": ""
           }
          },
          "scene": {
           "xaxis": {
            "backgroundcolor": "#E5ECF6",
            "gridcolor": "white",
            "gridwidth": 2,
            "linecolor": "white",
            "showbackground": true,
            "ticks": "",
            "zerolinecolor": "white"
           },
           "yaxis": {
            "backgroundcolor": "#E5ECF6",
            "gridcolor": "white",
            "gridwidth": 2,
            "linecolor": "white",
            "showbackground": true,
            "ticks": "",
            "zerolinecolor": "white"
           },
           "zaxis": {
            "backgroundcolor": "#E5ECF6",
            "gridcolor": "white",
            "gridwidth": 2,
            "linecolor": "white",
            "showbackground": true,
            "ticks": "",
            "zerolinecolor": "white"
           }
          },
          "shapedefaults": {
           "line": {
            "color": "#2a3f5f"
           }
          },
          "ternary": {
           "aaxis": {
            "gridcolor": "white",
            "linecolor": "white",
            "ticks": ""
           },
           "baxis": {
            "gridcolor": "white",
            "linecolor": "white",
            "ticks": ""
           },
           "bgcolor": "#E5ECF6",
           "caxis": {
            "gridcolor": "white",
            "linecolor": "white",
            "ticks": ""
           }
          },
          "title": {
           "x": 0.05
          },
          "xaxis": {
           "automargin": true,
           "gridcolor": "white",
           "linecolor": "white",
           "ticks": "",
           "title": {
            "standoff": 15
           },
           "zerolinecolor": "white",
           "zerolinewidth": 2
          },
          "yaxis": {
           "automargin": true,
           "gridcolor": "white",
           "linecolor": "white",
           "ticks": "",
           "title": {
            "standoff": 15
           },
           "zerolinecolor": "white",
           "zerolinewidth": 2
          }
         }
        },
        "title": {
         "text": "3D Scatter Plot with Advanced Features"
        }
       }
      },
      "text/html": [
       "<div>                            <div id=\"e6336f84-b282-425f-9751-324daf6421e5\" class=\"plotly-graph-div\" style=\"height:525px; width:100%;\"></div>            <script type=\"text/javascript\">                require([\"plotly\"], function(Plotly) {                    window.PLOTLYENV=window.PLOTLYENV || {};                                    if (document.getElementById(\"e6336f84-b282-425f-9751-324daf6421e5\")) {                    Plotly.newPlot(                        \"e6336f84-b282-425f-9751-324daf6421e5\",                        [{\"marker\":{\"color\":[-0.3691818379424436,-0.2393791775759264,1.0996595958871132,0.6552637307225978,0.640131526097592,-1.6169560443108344,-0.024326124398935636,-0.7380309092056887,0.27992459904323824,-0.09815038964295794,0.9101789080925919,0.31721821519130206,0.7863279621089762,-0.46641909673594306,-0.9444462559182504,-0.41004969320254847,-0.017020413861440594,0.3791517355550818,2.259308950690852,-0.04225715166064269,-0.955945000492777,-0.34598177569938643,-0.4635959746460942,0.4814814737734622,-1.5407970144446248,0.06326199420033171,0.1565065379653756,0.23218103620027578,-0.5973160689653627,-0.237921729736007,-1.4240609089825316,-0.49331988336219407,-0.5428614760167177,0.4160500462614255,-1.1561824318219127,0.7811981017099934,1.4944845444913688,-2.0699850250135325,0.42625873077810095,0.6769080350302455,-0.637437025552229,-0.39727181432879766,-0.13288057758695562,-0.2977908794017283,-0.3090129690471222,-1.6760038063299767,1.15233156478312,1.079618592036821,-0.8133642592042029,-1.466424327802514,0.5210648764527586,-0.5757879698130661,0.14195316332077967,-0.3193284171450952,0.6915387510701866,0.6947491436560059,-0.7255973784635843,-1.3833639553950554,-1.582938397335082,0.6103793791072052,-1.188859257784029,-0.5068163542986875,-0.5963140384505081,-0.05256729626954629,-1.936279805846507,0.18877859679382855,0.5238910238342056,0.08842208704466141,-0.3108861716984717,0.09740016626878341,0.3990463456401302,-2.77259275642665,1.9559123082506942,0.39009332268792646,-0.65240858238702,-0.3909533751876011,0.49374177734918845,-0.11610393903436653,-2.0306844677814944,2.0644928613593194,-0.11054065723247261,1.0201727117157997,-0.6920498477843912,1.5363770542457977,0.28634368889227957,0.6088438344754508,-1.0452533661469547,1.2111452896827009,0.6898181645347884,1.3018462295649984,-0.6280875596415789,-0.4810271184607877,2.303916697683942,-1.0600158227215473,-0.13594970067832082,1.1368913626026953,0.0977249677148556,0.5829536797532936,-0.3994490292628752,0.37005588784751875],\"colorscale\":[[0.0,\"#440154\"],[0.1111111111111111,\"#482878\"],[0.2222222222222222,\"#3e4989\"],[0.3333333333333333,\"#31688e\"],[0.4444444444444444,\"#26828e\"],[0.5555555555555556,\"#1f9e89\"],[0.6666666666666666,\"#35b779\"],[0.7777777777777778,\"#6ece58\"],[0.8888888888888888,\"#b5de2b\"],[1.0,\"#fde725\"]],\"opacity\":0.8,\"size\":5},\"mode\":\"markers\",\"text\":[\"point_0\",\"point_1\",\"point_2\",\"point_3\",\"point_4\",\"point_5\",\"point_6\",\"point_7\",\"point_8\",\"point_9\",\"point_10\",\"point_11\",\"point_12\",\"point_13\",\"point_14\",\"point_15\",\"point_16\",\"point_17\",\"point_18\",\"point_19\",\"point_20\",\"point_21\",\"point_22\",\"point_23\",\"point_24\",\"point_25\",\"point_26\",\"point_27\",\"point_28\",\"point_29\",\"point_30\",\"point_31\",\"point_32\",\"point_33\",\"point_34\",\"point_35\",\"point_36\",\"point_37\",\"point_38\",\"point_39\",\"point_40\",\"point_41\",\"point_42\",\"point_43\",\"point_44\",\"point_45\",\"point_46\",\"point_47\",\"point_48\",\"point_49\",\"point_50\",\"point_51\",\"point_52\",\"point_53\",\"point_54\",\"point_55\",\"point_56\",\"point_57\",\"point_58\",\"point_59\",\"point_60\",\"point_61\",\"point_62\",\"point_63\",\"point_64\",\"point_65\",\"point_66\",\"point_67\",\"point_68\",\"point_69\",\"point_70\",\"point_71\",\"point_72\",\"point_73\",\"point_74\",\"point_75\",\"point_76\",\"point_77\",\"point_78\",\"point_79\",\"point_80\",\"point_81\",\"point_82\",\"point_83\",\"point_84\",\"point_85\",\"point_86\",\"point_87\",\"point_88\",\"point_89\",\"point_90\",\"point_91\",\"point_92\",\"point_93\",\"point_94\",\"point_95\",\"point_96\",\"point_97\",\"point_98\",\"point_99\"],\"x\":[1.764052345967664,0.4001572083672233,0.9787379841057392,2.240893199201458,1.8675579901499675,-0.977277879876411,0.9500884175255894,-0.1513572082976979,-0.10321885179355784,0.41059850193837233,0.144043571160878,1.454273506962975,0.7610377251469934,0.12167501649282841,0.44386323274542566,0.33367432737426683,1.4940790731576061,-0.20515826376580087,0.31306770165090136,-0.8540957393017248,-2.5529898158340787,0.6536185954403606,0.8644361988595057,-0.7421650204064419,2.2697546239876076,-1.4543656745987648,0.04575851730144607,-0.1871838500258336,1.5327792143584575,1.469358769900285,0.1549474256969163,0.37816251960217356,-0.8877857476301128,-1.980796468223927,-0.3479121493261526,0.15634896910398005,1.2302906807277207,1.2023798487844113,-0.3873268174079523,-0.30230275057533557,-1.0485529650670926,-1.4200179371789752,-1.7062701906250126,1.9507753952317897,-0.5096521817516535,-0.4380743016111864,-1.2527953600499262,0.7774903558319101,-1.6138978475579515,-0.2127402802139687,-0.8954665611936756,0.386902497859262,-0.510805137568873,-1.180632184122412,-0.028182228338654868,0.42833187053041766,0.06651722238316789,0.3024718977397814,-0.6343220936809636,-0.3627411659871381,-0.672460447775951,-0.3595531615405413,-0.813146282044454,-1.7262826023316769,0.17742614225375283,-0.4017809362082619,-1.6301983469660446,0.4627822555257742,-0.9072983643832422,0.05194539579613895,0.7290905621775369,0.12898291075741067,1.1394006845433007,-1.2348258203536526,0.402341641177549,-0.6848100909403132,-0.8707971491818818,-0.5788496647644155,-0.31155253212737266,0.05616534222974544,-1.1651498407833565,0.9008264869541871,0.46566243973045984,-1.5362436862772237,1.4882521937955997,1.8958891760305832,1.1787795711596507,-0.17992483581235091,-1.0707526215105425,1.0544517269311366,-0.40317694697317963,1.2224450703824274,0.2082749780768603,0.9766390364837128,0.3563663971744019,0.7065731681919482,0.010500020720820478,1.7858704939058352,0.12691209270361992,0.40198936344470165],\"y\":[1.8831506970562544,-1.3477590611424464,-1.2704849984857336,0.9693967081580112,-1.17312340511416,1.9436211856492926,-0.41361898075974735,-0.7474548114407578,1.9229420264803847,1.4805147914344243,1.8675589604265699,0.9060446582753853,-0.8612256850547025,1.9100649530990337,-0.2680033709513804,0.8024563957963952,0.947251967773748,-0.1550100930908342,0.6140793703460803,0.9222066715665268,0.37642553115562943,-1.0994007905841945,0.298238174206056,1.3263858966870303,-0.6945678597313655,-0.14963454032767076,-0.43515355172163744,1.8492637284793418,0.6722947570124355,0.40746183624111043,-0.7699160744453164,0.5392491912918173,-0.6743326606573761,0.03183055827435118,-0.635846078378881,0.6764332949464997,0.5765908166149409,-0.20829875557799488,0.3960067126616453,-1.0930615087305058,-1.4912575927056055,0.4393917012645369,0.16667349537252904,0.6350314368921064,2.383144774863942,0.9444794869904138,-0.9128222254441586,1.117016288095853,-1.3159074105115212,-0.461584604814709,-0.06824160532463124,1.7133427216493666,-0.7447548220484399,-0.8264385386590144,-0.0984525244254323,-0.6634782863621074,1.126635922106507,-1.0799315083634233,-1.1474686524111024,-0.43782004474443403,-0.4980324506923049,1.9295320538169858,0.9494208069257608,0.0875512413851909,-1.225435518830168,0.8443629764015471,-1.0002153473895647,-1.5447710967776116,1.1880297923523018,0.3169426119248496,0.920858823780819,0.3187276529430212,0.8568306119026912,-0.6510255933001469,-1.0342428417844647,0.681594518281627,-0.8034096641738411,-0.6895497777502005,-0.45553250351734315,0.01747915902505673,-0.35399391125348395,-1.3749512934180188,-0.6436184028328905,-2.2234031522244266,0.6252314510271875,-1.6020576556067476,-1.1043833394284506,0.052165079260974405,-0.7395629963913133,1.5430145954067358,-1.2928569097234486,0.26705086934918293,-0.0392828182274956,-1.1680934977411974,0.5232766605317537,-0.1715463312222481,0.7717905512136674,0.8235041539637314,2.16323594928069,1.336527949436392],\"z\":[-0.3691818379424436,-0.2393791775759264,1.0996595958871132,0.6552637307225978,0.640131526097592,-1.6169560443108344,-0.024326124398935636,-0.7380309092056887,0.27992459904323824,-0.09815038964295794,0.9101789080925919,0.31721821519130206,0.7863279621089762,-0.46641909673594306,-0.9444462559182504,-0.41004969320254847,-0.017020413861440594,0.3791517355550818,2.259308950690852,-0.04225715166064269,-0.955945000492777,-0.34598177569938643,-0.4635959746460942,0.4814814737734622,-1.5407970144446248,0.06326199420033171,0.1565065379653756,0.23218103620027578,-0.5973160689653627,-0.237921729736007,-1.4240609089825316,-0.49331988336219407,-0.5428614760167177,0.4160500462614255,-1.1561824318219127,0.7811981017099934,1.4944845444913688,-2.0699850250135325,0.42625873077810095,0.6769080350302455,-0.637437025552229,-0.39727181432879766,-0.13288057758695562,-0.2977908794017283,-0.3090129690471222,-1.6760038063299767,1.15233156478312,1.079618592036821,-0.8133642592042029,-1.466424327802514,0.5210648764527586,-0.5757879698130661,0.14195316332077967,-0.3193284171450952,0.6915387510701866,0.6947491436560059,-0.7255973784635843,-1.3833639553950554,-1.582938397335082,0.6103793791072052,-1.188859257784029,-0.5068163542986875,-0.5963140384505081,-0.05256729626954629,-1.936279805846507,0.18877859679382855,0.5238910238342056,0.08842208704466141,-0.3108861716984717,0.09740016626878341,0.3990463456401302,-2.77259275642665,1.9559123082506942,0.39009332268792646,-0.65240858238702,-0.3909533751876011,0.49374177734918845,-0.11610393903436653,-2.0306844677814944,2.0644928613593194,-0.11054065723247261,1.0201727117157997,-0.6920498477843912,1.5363770542457977,0.28634368889227957,0.6088438344754508,-1.0452533661469547,1.2111452896827009,0.6898181645347884,1.3018462295649984,-0.6280875596415789,-0.4810271184607877,2.303916697683942,-1.0600158227215473,-0.13594970067832082,1.1368913626026953,0.0977249677148556,0.5829536797532936,-0.3994490292628752,0.37005588784751875],\"type\":\"scatter3d\"}],                        {\"template\":{\"data\":{\"histogram2dcontour\":[{\"type\":\"histogram2dcontour\",\"colorbar\":{\"outlinewidth\":0,\"ticks\":\"\"},\"colorscale\":[[0.0,\"#0d0887\"],[0.1111111111111111,\"#46039f\"],[0.2222222222222222,\"#7201a8\"],[0.3333333333333333,\"#9c179e\"],[0.4444444444444444,\"#bd3786\"],[0.5555555555555556,\"#d8576b\"],[0.6666666666666666,\"#ed7953\"],[0.7777777777777778,\"#fb9f3a\"],[0.8888888888888888,\"#fdca26\"],[1.0,\"#f0f921\"]]}],\"choropleth\":[{\"type\":\"choropleth\",\"colorbar\":{\"outlinewidth\":0,\"ticks\":\"\"}}],\"histogram2d\":[{\"type\":\"histogram2d\",\"colorbar\":{\"outlinewidth\":0,\"ticks\":\"\"},\"colorscale\":[[0.0,\"#0d0887\"],[0.1111111111111111,\"#46039f\"],[0.2222222222222222,\"#7201a8\"],[0.3333333333333333,\"#9c179e\"],[0.4444444444444444,\"#bd3786\"],[0.5555555555555556,\"#d8576b\"],[0.6666666666666666,\"#ed7953\"],[0.7777777777777778,\"#fb9f3a\"],[0.8888888888888888,\"#fdca26\"],[1.0,\"#f0f921\"]]}],\"heatmap\":[{\"type\":\"heatmap\",\"colorbar\":{\"outlinewidth\":0,\"ticks\":\"\"},\"colorscale\":[[0.0,\"#0d0887\"],[0.1111111111111111,\"#46039f\"],[0.2222222222222222,\"#7201a8\"],[0.3333333333333333,\"#9c179e\"],[0.4444444444444444,\"#bd3786\"],[0.5555555555555556,\"#d8576b\"],[0.6666666666666666,\"#ed7953\"],[0.7777777777777778,\"#fb9f3a\"],[0.8888888888888888,\"#fdca26\"],[1.0,\"#f0f921\"]]}],\"heatmapgl\":[{\"type\":\"heatmapgl\",\"colorbar\":{\"outlinewidth\":0,\"ticks\":\"\"},\"colorscale\":[[0.0,\"#0d0887\"],[0.1111111111111111,\"#46039f\"],[0.2222222222222222,\"#7201a8\"],[0.3333333333333333,\"#9c179e\"],[0.4444444444444444,\"#bd3786\"],[0.5555555555555556,\"#d8576b\"],[0.6666666666666666,\"#ed7953\"],[0.7777777777777778,\"#fb9f3a\"],[0.8888888888888888,\"#fdca26\"],[1.0,\"#f0f921\"]]}],\"contourcarpet\":[{\"type\":\"contourcarpet\",\"colorbar\":{\"outlinewidth\":0,\"ticks\":\"\"}}],\"contour\":[{\"type\":\"contour\",\"colorbar\":{\"outlinewidth\":0,\"ticks\":\"\"},\"colorscale\":[[0.0,\"#0d0887\"],[0.1111111111111111,\"#46039f\"],[0.2222222222222222,\"#7201a8\"],[0.3333333333333333,\"#9c179e\"],[0.4444444444444444,\"#bd3786\"],[0.5555555555555556,\"#d8576b\"],[0.6666666666666666,\"#ed7953\"],[0.7777777777777778,\"#fb9f3a\"],[0.8888888888888888,\"#fdca26\"],[1.0,\"#f0f921\"]]}],\"surface\":[{\"type\":\"surface\",\"colorbar\":{\"outlinewidth\":0,\"ticks\":\"\"},\"colorscale\":[[0.0,\"#0d0887\"],[0.1111111111111111,\"#46039f\"],[0.2222222222222222,\"#7201a8\"],[0.3333333333333333,\"#9c179e\"],[0.4444444444444444,\"#bd3786\"],[0.5555555555555556,\"#d8576b\"],[0.6666666666666666,\"#ed7953\"],[0.7777777777777778,\"#fb9f3a\"],[0.8888888888888888,\"#fdca26\"],[1.0,\"#f0f921\"]]}],\"mesh3d\":[{\"type\":\"mesh3d\",\"colorbar\":{\"outlinewidth\":0,\"ticks\":\"\"}}],\"scatter\":[{\"fillpattern\":{\"fillmode\":\"overlay\",\"size\":10,\"solidity\":0.2},\"type\":\"scatter\"}],\"parcoords\":[{\"type\":\"parcoords\",\"line\":{\"colorbar\":{\"outlinewidth\":0,\"ticks\":\"\"}}}],\"scatterpolargl\":[{\"type\":\"scatterpolargl\",\"marker\":{\"colorbar\":{\"outlinewidth\":0,\"ticks\":\"\"}}}],\"bar\":[{\"error_x\":{\"color\":\"#2a3f5f\"},\"error_y\":{\"color\":\"#2a3f5f\"},\"marker\":{\"line\":{\"color\":\"#E5ECF6\",\"width\":0.5},\"pattern\":{\"fillmode\":\"overlay\",\"size\":10,\"solidity\":0.2}},\"type\":\"bar\"}],\"scattergeo\":[{\"type\":\"scattergeo\",\"marker\":{\"colorbar\":{\"outlinewidth\":0,\"ticks\":\"\"}}}],\"scatterpolar\":[{\"type\":\"scatterpolar\",\"marker\":{\"colorbar\":{\"outlinewidth\":0,\"ticks\":\"\"}}}],\"histogram\":[{\"marker\":{\"pattern\":{\"fillmode\":\"overlay\",\"size\":10,\"solidity\":0.2}},\"type\":\"histogram\"}],\"scattergl\":[{\"type\":\"scattergl\",\"marker\":{\"colorbar\":{\"outlinewidth\":0,\"ticks\":\"\"}}}],\"scatter3d\":[{\"type\":\"scatter3d\",\"line\":{\"colorbar\":{\"outlinewidth\":0,\"ticks\":\"\"}},\"marker\":{\"colorbar\":{\"outlinewidth\":0,\"ticks\":\"\"}}}],\"scattermapbox\":[{\"type\":\"scattermapbox\",\"marker\":{\"colorbar\":{\"outlinewidth\":0,\"ticks\":\"\"}}}],\"scatterternary\":[{\"type\":\"scatterternary\",\"marker\":{\"colorbar\":{\"outlinewidth\":0,\"ticks\":\"\"}}}],\"scattercarpet\":[{\"type\":\"scattercarpet\",\"marker\":{\"colorbar\":{\"outlinewidth\":0,\"ticks\":\"\"}}}],\"carpet\":[{\"aaxis\":{\"endlinecolor\":\"#2a3f5f\",\"gridcolor\":\"white\",\"linecolor\":\"white\",\"minorgridcolor\":\"white\",\"startlinecolor\":\"#2a3f5f\"},\"baxis\":{\"endlinecolor\":\"#2a3f5f\",\"gridcolor\":\"white\",\"linecolor\":\"white\",\"minorgridcolor\":\"white\",\"startlinecolor\":\"#2a3f5f\"},\"type\":\"carpet\"}],\"table\":[{\"cells\":{\"fill\":{\"color\":\"#EBF0F8\"},\"line\":{\"color\":\"white\"}},\"header\":{\"fill\":{\"color\":\"#C8D4E3\"},\"line\":{\"color\":\"white\"}},\"type\":\"table\"}],\"barpolar\":[{\"marker\":{\"line\":{\"color\":\"#E5ECF6\",\"width\":0.5},\"pattern\":{\"fillmode\":\"overlay\",\"size\":10,\"solidity\":0.2}},\"type\":\"barpolar\"}],\"pie\":[{\"automargin\":true,\"type\":\"pie\"}]},\"layout\":{\"autotypenumbers\":\"strict\",\"colorway\":[\"#636efa\",\"#EF553B\",\"#00cc96\",\"#ab63fa\",\"#FFA15A\",\"#19d3f3\",\"#FF6692\",\"#B6E880\",\"#FF97FF\",\"#FECB52\"],\"font\":{\"color\":\"#2a3f5f\"},\"hovermode\":\"closest\",\"hoverlabel\":{\"align\":\"left\"},\"paper_bgcolor\":\"white\",\"plot_bgcolor\":\"#E5ECF6\",\"polar\":{\"bgcolor\":\"#E5ECF6\",\"angularaxis\":{\"gridcolor\":\"white\",\"linecolor\":\"white\",\"ticks\":\"\"},\"radialaxis\":{\"gridcolor\":\"white\",\"linecolor\":\"white\",\"ticks\":\"\"}},\"ternary\":{\"bgcolor\":\"#E5ECF6\",\"aaxis\":{\"gridcolor\":\"white\",\"linecolor\":\"white\",\"ticks\":\"\"},\"baxis\":{\"gridcolor\":\"white\",\"linecolor\":\"white\",\"ticks\":\"\"},\"caxis\":{\"gridcolor\":\"white\",\"linecolor\":\"white\",\"ticks\":\"\"}},\"coloraxis\":{\"colorbar\":{\"outlinewidth\":0,\"ticks\":\"\"}},\"colorscale\":{\"sequential\":[[0.0,\"#0d0887\"],[0.1111111111111111,\"#46039f\"],[0.2222222222222222,\"#7201a8\"],[0.3333333333333333,\"#9c179e\"],[0.4444444444444444,\"#bd3786\"],[0.5555555555555556,\"#d8576b\"],[0.6666666666666666,\"#ed7953\"],[0.7777777777777778,\"#fb9f3a\"],[0.8888888888888888,\"#fdca26\"],[1.0,\"#f0f921\"]],\"sequentialminus\":[[0.0,\"#0d0887\"],[0.1111111111111111,\"#46039f\"],[0.2222222222222222,\"#7201a8\"],[0.3333333333333333,\"#9c179e\"],[0.4444444444444444,\"#bd3786\"],[0.5555555555555556,\"#d8576b\"],[0.6666666666666666,\"#ed7953\"],[0.7777777777777778,\"#fb9f3a\"],[0.8888888888888888,\"#fdca26\"],[1.0,\"#f0f921\"]],\"diverging\":[[0,\"#8e0152\"],[0.1,\"#c51b7d\"],[0.2,\"#de77ae\"],[0.3,\"#f1b6da\"],[0.4,\"#fde0ef\"],[0.5,\"#f7f7f7\"],[0.6,\"#e6f5d0\"],[0.7,\"#b8e186\"],[0.8,\"#7fbc41\"],[0.9,\"#4d9221\"],[1,\"#276419\"]]},\"xaxis\":{\"gridcolor\":\"white\",\"linecolor\":\"white\",\"ticks\":\"\",\"title\":{\"standoff\":15},\"zerolinecolor\":\"white\",\"automargin\":true,\"zerolinewidth\":2},\"yaxis\":{\"gridcolor\":\"white\",\"linecolor\":\"white\",\"ticks\":\"\",\"title\":{\"standoff\":15},\"zerolinecolor\":\"white\",\"automargin\":true,\"zerolinewidth\":2},\"scene\":{\"xaxis\":{\"backgroundcolor\":\"#E5ECF6\",\"gridcolor\":\"white\",\"linecolor\":\"white\",\"showbackground\":true,\"ticks\":\"\",\"zerolinecolor\":\"white\",\"gridwidth\":2},\"yaxis\":{\"backgroundcolor\":\"#E5ECF6\",\"gridcolor\":\"white\",\"linecolor\":\"white\",\"showbackground\":true,\"ticks\":\"\",\"zerolinecolor\":\"white\",\"gridwidth\":2},\"zaxis\":{\"backgroundcolor\":\"#E5ECF6\",\"gridcolor\":\"white\",\"linecolor\":\"white\",\"showbackground\":true,\"ticks\":\"\",\"zerolinecolor\":\"white\",\"gridwidth\":2}},\"shapedefaults\":{\"line\":{\"color\":\"#2a3f5f\"}},\"annotationdefaults\":{\"arrowcolor\":\"#2a3f5f\",\"arrowhead\":0,\"arrowwidth\":1},\"geo\":{\"bgcolor\":\"white\",\"landcolor\":\"#E5ECF6\",\"subunitcolor\":\"white\",\"showland\":true,\"showlakes\":true,\"lakecolor\":\"white\"},\"title\":{\"x\":0.05},\"mapbox\":{\"style\":\"light\"}}},\"annotations\":[{\"showarrow\":false,\"text\":\"Sample Annotation\",\"x\":0.5,\"xref\":\"paper\",\"y\":0.5,\"yref\":\"paper\"}],\"images\":[{\"layer\":\"below\",\"opacity\":0.3,\"sizex\":0.2,\"sizey\":0.2,\"source\":\"https://example.com/logo.png\",\"x\":0.5,\"xanchor\":\"center\",\"xref\":\"paper\",\"y\":0.5,\"yanchor\":\"middle\",\"yref\":\"paper\"}],\"font\":{\"color\":\"black\",\"size\":14},\"title\":{\"text\":\"3D Scatter Plot with Advanced Features\"},\"plot_bgcolor\":\"rgba(245, 245, 245, 1)\",\"paper_bgcolor\":\"white\",\"showlegend\":false,\"colorway\":[\"#006E96\",\"#00263D\",\"#B8D87A\",\"#8E847A\",\"#EB6852\",\"#983E53\"]},                        {\"responsive\": true}                    ).then(function(){\n",
       "                            \n",
       "var gd = document.getElementById('e6336f84-b282-425f-9751-324daf6421e5');\n",
       "var x = new MutationObserver(function (mutations, observer) {{\n",
       "        var display = window.getComputedStyle(gd).display;\n",
       "        if (!display || display === 'none') {{\n",
       "            console.log([gd, 'removed!']);\n",
       "            Plotly.purge(gd);\n",
       "            observer.disconnect();\n",
       "        }}\n",
       "}});\n",
       "\n",
       "// Listen for the removal of the full notebook cells\n",
       "var notebookContainer = gd.closest('#notebook-container');\n",
       "if (notebookContainer) {{\n",
       "    x.observe(notebookContainer, {childList: true});\n",
       "}}\n",
       "\n",
       "// Listen for the clearing of the current output cell\n",
       "var outputEl = gd.closest('.output');\n",
       "if (outputEl) {{\n",
       "    x.observe(outputEl, {childList: true});\n",
       "}}\n",
       "\n",
       "                        })                };                });            </script>        </div>"
      ]
     },
     "metadata": {},
     "output_type": "display_data"
    }
   ],
   "source": [
    "def create_3d_scatter(df):\n",
    "    \"\"\"\n",
    "    Create a 3D scatter plot with basic customization options.\n",
    "    \n",
    "    Args:\n",
    "        df (pd.DataFrame): Input data frame.\n",
    "\n",
    "    Returns:\n",
    "        fig (plotly.graph_objs.Figure): The configured 3D scatter plot.\n",
    "    \"\"\"\n",
    "    fig = go.Figure()\n",
    "\n",
    "    # Add 3D scatter plot points\n",
    "    fig.add_trace(go.Scatter3d(\n",
    "        x=df['x'],\n",
    "        y=df['y'],\n",
    "        z=df['z'],\n",
    "        mode='markers',\n",
    "        text=df['label'],\n",
    "        marker=dict(\n",
    "            size=5,\n",
    "            color=df['z'],\n",
    "            colorscale='Viridis',\n",
    "            opacity=0.8\n",
    "        )\n",
    "    ))\n",
    "    \n",
    "    # Adding annotations\n",
    "    fig.add_annotation(\n",
    "        text=\"Sample Annotation\",  # Arbitrary text annotation\n",
    "        xref=\"paper\", yref=\"paper\",\n",
    "        x=0.5, y=0.5, showarrow=False\n",
    "    )\n",
    "\n",
    "    # Adding CBBI logo watermark as an example (replace with actual graphic location)\n",
    "    fig.add_layout_image(\n",
    "        dict(\n",
    "            source=\"https://example.com/logo.png\",  # Placeholder image\n",
    "            xref=\"paper\", yref=\"paper\",\n",
    "            x=0.5, y=0.5,  # Positioning\n",
    "            sizex=0.2, sizey=0.2,\n",
    "            xanchor=\"center\", yanchor=\"middle\",\n",
    "            opacity=0.3,\n",
    "            layer=\"below\"\n",
    "        )\n",
    "    )\n",
    "    \n",
    "    # Applying global configuration\n",
    "    layout = set_global_plotly_config(\"3D Scatter Plot with Advanced Features\")\n",
    "    fig.update_layout(layout)\n",
    "\n",
    "    return fig\n",
    "\n",
    "# Create and display a 3D scatter plot\n",
    "fig_3d = create_3d_scatter(df_scatter)\n",
    "fig_3d.show()"
   ]
  },
  {
   "cell_type": "markdown",
   "id": "0cd648c5",
   "metadata": {},
   "source": [
    "# Line plot"
   ]
  },
  {
   "cell_type": "markdown",
   "id": "98687e90",
   "metadata": {},
   "source": [
    "### Parameters for the data"
   ]
  },
  {
   "cell_type": "code",
   "execution_count": 18,
   "id": "404f0f43",
   "metadata": {},
   "outputs": [
    {
     "data": {
      "application/vnd.plotly.v1+json": {
       "config": {
        "plotlyServerURL": "https://plot.ly"
       },
       "data": [
        {
         "line": {
          "color": "blue",
          "dash": "solid",
          "width": 2
         },
         "mode": "lines",
         "name": "Main Line",
         "opacity": 0.8,
         "type": "scatter",
         "x": [
          "2023-01-01T00:00:00",
          "2023-01-02T00:00:00",
          "2023-01-03T00:00:00",
          "2023-01-04T00:00:00",
          "2023-01-05T00:00:00",
          "2023-01-06T00:00:00",
          "2023-01-07T00:00:00",
          "2023-01-08T00:00:00",
          "2023-01-09T00:00:00",
          "2023-01-10T00:00:00",
          "2023-01-11T00:00:00",
          "2023-01-12T00:00:00",
          "2023-01-13T00:00:00",
          "2023-01-14T00:00:00",
          "2023-01-15T00:00:00",
          "2023-01-16T00:00:00",
          "2023-01-17T00:00:00",
          "2023-01-18T00:00:00",
          "2023-01-19T00:00:00",
          "2023-01-20T00:00:00",
          "2023-01-21T00:00:00",
          "2023-01-22T00:00:00",
          "2023-01-23T00:00:00",
          "2023-01-24T00:00:00",
          "2023-01-25T00:00:00",
          "2023-01-26T00:00:00",
          "2023-01-27T00:00:00",
          "2023-01-28T00:00:00",
          "2023-01-29T00:00:00",
          "2023-01-30T00:00:00",
          "2023-01-31T00:00:00",
          "2023-02-01T00:00:00",
          "2023-02-02T00:00:00",
          "2023-02-03T00:00:00",
          "2023-02-04T00:00:00",
          "2023-02-05T00:00:00",
          "2023-02-06T00:00:00",
          "2023-02-07T00:00:00",
          "2023-02-08T00:00:00",
          "2023-02-09T00:00:00",
          "2023-02-10T00:00:00",
          "2023-02-11T00:00:00",
          "2023-02-12T00:00:00",
          "2023-02-13T00:00:00",
          "2023-02-14T00:00:00",
          "2023-02-15T00:00:00",
          "2023-02-16T00:00:00",
          "2023-02-17T00:00:00",
          "2023-02-18T00:00:00",
          "2023-02-19T00:00:00",
          "2023-02-20T00:00:00",
          "2023-02-21T00:00:00",
          "2023-02-22T00:00:00",
          "2023-02-23T00:00:00",
          "2023-02-24T00:00:00",
          "2023-02-25T00:00:00",
          "2023-02-26T00:00:00",
          "2023-02-27T00:00:00",
          "2023-02-28T00:00:00",
          "2023-03-01T00:00:00",
          "2023-03-02T00:00:00",
          "2023-03-03T00:00:00",
          "2023-03-04T00:00:00",
          "2023-03-05T00:00:00",
          "2023-03-06T00:00:00",
          "2023-03-07T00:00:00",
          "2023-03-08T00:00:00",
          "2023-03-09T00:00:00",
          "2023-03-10T00:00:00",
          "2023-03-11T00:00:00",
          "2023-03-12T00:00:00",
          "2023-03-13T00:00:00",
          "2023-03-14T00:00:00",
          "2023-03-15T00:00:00",
          "2023-03-16T00:00:00",
          "2023-03-17T00:00:00",
          "2023-03-18T00:00:00",
          "2023-03-19T00:00:00",
          "2023-03-20T00:00:00",
          "2023-03-21T00:00:00",
          "2023-03-22T00:00:00",
          "2023-03-23T00:00:00",
          "2023-03-24T00:00:00",
          "2023-03-25T00:00:00",
          "2023-03-26T00:00:00",
          "2023-03-27T00:00:00",
          "2023-03-28T00:00:00",
          "2023-03-29T00:00:00",
          "2023-03-30T00:00:00",
          "2023-03-31T00:00:00",
          "2023-04-01T00:00:00",
          "2023-04-02T00:00:00",
          "2023-04-03T00:00:00",
          "2023-04-04T00:00:00",
          "2023-04-05T00:00:00",
          "2023-04-06T00:00:00",
          "2023-04-07T00:00:00",
          "2023-04-08T00:00:00",
          "2023-04-09T00:00:00",
          "2023-04-10T00:00:00",
          "2023-04-11T00:00:00",
          "2023-04-12T00:00:00",
          "2023-04-13T00:00:00",
          "2023-04-14T00:00:00",
          "2023-04-15T00:00:00",
          "2023-04-16T00:00:00",
          "2023-04-17T00:00:00",
          "2023-04-18T00:00:00",
          "2023-04-19T00:00:00",
          "2023-04-20T00:00:00",
          "2023-04-21T00:00:00",
          "2023-04-22T00:00:00",
          "2023-04-23T00:00:00",
          "2023-04-24T00:00:00",
          "2023-04-25T00:00:00",
          "2023-04-26T00:00:00",
          "2023-04-27T00:00:00",
          "2023-04-28T00:00:00",
          "2023-04-29T00:00:00",
          "2023-04-30T00:00:00",
          "2023-05-01T00:00:00",
          "2023-05-02T00:00:00",
          "2023-05-03T00:00:00",
          "2023-05-04T00:00:00",
          "2023-05-05T00:00:00",
          "2023-05-06T00:00:00",
          "2023-05-07T00:00:00",
          "2023-05-08T00:00:00",
          "2023-05-09T00:00:00",
          "2023-05-10T00:00:00",
          "2023-05-11T00:00:00",
          "2023-05-12T00:00:00",
          "2023-05-13T00:00:00",
          "2023-05-14T00:00:00",
          "2023-05-15T00:00:00",
          "2023-05-16T00:00:00",
          "2023-05-17T00:00:00",
          "2023-05-18T00:00:00",
          "2023-05-19T00:00:00",
          "2023-05-20T00:00:00",
          "2023-05-21T00:00:00",
          "2023-05-22T00:00:00",
          "2023-05-23T00:00:00",
          "2023-05-24T00:00:00",
          "2023-05-25T00:00:00",
          "2023-05-26T00:00:00",
          "2023-05-27T00:00:00",
          "2023-05-28T00:00:00",
          "2023-05-29T00:00:00",
          "2023-05-30T00:00:00",
          "2023-05-31T00:00:00",
          "2023-06-01T00:00:00",
          "2023-06-02T00:00:00",
          "2023-06-03T00:00:00",
          "2023-06-04T00:00:00",
          "2023-06-05T00:00:00",
          "2023-06-06T00:00:00",
          "2023-06-07T00:00:00",
          "2023-06-08T00:00:00",
          "2023-06-09T00:00:00",
          "2023-06-10T00:00:00",
          "2023-06-11T00:00:00",
          "2023-06-12T00:00:00",
          "2023-06-13T00:00:00",
          "2023-06-14T00:00:00",
          "2023-06-15T00:00:00",
          "2023-06-16T00:00:00",
          "2023-06-17T00:00:00",
          "2023-06-18T00:00:00",
          "2023-06-19T00:00:00",
          "2023-06-20T00:00:00",
          "2023-06-21T00:00:00",
          "2023-06-22T00:00:00",
          "2023-06-23T00:00:00",
          "2023-06-24T00:00:00",
          "2023-06-25T00:00:00",
          "2023-06-26T00:00:00",
          "2023-06-27T00:00:00",
          "2023-06-28T00:00:00",
          "2023-06-29T00:00:00",
          "2023-06-30T00:00:00",
          "2023-07-01T00:00:00",
          "2023-07-02T00:00:00",
          "2023-07-03T00:00:00",
          "2023-07-04T00:00:00",
          "2023-07-05T00:00:00",
          "2023-07-06T00:00:00",
          "2023-07-07T00:00:00",
          "2023-07-08T00:00:00",
          "2023-07-09T00:00:00",
          "2023-07-10T00:00:00",
          "2023-07-11T00:00:00",
          "2023-07-12T00:00:00",
          "2023-07-13T00:00:00",
          "2023-07-14T00:00:00",
          "2023-07-15T00:00:00",
          "2023-07-16T00:00:00",
          "2023-07-17T00:00:00",
          "2023-07-18T00:00:00",
          "2023-07-19T00:00:00",
          "2023-07-20T00:00:00",
          "2023-07-21T00:00:00",
          "2023-07-22T00:00:00",
          "2023-07-23T00:00:00",
          "2023-07-24T00:00:00",
          "2023-07-25T00:00:00",
          "2023-07-26T00:00:00",
          "2023-07-27T00:00:00",
          "2023-07-28T00:00:00",
          "2023-07-29T00:00:00",
          "2023-07-30T00:00:00",
          "2023-07-31T00:00:00",
          "2023-08-01T00:00:00",
          "2023-08-02T00:00:00",
          "2023-08-03T00:00:00",
          "2023-08-04T00:00:00",
          "2023-08-05T00:00:00",
          "2023-08-06T00:00:00",
          "2023-08-07T00:00:00",
          "2023-08-08T00:00:00",
          "2023-08-09T00:00:00",
          "2023-08-10T00:00:00",
          "2023-08-11T00:00:00",
          "2023-08-12T00:00:00",
          "2023-08-13T00:00:00",
          "2023-08-14T00:00:00",
          "2023-08-15T00:00:00",
          "2023-08-16T00:00:00",
          "2023-08-17T00:00:00",
          "2023-08-18T00:00:00",
          "2023-08-19T00:00:00",
          "2023-08-20T00:00:00",
          "2023-08-21T00:00:00",
          "2023-08-22T00:00:00",
          "2023-08-23T00:00:00",
          "2023-08-24T00:00:00",
          "2023-08-25T00:00:00",
          "2023-08-26T00:00:00",
          "2023-08-27T00:00:00",
          "2023-08-28T00:00:00",
          "2023-08-29T00:00:00",
          "2023-08-30T00:00:00",
          "2023-08-31T00:00:00",
          "2023-09-01T00:00:00",
          "2023-09-02T00:00:00",
          "2023-09-03T00:00:00",
          "2023-09-04T00:00:00",
          "2023-09-05T00:00:00",
          "2023-09-06T00:00:00",
          "2023-09-07T00:00:00",
          "2023-09-08T00:00:00",
          "2023-09-09T00:00:00",
          "2023-09-10T00:00:00",
          "2023-09-11T00:00:00",
          "2023-09-12T00:00:00",
          "2023-09-13T00:00:00",
          "2023-09-14T00:00:00",
          "2023-09-15T00:00:00",
          "2023-09-16T00:00:00",
          "2023-09-17T00:00:00",
          "2023-09-18T00:00:00",
          "2023-09-19T00:00:00",
          "2023-09-20T00:00:00",
          "2023-09-21T00:00:00",
          "2023-09-22T00:00:00",
          "2023-09-23T00:00:00",
          "2023-09-24T00:00:00",
          "2023-09-25T00:00:00",
          "2023-09-26T00:00:00",
          "2023-09-27T00:00:00",
          "2023-09-28T00:00:00",
          "2023-09-29T00:00:00",
          "2023-09-30T00:00:00",
          "2023-10-01T00:00:00",
          "2023-10-02T00:00:00",
          "2023-10-03T00:00:00",
          "2023-10-04T00:00:00",
          "2023-10-05T00:00:00",
          "2023-10-06T00:00:00",
          "2023-10-07T00:00:00",
          "2023-10-08T00:00:00",
          "2023-10-09T00:00:00",
          "2023-10-10T00:00:00",
          "2023-10-11T00:00:00",
          "2023-10-12T00:00:00",
          "2023-10-13T00:00:00",
          "2023-10-14T00:00:00",
          "2023-10-15T00:00:00",
          "2023-10-16T00:00:00",
          "2023-10-17T00:00:00",
          "2023-10-18T00:00:00",
          "2023-10-19T00:00:00",
          "2023-10-20T00:00:00",
          "2023-10-21T00:00:00",
          "2023-10-22T00:00:00",
          "2023-10-23T00:00:00",
          "2023-10-24T00:00:00",
          "2023-10-25T00:00:00",
          "2023-10-26T00:00:00",
          "2023-10-27T00:00:00",
          "2023-10-28T00:00:00",
          "2023-10-29T00:00:00",
          "2023-10-30T00:00:00",
          "2023-10-31T00:00:00",
          "2023-11-01T00:00:00",
          "2023-11-02T00:00:00",
          "2023-11-03T00:00:00",
          "2023-11-04T00:00:00",
          "2023-11-05T00:00:00",
          "2023-11-06T00:00:00",
          "2023-11-07T00:00:00",
          "2023-11-08T00:00:00",
          "2023-11-09T00:00:00",
          "2023-11-10T00:00:00",
          "2023-11-11T00:00:00",
          "2023-11-12T00:00:00",
          "2023-11-13T00:00:00",
          "2023-11-14T00:00:00",
          "2023-11-15T00:00:00",
          "2023-11-16T00:00:00",
          "2023-11-17T00:00:00",
          "2023-11-18T00:00:00",
          "2023-11-19T00:00:00",
          "2023-11-20T00:00:00",
          "2023-11-21T00:00:00",
          "2023-11-22T00:00:00",
          "2023-11-23T00:00:00",
          "2023-11-24T00:00:00",
          "2023-11-25T00:00:00",
          "2023-11-26T00:00:00",
          "2023-11-27T00:00:00",
          "2023-11-28T00:00:00",
          "2023-11-29T00:00:00",
          "2023-11-30T00:00:00",
          "2023-12-01T00:00:00",
          "2023-12-02T00:00:00",
          "2023-12-03T00:00:00",
          "2023-12-04T00:00:00",
          "2023-12-05T00:00:00",
          "2023-12-06T00:00:00",
          "2023-12-07T00:00:00",
          "2023-12-08T00:00:00",
          "2023-12-09T00:00:00",
          "2023-12-10T00:00:00",
          "2023-12-11T00:00:00",
          "2023-12-12T00:00:00",
          "2023-12-13T00:00:00",
          "2023-12-14T00:00:00",
          "2023-12-15T00:00:00",
          "2023-12-16T00:00:00",
          "2023-12-17T00:00:00",
          "2023-12-18T00:00:00",
          "2023-12-19T00:00:00",
          "2023-12-20T00:00:00",
          "2023-12-21T00:00:00",
          "2023-12-22T00:00:00",
          "2023-12-23T00:00:00",
          "2023-12-24T00:00:00",
          "2023-12-25T00:00:00",
          "2023-12-26T00:00:00",
          "2023-12-27T00:00:00",
          "2023-12-28T00:00:00",
          "2023-12-29T00:00:00",
          "2023-12-30T00:00:00",
          "2023-12-31T00:00:00"
         ],
         "y": [
          -11.847934526133015,
          5.104857994309561,
          -9.629261196478174,
          4.359549494532008,
          9.258401665128101,
          4.23859136118999,
          -1.7060366720883424,
          2.5407583854972424,
          4.93217144749501,
          6.098212315344158,
          6.7601194212317175,
          7.986066089710426,
          10.359047576896316,
          3.9998225659273565,
          9.578099949789216,
          19.11907029456678,
          10.337756050588798,
          10.76827535925798,
          19.097774015277693,
          1.622664714429721,
          21.02936539328371,
          12.658541949030967,
          17.324621746720936,
          17.66446519657138,
          22.563677585824536,
          17.172084826827202,
          15.768544710074657,
          26.28606839385457,
          8.603351216467825,
          21.14215861713564,
          14.905693502887253,
          18.430538704644576,
          32.8757207025285,
          23.165141008766675,
          24.91950752596107,
          15.579465044390604,
          21.371983687053525,
          26.516465853964327,
          27.81022925252647,
          29.609680609816355,
          27.043003899430897,
          30.0950854449557,
          30.17454097373944,
          19.18765676218133,
          28.93707856892564,
          32.99203029237663,
          32.48698642548648,
          28.087797058613305,
          26.232741455279907,
          25.00723127187471,
          30.265437306514823,
          36.89189908345287,
          21.757034439994722,
          28.489812475296628,
          26.34704486587039,
          36.21112055281277,
          29.738481411902537,
          30.3639007708922,
          31.822716924880915,
          35.30808739949808,
          31.276088852031297,
          18.147474488036977,
          36.21814648719787,
          35.803449797789305,
          32.600449148103394,
          28.351193572542822,
          35.58684571902994,
          35.76409158865363,
          31.541183818490723,
          32.814667120050764,
          29.238147538414307,
          32.970317887558735,
          26.069286928532883,
          35.850155199403844,
          28.96793409477311,
          34.790737304011536,
          26.465233679766197,
          30.42413099737763,
          32.68606038651655,
          24.78399695239228,
          33.497317709697505,
          30.84521990454608,
          23.834066314298894,
          25.820256206929542,
          35.13865860621379,
          36.35363370875521,
          30.965564663064235,
          33.38488966562648,
          32.203258908091115,
          32.44238203409878,
          36.92196507662324,
          22.64267753859233,
          33.23374708275268,
          27.603632713630812,
          28.043395582548317,
          27.293559090385543,
          26.55862771350859,
          21.922716376500574,
          28.579853126105363,
          35.617811734725905,
          26.573210828995148,
          26.42893641109672,
          22.57293077420035,
          24.987574158819527,
          27.463639893823395,
          22.83218485587413,
          21.958087928715024,
          25.780661655004238,
          18.70546798191137,
          24.083456285264084,
          26.442802084611415,
          28.65630809924489,
          20.91559695541959,
          27.712424034710736,
          25.54982997807117,
          14.896896948486699,
          13.285711240779381,
          17.345722284739168,
          23.508478168780968,
          17.49418124391097,
          14.34313216947025,
          24.597861068577405,
          17.761248175623777,
          4.2141241997573164,
          16.893991554322355,
          17.400640581438452,
          15.422318573664748,
          16.038693702593704,
          12.952063210520771,
          6.197648517857498,
          10.440599492132733,
          7.074261462183391,
          6.651007865658898,
          4.516312677339323,
          12.616027824829375,
          10.37038953261518,
          7.173215891788448,
          5.706699479327677,
          8.382233411547563,
          13.448292261084422,
          -2.408388647819553,
          9.06523226662733,
          4.028619525652196,
          -3.080873994923504,
          -3.792667879613342,
          0.9750032375542164,
          6.249180697179644,
          6.739650546494575,
          -0.2875332670908266,
          9.13619211852618,
          10.82072198335728,
          5.352283090446737,
          0.09252677431541656,
          8.361278417649531,
          6.218055927885323,
          6.492553958453398,
          -1.3995340079869698,
          -12.549617765314848,
          11.960849323751766,
          -6.910132114695102,
          0.7466594956505757,
          12.624579563947187,
          2.1834318159939667,
          5.101037561796533,
          -7.318148664075111,
          -8.840499778333143,
          -2.7465163708341316,
          5.255250429724603,
          -2.0297302284488388,
          -4.355979148780966,
          0.5385431536053389,
          4.90584384558263,
          -7.764988086323721,
          -6.613256276995266,
          -4.507835503846811,
          4.921155738343409,
          0.6510093473491774,
          10.183164064852157,
          4.266739962325213,
          -0.5121807589440945,
          6.084176848707149,
          0.9285020639104338,
          -3.5246067625372213,
          3.5456164962018293,
          -3.17339506159154,
          -0.9645145544392517,
          7.32232591186065,
          0.3896159545393212,
          -2.890453570750978,
          -0.9506476693175858,
          6.742265894445586,
          -0.8507172009346786,
          0.27261142204265987,
          -0.033317922993814086,
          3.7650374722853432,
          1.2611822261270564,
          -4.461509388921128,
          -0.5135238307939742,
          -0.3513432228641493,
          10.934761587940839,
          9.202259338433613,
          8.510882310784703,
          3.4982619428055326,
          2.411125867109341,
          4.431867890620951,
          2.2035407084775205,
          20.456302767675027,
          -2.7353216126664837,
          11.845684185096871,
          3.150337829298585,
          9.611667684402862,
          5.766205749661985,
          5.403153542701068,
          6.187352177472653,
          21.271944060695823,
          12.45207911584607,
          9.91952296456701,
          17.1686553123931,
          15.093489381155818,
          19.303924669774112,
          7.25412469607774,
          18.574360466569445,
          21.609664570264005,
          10.136594470536316,
          21.39212789025313,
          28.346413297849608,
          20.512972507793414,
          25.423056165741023,
          25.40425759410918,
          19.255468230087082,
          23.73922922137681,
          16.45821933008115,
          22.79446097038191,
          27.141769325785056,
          30.19533626263827,
          27.473128052760288,
          31.72352474101635,
          23.38549224654701,
          29.170404313150268,
          30.556175090490175,
          40.490210590323024,
          30.955053506501816,
          30.315159029152625,
          33.70164304579411,
          29.783819766376507,
          36.1270778347294,
          34.12094220549301,
          27.771045590948198,
          37.214339174943966,
          36.69683808728445,
          30.896982716642345,
          39.494811018648534,
          48.04505603294598,
          43.96857863772054,
          45.18104884217986,
          36.168434576909576,
          46.00965400528804,
          45.110982465484,
          47.751455204768085,
          47.95038632178614,
          39.762475564705596,
          47.07123953641696,
          44.19809363587982,
          48.43818840609535,
          44.89434382420232,
          56.62764620868442,
          46.445218264518715,
          46.91063490473634,
          52.433668955906406,
          47.32041129673982,
          51.21719791746637,
          49.81440395437957,
          61.632578465667365,
          59.106688663819554,
          55.479422723620075,
          54.38763241204055,
          61.61280498857795,
          59.48600210593954,
          60.48899625900474,
          58.39324424262898,
          50.594984970022715,
          58.97194226249556,
          57.355925179827175,
          63.71348683349783,
          66.00276853094601,
          58.09444408463606,
          64.15186215466002,
          70.89996806130775,
          59.277363779132024,
          71.40543466082006,
          59.097176983371014,
          63.82341481733937,
          63.985485814521304,
          64.41526334185119,
          60.46977061072696,
          61.98636499806234,
          61.87142811887943,
          67.09613349140459,
          67.34625260630658,
          77.04395547745094,
          72.97068173879748,
          63.751326491044395,
          68.09296807627418,
          71.60553790775366,
          66.90752648095558,
          66.5241220439982,
          67.23127355434767,
          71.39413154636765,
          62.8838115461175,
          65.54809549261928,
          69.56305803207184,
          68.78606692127534,
          68.42825446097042,
          65.36650484314622,
          72.04712257367085,
          77.80659366796709,
          69.10613827454459,
          66.02911968863016,
          70.67892612892396,
          64.0942177073108,
          62.915686147948314,
          66.68721574208574,
          53.453186707249756,
          60.42657632068608,
          64.2710441362278,
          59.04401783282569,
          60.4336648379393,
          63.185101998195194,
          56.91227062326407,
          62.841535726234795,
          61.927148876880594,
          64.44921011703698,
          69.79914865647412,
          64.58444421190819,
          63.50887248098492,
          63.57072702673001,
          63.868876485471695,
          57.29556377996781,
          61.441939851185786,
          63.18568289905513,
          54.404130483600674,
          65.19244171236332,
          65.86790301279291,
          56.89195002757911,
          58.42127793507126,
          54.807856112319634,
          62.25863496959063,
          53.01101471747476,
          56.752993719482404,
          53.11228578287077,
          57.19681663804293,
          47.50011590571628,
          62.62725224747065,
          50.69046984324764,
          55.326824293393685,
          53.47429353791488,
          50.23202391863482,
          49.10593680062952,
          57.726050263343495,
          49.91248149033604,
          53.390998668445235,
          47.520393967932876,
          47.78340138814117,
          52.87110696753528,
          54.652042480555586
         ]
        },
        {
         "line": {
          "color": "rgba(0,100,80,0.2)",
          "width": 0
         },
         "mode": "lines",
         "showlegend": false,
         "type": "scatter",
         "x": [
          "2023-01-01T00:00:00",
          "2023-01-02T00:00:00",
          "2023-01-03T00:00:00",
          "2023-01-04T00:00:00",
          "2023-01-05T00:00:00",
          "2023-01-06T00:00:00",
          "2023-01-07T00:00:00",
          "2023-01-08T00:00:00",
          "2023-01-09T00:00:00",
          "2023-01-10T00:00:00",
          "2023-01-11T00:00:00",
          "2023-01-12T00:00:00",
          "2023-01-13T00:00:00",
          "2023-01-14T00:00:00",
          "2023-01-15T00:00:00",
          "2023-01-16T00:00:00",
          "2023-01-17T00:00:00",
          "2023-01-18T00:00:00",
          "2023-01-19T00:00:00",
          "2023-01-20T00:00:00",
          "2023-01-21T00:00:00",
          "2023-01-22T00:00:00",
          "2023-01-23T00:00:00",
          "2023-01-24T00:00:00",
          "2023-01-25T00:00:00",
          "2023-01-26T00:00:00",
          "2023-01-27T00:00:00",
          "2023-01-28T00:00:00",
          "2023-01-29T00:00:00",
          "2023-01-30T00:00:00",
          "2023-01-31T00:00:00",
          "2023-02-01T00:00:00",
          "2023-02-02T00:00:00",
          "2023-02-03T00:00:00",
          "2023-02-04T00:00:00",
          "2023-02-05T00:00:00",
          "2023-02-06T00:00:00",
          "2023-02-07T00:00:00",
          "2023-02-08T00:00:00",
          "2023-02-09T00:00:00",
          "2023-02-10T00:00:00",
          "2023-02-11T00:00:00",
          "2023-02-12T00:00:00",
          "2023-02-13T00:00:00",
          "2023-02-14T00:00:00",
          "2023-02-15T00:00:00",
          "2023-02-16T00:00:00",
          "2023-02-17T00:00:00",
          "2023-02-18T00:00:00",
          "2023-02-19T00:00:00",
          "2023-02-20T00:00:00",
          "2023-02-21T00:00:00",
          "2023-02-22T00:00:00",
          "2023-02-23T00:00:00",
          "2023-02-24T00:00:00",
          "2023-02-25T00:00:00",
          "2023-02-26T00:00:00",
          "2023-02-27T00:00:00",
          "2023-02-28T00:00:00",
          "2023-03-01T00:00:00",
          "2023-03-02T00:00:00",
          "2023-03-03T00:00:00",
          "2023-03-04T00:00:00",
          "2023-03-05T00:00:00",
          "2023-03-06T00:00:00",
          "2023-03-07T00:00:00",
          "2023-03-08T00:00:00",
          "2023-03-09T00:00:00",
          "2023-03-10T00:00:00",
          "2023-03-11T00:00:00",
          "2023-03-12T00:00:00",
          "2023-03-13T00:00:00",
          "2023-03-14T00:00:00",
          "2023-03-15T00:00:00",
          "2023-03-16T00:00:00",
          "2023-03-17T00:00:00",
          "2023-03-18T00:00:00",
          "2023-03-19T00:00:00",
          "2023-03-20T00:00:00",
          "2023-03-21T00:00:00",
          "2023-03-22T00:00:00",
          "2023-03-23T00:00:00",
          "2023-03-24T00:00:00",
          "2023-03-25T00:00:00",
          "2023-03-26T00:00:00",
          "2023-03-27T00:00:00",
          "2023-03-28T00:00:00",
          "2023-03-29T00:00:00",
          "2023-03-30T00:00:00",
          "2023-03-31T00:00:00",
          "2023-04-01T00:00:00",
          "2023-04-02T00:00:00",
          "2023-04-03T00:00:00",
          "2023-04-04T00:00:00",
          "2023-04-05T00:00:00",
          "2023-04-06T00:00:00",
          "2023-04-07T00:00:00",
          "2023-04-08T00:00:00",
          "2023-04-09T00:00:00",
          "2023-04-10T00:00:00",
          "2023-04-11T00:00:00",
          "2023-04-12T00:00:00",
          "2023-04-13T00:00:00",
          "2023-04-14T00:00:00",
          "2023-04-15T00:00:00",
          "2023-04-16T00:00:00",
          "2023-04-17T00:00:00",
          "2023-04-18T00:00:00",
          "2023-04-19T00:00:00",
          "2023-04-20T00:00:00",
          "2023-04-21T00:00:00",
          "2023-04-22T00:00:00",
          "2023-04-23T00:00:00",
          "2023-04-24T00:00:00",
          "2023-04-25T00:00:00",
          "2023-04-26T00:00:00",
          "2023-04-27T00:00:00",
          "2023-04-28T00:00:00",
          "2023-04-29T00:00:00",
          "2023-04-30T00:00:00",
          "2023-05-01T00:00:00",
          "2023-05-02T00:00:00",
          "2023-05-03T00:00:00",
          "2023-05-04T00:00:00",
          "2023-05-05T00:00:00",
          "2023-05-06T00:00:00",
          "2023-05-07T00:00:00",
          "2023-05-08T00:00:00",
          "2023-05-09T00:00:00",
          "2023-05-10T00:00:00",
          "2023-05-11T00:00:00",
          "2023-05-12T00:00:00",
          "2023-05-13T00:00:00",
          "2023-05-14T00:00:00",
          "2023-05-15T00:00:00",
          "2023-05-16T00:00:00",
          "2023-05-17T00:00:00",
          "2023-05-18T00:00:00",
          "2023-05-19T00:00:00",
          "2023-05-20T00:00:00",
          "2023-05-21T00:00:00",
          "2023-05-22T00:00:00",
          "2023-05-23T00:00:00",
          "2023-05-24T00:00:00",
          "2023-05-25T00:00:00",
          "2023-05-26T00:00:00",
          "2023-05-27T00:00:00",
          "2023-05-28T00:00:00",
          "2023-05-29T00:00:00",
          "2023-05-30T00:00:00",
          "2023-05-31T00:00:00",
          "2023-06-01T00:00:00",
          "2023-06-02T00:00:00",
          "2023-06-03T00:00:00",
          "2023-06-04T00:00:00",
          "2023-06-05T00:00:00",
          "2023-06-06T00:00:00",
          "2023-06-07T00:00:00",
          "2023-06-08T00:00:00",
          "2023-06-09T00:00:00",
          "2023-06-10T00:00:00",
          "2023-06-11T00:00:00",
          "2023-06-12T00:00:00",
          "2023-06-13T00:00:00",
          "2023-06-14T00:00:00",
          "2023-06-15T00:00:00",
          "2023-06-16T00:00:00",
          "2023-06-17T00:00:00",
          "2023-06-18T00:00:00",
          "2023-06-19T00:00:00",
          "2023-06-20T00:00:00",
          "2023-06-21T00:00:00",
          "2023-06-22T00:00:00",
          "2023-06-23T00:00:00",
          "2023-06-24T00:00:00",
          "2023-06-25T00:00:00",
          "2023-06-26T00:00:00",
          "2023-06-27T00:00:00",
          "2023-06-28T00:00:00",
          "2023-06-29T00:00:00",
          "2023-06-30T00:00:00",
          "2023-07-01T00:00:00",
          "2023-07-02T00:00:00",
          "2023-07-03T00:00:00",
          "2023-07-04T00:00:00",
          "2023-07-05T00:00:00",
          "2023-07-06T00:00:00",
          "2023-07-07T00:00:00",
          "2023-07-08T00:00:00",
          "2023-07-09T00:00:00",
          "2023-07-10T00:00:00",
          "2023-07-11T00:00:00",
          "2023-07-12T00:00:00",
          "2023-07-13T00:00:00",
          "2023-07-14T00:00:00",
          "2023-07-15T00:00:00",
          "2023-07-16T00:00:00",
          "2023-07-17T00:00:00",
          "2023-07-18T00:00:00",
          "2023-07-19T00:00:00",
          "2023-07-20T00:00:00",
          "2023-07-21T00:00:00",
          "2023-07-22T00:00:00",
          "2023-07-23T00:00:00",
          "2023-07-24T00:00:00",
          "2023-07-25T00:00:00",
          "2023-07-26T00:00:00",
          "2023-07-27T00:00:00",
          "2023-07-28T00:00:00",
          "2023-07-29T00:00:00",
          "2023-07-30T00:00:00",
          "2023-07-31T00:00:00",
          "2023-08-01T00:00:00",
          "2023-08-02T00:00:00",
          "2023-08-03T00:00:00",
          "2023-08-04T00:00:00",
          "2023-08-05T00:00:00",
          "2023-08-06T00:00:00",
          "2023-08-07T00:00:00",
          "2023-08-08T00:00:00",
          "2023-08-09T00:00:00",
          "2023-08-10T00:00:00",
          "2023-08-11T00:00:00",
          "2023-08-12T00:00:00",
          "2023-08-13T00:00:00",
          "2023-08-14T00:00:00",
          "2023-08-15T00:00:00",
          "2023-08-16T00:00:00",
          "2023-08-17T00:00:00",
          "2023-08-18T00:00:00",
          "2023-08-19T00:00:00",
          "2023-08-20T00:00:00",
          "2023-08-21T00:00:00",
          "2023-08-22T00:00:00",
          "2023-08-23T00:00:00",
          "2023-08-24T00:00:00",
          "2023-08-25T00:00:00",
          "2023-08-26T00:00:00",
          "2023-08-27T00:00:00",
          "2023-08-28T00:00:00",
          "2023-08-29T00:00:00",
          "2023-08-30T00:00:00",
          "2023-08-31T00:00:00",
          "2023-09-01T00:00:00",
          "2023-09-02T00:00:00",
          "2023-09-03T00:00:00",
          "2023-09-04T00:00:00",
          "2023-09-05T00:00:00",
          "2023-09-06T00:00:00",
          "2023-09-07T00:00:00",
          "2023-09-08T00:00:00",
          "2023-09-09T00:00:00",
          "2023-09-10T00:00:00",
          "2023-09-11T00:00:00",
          "2023-09-12T00:00:00",
          "2023-09-13T00:00:00",
          "2023-09-14T00:00:00",
          "2023-09-15T00:00:00",
          "2023-09-16T00:00:00",
          "2023-09-17T00:00:00",
          "2023-09-18T00:00:00",
          "2023-09-19T00:00:00",
          "2023-09-20T00:00:00",
          "2023-09-21T00:00:00",
          "2023-09-22T00:00:00",
          "2023-09-23T00:00:00",
          "2023-09-24T00:00:00",
          "2023-09-25T00:00:00",
          "2023-09-26T00:00:00",
          "2023-09-27T00:00:00",
          "2023-09-28T00:00:00",
          "2023-09-29T00:00:00",
          "2023-09-30T00:00:00",
          "2023-10-01T00:00:00",
          "2023-10-02T00:00:00",
          "2023-10-03T00:00:00",
          "2023-10-04T00:00:00",
          "2023-10-05T00:00:00",
          "2023-10-06T00:00:00",
          "2023-10-07T00:00:00",
          "2023-10-08T00:00:00",
          "2023-10-09T00:00:00",
          "2023-10-10T00:00:00",
          "2023-10-11T00:00:00",
          "2023-10-12T00:00:00",
          "2023-10-13T00:00:00",
          "2023-10-14T00:00:00",
          "2023-10-15T00:00:00",
          "2023-10-16T00:00:00",
          "2023-10-17T00:00:00",
          "2023-10-18T00:00:00",
          "2023-10-19T00:00:00",
          "2023-10-20T00:00:00",
          "2023-10-21T00:00:00",
          "2023-10-22T00:00:00",
          "2023-10-23T00:00:00",
          "2023-10-24T00:00:00",
          "2023-10-25T00:00:00",
          "2023-10-26T00:00:00",
          "2023-10-27T00:00:00",
          "2023-10-28T00:00:00",
          "2023-10-29T00:00:00",
          "2023-10-30T00:00:00",
          "2023-10-31T00:00:00",
          "2023-11-01T00:00:00",
          "2023-11-02T00:00:00",
          "2023-11-03T00:00:00",
          "2023-11-04T00:00:00",
          "2023-11-05T00:00:00",
          "2023-11-06T00:00:00",
          "2023-11-07T00:00:00",
          "2023-11-08T00:00:00",
          "2023-11-09T00:00:00",
          "2023-11-10T00:00:00",
          "2023-11-11T00:00:00",
          "2023-11-12T00:00:00",
          "2023-11-13T00:00:00",
          "2023-11-14T00:00:00",
          "2023-11-15T00:00:00",
          "2023-11-16T00:00:00",
          "2023-11-17T00:00:00",
          "2023-11-18T00:00:00",
          "2023-11-19T00:00:00",
          "2023-11-20T00:00:00",
          "2023-11-21T00:00:00",
          "2023-11-22T00:00:00",
          "2023-11-23T00:00:00",
          "2023-11-24T00:00:00",
          "2023-11-25T00:00:00",
          "2023-11-26T00:00:00",
          "2023-11-27T00:00:00",
          "2023-11-28T00:00:00",
          "2023-11-29T00:00:00",
          "2023-11-30T00:00:00",
          "2023-12-01T00:00:00",
          "2023-12-02T00:00:00",
          "2023-12-03T00:00:00",
          "2023-12-04T00:00:00",
          "2023-12-05T00:00:00",
          "2023-12-06T00:00:00",
          "2023-12-07T00:00:00",
          "2023-12-08T00:00:00",
          "2023-12-09T00:00:00",
          "2023-12-10T00:00:00",
          "2023-12-11T00:00:00",
          "2023-12-12T00:00:00",
          "2023-12-13T00:00:00",
          "2023-12-14T00:00:00",
          "2023-12-15T00:00:00",
          "2023-12-16T00:00:00",
          "2023-12-17T00:00:00",
          "2023-12-18T00:00:00",
          "2023-12-19T00:00:00",
          "2023-12-20T00:00:00",
          "2023-12-21T00:00:00",
          "2023-12-22T00:00:00",
          "2023-12-23T00:00:00",
          "2023-12-24T00:00:00",
          "2023-12-25T00:00:00",
          "2023-12-26T00:00:00",
          "2023-12-27T00:00:00",
          "2023-12-28T00:00:00",
          "2023-12-29T00:00:00",
          "2023-12-30T00:00:00",
          "2023-12-31T00:00:00"
         ],
         "y": [
          -9.537199135787898,
          7.1591470689139864,
          -5.857505059334373,
          7.6661441161248085,
          13.654469411779809,
          9.00895797580231,
          1.1914242615431059,
          5.7059707370045585,
          8.390987706482955,
          9.862666696650056,
          11.711680910276568,
          12.078056842200581,
          13.527693098933023,
          6.791125625278743,
          14.411977105055588,
          21.525715593892297,
          14.498553608103073,
          15.544460435135303,
          23.09177077488101,
          4.891828034928085,
          23.626338213060166,
          15.760967915786749,
          21.4452371749813,
          21.61306786909727,
          27.34760608561961,
          21.77266756780533,
          20.21699696687376,
          31.020421019906856,
          11.432362674678973,
          24.250729237554587,
          18.045375214245304,
          22.111890470773915,
          36.88037539115681,
          26.02529105788786,
          26.977894927888972,
          18.77713219536433,
          24.297567565716726,
          31.34302001101847,
          32.4750243741586,
          34.19061264484661,
          31.002003182266627,
          33.12795293905252,
          33.821088775937355,
          23.63333188433045,
          31.23290967509407,
          37.395254933142546,
          34.61052579947084,
          32.53706015225637,
          30.65543286775953,
          27.160253198360977,
          34.1469194409004,
          40.39925830639156,
          24.266492949509868,
          30.934949288328752,
          30.66682224407146,
          39.9141987993233,
          34.68747881665213,
          35.31064410275724,
          36.800717905273714,
          37.66393395459538,
          36.09085726292318,
          20.881183315098667,
          39.59278326647371,
          40.075669465254485,
          35.21131194433509,
          32.05012838920581,
          38.144295963707926,
          38.07829990869751,
          33.890859655779515,
          35.88758422459542,
          31.252112048925856,
          36.24487965116381,
          30.06187824377633,
          39.05521975441581,
          31.225317896332616,
          36.97880389008246,
          29.299583218060782,
          32.932069069008435,
          37.58134530617046,
          27.237687627314536,
          37.91370502191249,
          34.60354372976951,
          27.541927074251777,
          29.356498354700896,
          40.05394783455564,
          39.445168034030125,
          35.329311915925864,
          37.05077198802736,
          35.39015991096829,
          37.30877983401612,
          40.7169129847173,
          24.999428365030372,
          36.48636468574325,
          31.948377896675638,
          32.12463665226596,
          32.04258007989527,
          29.33675986593315,
          26.197297525562046,
          31.959478748288927,
          39.33864097562635,
          31.438350872014,
          31.366795371064253,
          27.157703665977042,
          28.064865422010417,
          32.12674240100535,
          26.74801238879837,
          25.248078270127163,
          27.88788970250569,
          23.015852354486114,
          27.589773027436422,
          30.8013675830066,
          32.9003764972747,
          25.296299059564646,
          30.614377510801035,
          29.952225775274062,
          18.5434359338852,
          16.705689842126812,
          21.37110002620144,
          25.572554217596014,
          19.80113169157375,
          17.219664264972817,
          29.546831398450923,
          20.18048551221864,
          7.205913102034947,
          19.047150748398124,
          20.394447222316632,
          18.383297433197242,
          20.87911521542727,
          17.487525471507933,
          9.345941175585812,
          12.514906666250479,
          11.567354804169526,
          10.63261639709252,
          6.973406128293252,
          17.604241637859936,
          12.671089844887549,
          11.774559516569436,
          8.589497971716744,
          11.688293810523035,
          17.834661841413364,
          1.6241364201624773,
          13.878825389959447,
          7.892040502033346,
          -0.7874435104863458,
          0.860413210112509,
          5.28246981251999,
          10.384792049859609,
          8.90085118855578,
          2.9011349668944053,
          11.638499576904799,
          15.286433708580887,
          9.453868958900326,
          4.7417595662728225,
          13.261003738422023,
          10.542298770462818,
          11.475253208115685,
          2.444775650445927,
          -10.438228953640504,
          14.003603869202653,
          -3.8838204890837362,
          5.217074652853187,
          17.22298368292138,
          7.065869402462001,
          7.296401967442987,
          -5.184435331112119,
          -4.100648989232042,
          0.16862372425445304,
          8.9292126315535,
          2.917604420553291,
          -1.154633544573196,
          4.536157348534859,
          8.108482536478586,
          -3.4604040929353816,
          -3.030112100276668,
          -1.7952660898877624,
          7.735074042118808,
          3.425186984964399,
          13.78012504962784,
          8.376307010372205,
          4.335658941185333,
          10.16643897395609,
          5.272080595797606,
          -1.0178284149435246,
          6.667804371223806,
          0.06794559798325839,
          3.094626135562167,
          10.210001840991271,
          3.2994917187983193,
          0.1772138931716265,
          3.4802585753121105,
          10.475036164575632,
          1.3751146385635247,
          2.5073497211140663,
          3.080542909853684,
          8.064810624103817,
          5.327232505563098,
          -0.33756232496756766,
          3.788106367368317,
          2.510114915794839,
          14.579530433767104,
          12.832317259383922,
          12.729779814324552,
          8.368873650122472,
          5.245095701495739,
          8.811712908892094,
          6.183452354047308,
          24.197016380265406,
          1.5893177253757216,
          16.67778158438117,
          5.260412082906823,
          12.053867991942525,
          10.035067444165332,
          7.6545276014313215,
          9.735723279695932,
          23.931526390620643,
          15.274966227374325,
          14.02504441340026,
          19.259233632199233,
          19.71344766486153,
          22.637361535830923,
          10.761304577799043,
          22.19450435765052,
          25.546297454002488,
          13.17116423040456,
          23.695450361943603,
          31.301550107848136,
          23.017398861861874,
          29.091455704092446,
          28.35834348699034,
          24.129669764067387,
          28.636432055317652,
          20.318596971785873,
          26.646952773383767,
          32.097905019486376,
          34.85718571634383,
          31.768337900234705,
          34.66429657624445,
          26.48210933090124,
          31.774204610432864,
          34.0176194712423,
          45.46131615674176,
          35.69150636553658,
          32.67020733121103,
          35.777213913665626,
          34.479732771601306,
          39.73858821857552,
          36.72151187011838,
          31.792005399702106,
          41.14700870873342,
          39.06309490779385,
          33.67578341713521,
          41.67504491158831,
          50.674637454556404,
          46.36549566227973,
          47.76075771960353,
          40.22483601464893,
          48.15815323807124,
          47.41654631122865,
          50.15397611900295,
          50.900009684660546,
          42.65872649726142,
          49.83643089236688,
          48.44970359617707,
          53.43225676936965,
          48.49627759508871,
          61.46025436242624,
          49.63504860089691,
          49.23068224514448,
          55.659990444315916,
          50.2087946169839,
          54.69741880433391,
          53.78553498512884,
          65.01572912312459,
          63.91217020005303,
          60.13371719051821,
          58.49356519753914,
          65.08185972567159,
          61.88106395138291,
          63.680037259337645,
          62.5064488608325,
          53.44964153168391,
          61.28390649512582,
          62.07962055235906,
          67.84063926294446,
          69.8485978108513,
          62.47194080146281,
          68.65880026741046,
          74.35034505582081,
          63.920928533360346,
          76.15469169292338,
          61.91183026964536,
          67.64605089671176,
          67.56523790098271,
          68.0291006793069,
          65.28275989262065,
          64.90193110614143,
          66.82173005358315,
          71.80252713581729,
          70.72242127214709,
          81.49631526830544,
          77.2778227217579,
          67.78501139989996,
          71.05246974442363,
          74.19489088321652,
          70.92210957125286,
          71.05304193320146,
          69.28003192037977,
          75.32254167229318,
          66.21243061998413,
          70.24235875800024,
          72.52747682463445,
          72.2086213580662,
          71.97255577307598,
          67.78782340725938,
          76.18579948176756,
          82.29802270332998,
          71.27986610523337,
          68.90328615024087,
          72.79306017352914,
          68.96385002137553,
          66.91719261005979,
          71.57981700045008,
          57.04766954224368,
          64.83278189237292,
          67.39428608786702,
          62.10547493054361,
          63.568468289254696,
          67.15868839937448,
          59.990630076329026,
          67.54263808104747,
          66.87697347203105,
          66.540489663048,
          72.3800185276816,
          66.92119418967035,
          65.63596462225925,
          66.25395000677187,
          67.20925644657893,
          61.80653487583386,
          64.10741194271577,
          66.66751866604173,
          59.19298670194094,
          69.19408583272335,
          70.2621400720609,
          60.54493193813556,
          63.362677311593146,
          58.57384257636406,
          64.3951671114784,
          55.60496311729414,
          59.967314606353845,
          56.9161173005921,
          61.51260924026981,
          50.739374283427935,
          66.75742716251771,
          55.06007835257502,
          58.278604885143636,
          58.41210425802234,
          54.18099340434233,
          53.748930982987915,
          61.39386332976932,
          54.137290811793015,
          57.70263085329433,
          52.24513910563661,
          50.234450658755286,
          56.54595724004303,
          57.93717801987316
         ]
        },
        {
         "fill": "tonexty",
         "line": {
          "color": "rgba(0,100,80,0.2)",
          "width": 0
         },
         "mode": "lines",
         "showlegend": false,
         "type": "scatter",
         "x": [
          "2023-01-01T00:00:00",
          "2023-01-02T00:00:00",
          "2023-01-03T00:00:00",
          "2023-01-04T00:00:00",
          "2023-01-05T00:00:00",
          "2023-01-06T00:00:00",
          "2023-01-07T00:00:00",
          "2023-01-08T00:00:00",
          "2023-01-09T00:00:00",
          "2023-01-10T00:00:00",
          "2023-01-11T00:00:00",
          "2023-01-12T00:00:00",
          "2023-01-13T00:00:00",
          "2023-01-14T00:00:00",
          "2023-01-15T00:00:00",
          "2023-01-16T00:00:00",
          "2023-01-17T00:00:00",
          "2023-01-18T00:00:00",
          "2023-01-19T00:00:00",
          "2023-01-20T00:00:00",
          "2023-01-21T00:00:00",
          "2023-01-22T00:00:00",
          "2023-01-23T00:00:00",
          "2023-01-24T00:00:00",
          "2023-01-25T00:00:00",
          "2023-01-26T00:00:00",
          "2023-01-27T00:00:00",
          "2023-01-28T00:00:00",
          "2023-01-29T00:00:00",
          "2023-01-30T00:00:00",
          "2023-01-31T00:00:00",
          "2023-02-01T00:00:00",
          "2023-02-02T00:00:00",
          "2023-02-03T00:00:00",
          "2023-02-04T00:00:00",
          "2023-02-05T00:00:00",
          "2023-02-06T00:00:00",
          "2023-02-07T00:00:00",
          "2023-02-08T00:00:00",
          "2023-02-09T00:00:00",
          "2023-02-10T00:00:00",
          "2023-02-11T00:00:00",
          "2023-02-12T00:00:00",
          "2023-02-13T00:00:00",
          "2023-02-14T00:00:00",
          "2023-02-15T00:00:00",
          "2023-02-16T00:00:00",
          "2023-02-17T00:00:00",
          "2023-02-18T00:00:00",
          "2023-02-19T00:00:00",
          "2023-02-20T00:00:00",
          "2023-02-21T00:00:00",
          "2023-02-22T00:00:00",
          "2023-02-23T00:00:00",
          "2023-02-24T00:00:00",
          "2023-02-25T00:00:00",
          "2023-02-26T00:00:00",
          "2023-02-27T00:00:00",
          "2023-02-28T00:00:00",
          "2023-03-01T00:00:00",
          "2023-03-02T00:00:00",
          "2023-03-03T00:00:00",
          "2023-03-04T00:00:00",
          "2023-03-05T00:00:00",
          "2023-03-06T00:00:00",
          "2023-03-07T00:00:00",
          "2023-03-08T00:00:00",
          "2023-03-09T00:00:00",
          "2023-03-10T00:00:00",
          "2023-03-11T00:00:00",
          "2023-03-12T00:00:00",
          "2023-03-13T00:00:00",
          "2023-03-14T00:00:00",
          "2023-03-15T00:00:00",
          "2023-03-16T00:00:00",
          "2023-03-17T00:00:00",
          "2023-03-18T00:00:00",
          "2023-03-19T00:00:00",
          "2023-03-20T00:00:00",
          "2023-03-21T00:00:00",
          "2023-03-22T00:00:00",
          "2023-03-23T00:00:00",
          "2023-03-24T00:00:00",
          "2023-03-25T00:00:00",
          "2023-03-26T00:00:00",
          "2023-03-27T00:00:00",
          "2023-03-28T00:00:00",
          "2023-03-29T00:00:00",
          "2023-03-30T00:00:00",
          "2023-03-31T00:00:00",
          "2023-04-01T00:00:00",
          "2023-04-02T00:00:00",
          "2023-04-03T00:00:00",
          "2023-04-04T00:00:00",
          "2023-04-05T00:00:00",
          "2023-04-06T00:00:00",
          "2023-04-07T00:00:00",
          "2023-04-08T00:00:00",
          "2023-04-09T00:00:00",
          "2023-04-10T00:00:00",
          "2023-04-11T00:00:00",
          "2023-04-12T00:00:00",
          "2023-04-13T00:00:00",
          "2023-04-14T00:00:00",
          "2023-04-15T00:00:00",
          "2023-04-16T00:00:00",
          "2023-04-17T00:00:00",
          "2023-04-18T00:00:00",
          "2023-04-19T00:00:00",
          "2023-04-20T00:00:00",
          "2023-04-21T00:00:00",
          "2023-04-22T00:00:00",
          "2023-04-23T00:00:00",
          "2023-04-24T00:00:00",
          "2023-04-25T00:00:00",
          "2023-04-26T00:00:00",
          "2023-04-27T00:00:00",
          "2023-04-28T00:00:00",
          "2023-04-29T00:00:00",
          "2023-04-30T00:00:00",
          "2023-05-01T00:00:00",
          "2023-05-02T00:00:00",
          "2023-05-03T00:00:00",
          "2023-05-04T00:00:00",
          "2023-05-05T00:00:00",
          "2023-05-06T00:00:00",
          "2023-05-07T00:00:00",
          "2023-05-08T00:00:00",
          "2023-05-09T00:00:00",
          "2023-05-10T00:00:00",
          "2023-05-11T00:00:00",
          "2023-05-12T00:00:00",
          "2023-05-13T00:00:00",
          "2023-05-14T00:00:00",
          "2023-05-15T00:00:00",
          "2023-05-16T00:00:00",
          "2023-05-17T00:00:00",
          "2023-05-18T00:00:00",
          "2023-05-19T00:00:00",
          "2023-05-20T00:00:00",
          "2023-05-21T00:00:00",
          "2023-05-22T00:00:00",
          "2023-05-23T00:00:00",
          "2023-05-24T00:00:00",
          "2023-05-25T00:00:00",
          "2023-05-26T00:00:00",
          "2023-05-27T00:00:00",
          "2023-05-28T00:00:00",
          "2023-05-29T00:00:00",
          "2023-05-30T00:00:00",
          "2023-05-31T00:00:00",
          "2023-06-01T00:00:00",
          "2023-06-02T00:00:00",
          "2023-06-03T00:00:00",
          "2023-06-04T00:00:00",
          "2023-06-05T00:00:00",
          "2023-06-06T00:00:00",
          "2023-06-07T00:00:00",
          "2023-06-08T00:00:00",
          "2023-06-09T00:00:00",
          "2023-06-10T00:00:00",
          "2023-06-11T00:00:00",
          "2023-06-12T00:00:00",
          "2023-06-13T00:00:00",
          "2023-06-14T00:00:00",
          "2023-06-15T00:00:00",
          "2023-06-16T00:00:00",
          "2023-06-17T00:00:00",
          "2023-06-18T00:00:00",
          "2023-06-19T00:00:00",
          "2023-06-20T00:00:00",
          "2023-06-21T00:00:00",
          "2023-06-22T00:00:00",
          "2023-06-23T00:00:00",
          "2023-06-24T00:00:00",
          "2023-06-25T00:00:00",
          "2023-06-26T00:00:00",
          "2023-06-27T00:00:00",
          "2023-06-28T00:00:00",
          "2023-06-29T00:00:00",
          "2023-06-30T00:00:00",
          "2023-07-01T00:00:00",
          "2023-07-02T00:00:00",
          "2023-07-03T00:00:00",
          "2023-07-04T00:00:00",
          "2023-07-05T00:00:00",
          "2023-07-06T00:00:00",
          "2023-07-07T00:00:00",
          "2023-07-08T00:00:00",
          "2023-07-09T00:00:00",
          "2023-07-10T00:00:00",
          "2023-07-11T00:00:00",
          "2023-07-12T00:00:00",
          "2023-07-13T00:00:00",
          "2023-07-14T00:00:00",
          "2023-07-15T00:00:00",
          "2023-07-16T00:00:00",
          "2023-07-17T00:00:00",
          "2023-07-18T00:00:00",
          "2023-07-19T00:00:00",
          "2023-07-20T00:00:00",
          "2023-07-21T00:00:00",
          "2023-07-22T00:00:00",
          "2023-07-23T00:00:00",
          "2023-07-24T00:00:00",
          "2023-07-25T00:00:00",
          "2023-07-26T00:00:00",
          "2023-07-27T00:00:00",
          "2023-07-28T00:00:00",
          "2023-07-29T00:00:00",
          "2023-07-30T00:00:00",
          "2023-07-31T00:00:00",
          "2023-08-01T00:00:00",
          "2023-08-02T00:00:00",
          "2023-08-03T00:00:00",
          "2023-08-04T00:00:00",
          "2023-08-05T00:00:00",
          "2023-08-06T00:00:00",
          "2023-08-07T00:00:00",
          "2023-08-08T00:00:00",
          "2023-08-09T00:00:00",
          "2023-08-10T00:00:00",
          "2023-08-11T00:00:00",
          "2023-08-12T00:00:00",
          "2023-08-13T00:00:00",
          "2023-08-14T00:00:00",
          "2023-08-15T00:00:00",
          "2023-08-16T00:00:00",
          "2023-08-17T00:00:00",
          "2023-08-18T00:00:00",
          "2023-08-19T00:00:00",
          "2023-08-20T00:00:00",
          "2023-08-21T00:00:00",
          "2023-08-22T00:00:00",
          "2023-08-23T00:00:00",
          "2023-08-24T00:00:00",
          "2023-08-25T00:00:00",
          "2023-08-26T00:00:00",
          "2023-08-27T00:00:00",
          "2023-08-28T00:00:00",
          "2023-08-29T00:00:00",
          "2023-08-30T00:00:00",
          "2023-08-31T00:00:00",
          "2023-09-01T00:00:00",
          "2023-09-02T00:00:00",
          "2023-09-03T00:00:00",
          "2023-09-04T00:00:00",
          "2023-09-05T00:00:00",
          "2023-09-06T00:00:00",
          "2023-09-07T00:00:00",
          "2023-09-08T00:00:00",
          "2023-09-09T00:00:00",
          "2023-09-10T00:00:00",
          "2023-09-11T00:00:00",
          "2023-09-12T00:00:00",
          "2023-09-13T00:00:00",
          "2023-09-14T00:00:00",
          "2023-09-15T00:00:00",
          "2023-09-16T00:00:00",
          "2023-09-17T00:00:00",
          "2023-09-18T00:00:00",
          "2023-09-19T00:00:00",
          "2023-09-20T00:00:00",
          "2023-09-21T00:00:00",
          "2023-09-22T00:00:00",
          "2023-09-23T00:00:00",
          "2023-09-24T00:00:00",
          "2023-09-25T00:00:00",
          "2023-09-26T00:00:00",
          "2023-09-27T00:00:00",
          "2023-09-28T00:00:00",
          "2023-09-29T00:00:00",
          "2023-09-30T00:00:00",
          "2023-10-01T00:00:00",
          "2023-10-02T00:00:00",
          "2023-10-03T00:00:00",
          "2023-10-04T00:00:00",
          "2023-10-05T00:00:00",
          "2023-10-06T00:00:00",
          "2023-10-07T00:00:00",
          "2023-10-08T00:00:00",
          "2023-10-09T00:00:00",
          "2023-10-10T00:00:00",
          "2023-10-11T00:00:00",
          "2023-10-12T00:00:00",
          "2023-10-13T00:00:00",
          "2023-10-14T00:00:00",
          "2023-10-15T00:00:00",
          "2023-10-16T00:00:00",
          "2023-10-17T00:00:00",
          "2023-10-18T00:00:00",
          "2023-10-19T00:00:00",
          "2023-10-20T00:00:00",
          "2023-10-21T00:00:00",
          "2023-10-22T00:00:00",
          "2023-10-23T00:00:00",
          "2023-10-24T00:00:00",
          "2023-10-25T00:00:00",
          "2023-10-26T00:00:00",
          "2023-10-27T00:00:00",
          "2023-10-28T00:00:00",
          "2023-10-29T00:00:00",
          "2023-10-30T00:00:00",
          "2023-10-31T00:00:00",
          "2023-11-01T00:00:00",
          "2023-11-02T00:00:00",
          "2023-11-03T00:00:00",
          "2023-11-04T00:00:00",
          "2023-11-05T00:00:00",
          "2023-11-06T00:00:00",
          "2023-11-07T00:00:00",
          "2023-11-08T00:00:00",
          "2023-11-09T00:00:00",
          "2023-11-10T00:00:00",
          "2023-11-11T00:00:00",
          "2023-11-12T00:00:00",
          "2023-11-13T00:00:00",
          "2023-11-14T00:00:00",
          "2023-11-15T00:00:00",
          "2023-11-16T00:00:00",
          "2023-11-17T00:00:00",
          "2023-11-18T00:00:00",
          "2023-11-19T00:00:00",
          "2023-11-20T00:00:00",
          "2023-11-21T00:00:00",
          "2023-11-22T00:00:00",
          "2023-11-23T00:00:00",
          "2023-11-24T00:00:00",
          "2023-11-25T00:00:00",
          "2023-11-26T00:00:00",
          "2023-11-27T00:00:00",
          "2023-11-28T00:00:00",
          "2023-11-29T00:00:00",
          "2023-11-30T00:00:00",
          "2023-12-01T00:00:00",
          "2023-12-02T00:00:00",
          "2023-12-03T00:00:00",
          "2023-12-04T00:00:00",
          "2023-12-05T00:00:00",
          "2023-12-06T00:00:00",
          "2023-12-07T00:00:00",
          "2023-12-08T00:00:00",
          "2023-12-09T00:00:00",
          "2023-12-10T00:00:00",
          "2023-12-11T00:00:00",
          "2023-12-12T00:00:00",
          "2023-12-13T00:00:00",
          "2023-12-14T00:00:00",
          "2023-12-15T00:00:00",
          "2023-12-16T00:00:00",
          "2023-12-17T00:00:00",
          "2023-12-18T00:00:00",
          "2023-12-19T00:00:00",
          "2023-12-20T00:00:00",
          "2023-12-21T00:00:00",
          "2023-12-22T00:00:00",
          "2023-12-23T00:00:00",
          "2023-12-24T00:00:00",
          "2023-12-25T00:00:00",
          "2023-12-26T00:00:00",
          "2023-12-27T00:00:00",
          "2023-12-28T00:00:00",
          "2023-12-29T00:00:00",
          "2023-12-30T00:00:00",
          "2023-12-31T00:00:00"
         ],
         "y": [
          -14.158669916478132,
          3.0505689197051353,
          -13.401017333621976,
          1.0529548729392073,
          4.862333918476393,
          -0.531775253422329,
          -4.603497605719791,
          -0.6244539660100736,
          1.4733551885070657,
          2.3337579340382604,
          1.8085579321868668,
          3.894075337220271,
          7.190402054859609,
          1.2085195065759704,
          4.744222794522844,
          16.71242499524126,
          6.176958493074523,
          5.992090283380659,
          15.103777255674377,
          -1.6464986060686426,
          18.432392573507258,
          9.556115982275186,
          13.20400631846057,
          13.715862524045491,
          17.77974908602946,
          12.571502085849078,
          11.320092453275553,
          21.551715767802285,
          5.7743397582566764,
          18.03358799671669,
          11.766011791529202,
          14.749186938515235,
          28.871066013900183,
          20.30499095964549,
          22.861120124033167,
          12.381797893416877,
          18.446399808390325,
          21.689911696910183,
          23.145434130894337,
          25.028748574786096,
          23.084004616595166,
          27.062217950858884,
          26.527993171541524,
          14.741981640032211,
          26.641247462757207,
          28.58880565161072,
          30.363447051502114,
          23.638533964970236,
          21.810050042800285,
          22.85420934538844,
          26.383955172129248,
          33.38453986051418,
          19.247575930479577,
          26.044675662264503,
          22.02726748766932,
          32.508042306302244,
          24.78948400715294,
          25.417157439027168,
          26.844715944488115,
          32.95224084440078,
          26.46132044113941,
          15.413765660975288,
          32.84350970792203,
          31.531230130324126,
          29.989586351871697,
          24.65225875587983,
          33.02939547435195,
          33.449883268609746,
          29.191507981201926,
          29.741750015506106,
          27.224183027902757,
          29.695756123953668,
          22.076695613289434,
          32.64509064439188,
          26.710550293213604,
          32.60267071794061,
          23.63088414147161,
          27.916192925746827,
          27.79077546686264,
          22.330306277470022,
          29.080930397482515,
          27.086896079322646,
          20.12620555434601,
          22.28401405915819,
          30.223369377871933,
          33.2620993834803,
          26.601817410202607,
          29.719007343225602,
          29.016357905213937,
          27.575984234181433,
          33.12701716852918,
          20.28592671215429,
          29.98112947976211,
          23.258887530585987,
          23.962154512830676,
          22.54453810087582,
          23.780495561084027,
          17.648135227439102,
          25.2002275039218,
          31.89698249382546,
          21.708070785976297,
          21.49107745112919,
          17.98815788242366,
          21.910282895628637,
          22.800537386641437,
          18.91635732294989,
          18.668097587302885,
          23.673433607502787,
          14.395083609336622,
          20.577139543091747,
          22.08423658621623,
          24.41223970121508,
          16.534894851274537,
          24.810470558620437,
          21.147434180868277,
          11.250357963088197,
          9.865732639431952,
          13.320344543276896,
          21.444402119965922,
          15.187230796248187,
          11.466600073967683,
          19.648890738703887,
          15.342010839028912,
          1.2223352974796855,
          14.740832360246584,
          14.406833940560274,
          12.461339714132254,
          11.198272189760138,
          8.41660094953361,
          3.0493558601291837,
          8.366292318014988,
          2.5811681201972565,
          2.669399334225278,
          2.059219226385394,
          7.627814011798813,
          8.069689220342811,
          2.5718722670074596,
          2.8239009869386096,
          5.0761730125720925,
          9.061922680755478,
          -6.4409137158015835,
          4.251639143295213,
          0.1651985492710466,
          -5.374304479360662,
          -8.445748969339192,
          -3.332463337411557,
          2.1135693444996777,
          4.578449904433369,
          -3.4762015010760585,
          6.6338846601475625,
          6.355010258133674,
          1.250697221993149,
          -4.556706017641989,
          3.46155309687704,
          1.8938130853078272,
          1.5098547087911127,
          -5.243843666419867,
          -14.661006576989191,
          9.91809477830088,
          -9.93644374030647,
          -3.723755661552035,
          8.026175444972994,
          -2.699005770474067,
          2.9056731561500775,
          -9.451861997038105,
          -13.580350567434245,
          -5.661656465922716,
          1.5812882278957048,
          -6.977064877450969,
          -7.557324752988736,
          -3.4590710413241808,
          1.7032051546866738,
          -12.06957207971206,
          -10.196400453713863,
          -7.22040491780586,
          2.1072374345680105,
          -2.1231682902660447,
          6.586203080076475,
          0.15717291427822033,
          -5.360020459073521,
          2.001914723458209,
          -3.415076467976738,
          -6.031385110130918,
          0.42342862117985236,
          -6.4147357211663385,
          -5.02365524444067,
          4.434649982730029,
          -2.5202598097196773,
          -5.9581210346735825,
          -5.3815539139472826,
          3.0094956243155395,
          -3.076549040432882,
          -1.9621268770287466,
          -3.147178755841312,
          -0.5347356795331311,
          -2.8048680533089847,
          -8.585456452874688,
          -4.8151540289562655,
          -3.2128013615231374,
          7.289992742114575,
          5.5722014174833046,
          4.291984807244855,
          -1.3723497645114069,
          -0.422843967277057,
          0.052022872349806626,
          -1.776370937092267,
          16.715589155084647,
          -7.059960950708689,
          7.013586785812573,
          1.040263575690346,
          7.1694673768632,
          1.4973440551586377,
          3.151779483970814,
          2.638981075249374,
          18.612361730771003,
          9.629192004317815,
          5.814001515733761,
          15.078076992586965,
          10.473531097450106,
          15.970487803717301,
          3.746944814356437,
          14.954216575488369,
          17.673031686525523,
          7.102024710668072,
          19.088805418562654,
          25.39127648785108,
          18.008546153724954,
          21.7546566273896,
          22.45017170122802,
          14.381266696106778,
          18.84202638743597,
          12.597841688376425,
          18.94196916738005,
          22.185633632083736,
          25.533486808932714,
          23.17791820528587,
          28.78275290578825,
          20.28887516219278,
          26.56660401586767,
          27.09473070973805,
          35.51910502390429,
          26.21860064746705,
          27.960110727094218,
          31.626072177922588,
          25.087906761151707,
          32.515567450883275,
          31.52037254086764,
          23.75008578219429,
          33.28166964115451,
          34.33058126677505,
          28.118182016149486,
          37.31457712570876,
          45.415474611335554,
          41.57166161316135,
          42.60133996475619,
          32.11203313917022,
          43.86115477250484,
          42.80541861973935,
          45.34893429053322,
          45.000762958911736,
          36.86622463214977,
          44.306048180467045,
          39.94648367558257,
          43.44412004282105,
          41.29241005331593,
          51.795038054942594,
          43.25538792814052,
          44.5905875643282,
          49.207347467496895,
          44.43202797649574,
          47.73697703059884,
          45.8432729236303,
          58.24942780821014,
          54.301207127586075,
          50.82512825672194,
          50.281699626541965,
          58.1437502514843,
          57.09094026049617,
          57.29795525867184,
          54.28003962442546,
          47.74032840836152,
          56.6599780298653,
          52.63222980729529,
          59.5863344040512,
          62.156939251040725,
          53.71694736780931,
          59.6449240419096,
          67.44959106679468,
          54.6337990249037,
          66.65617762871675,
          56.28252369709667,
          60.00077873796699,
          60.4057337280599,
          60.80142600439548,
          55.656781328833276,
          59.07079888998325,
          56.9211261841757,
          62.38973984699189,
          63.97008394046607,
          72.59159568659643,
          68.66354075583706,
          59.71764158218883,
          65.13346640812472,
          69.0161849322908,
          62.89294339065831,
          61.99520215479495,
          65.18251518831556,
          67.46572142044211,
          59.55519247225086,
          60.85383222723833,
          66.59863923950923,
          65.36351248448447,
          64.88395314886486,
          62.94518627903306,
          67.90844566557413,
          73.31516463260421,
          66.93241044385582,
          63.154953227019455,
          68.56479208431878,
          59.22458539324607,
          58.91417968583684,
          61.794614483721396,
          49.85870387225583,
          56.02037074899924,
          61.14780218458858,
          55.98256073510777,
          57.2988613866239,
          59.21151559701591,
          53.833911170199116,
          58.14043337142212,
          56.97732428173013,
          62.35793057102597,
          67.21827878526663,
          62.24769423414603,
          61.38178033971059,
          60.88750404668815,
          60.52849652436445,
          52.78459268410175,
          58.7764677596558,
          59.703847132068525,
          49.61527426526041,
          61.19079759200329,
          61.473665953524915,
          53.23896811702265,
          53.47987855854937,
          51.04186964827521,
          60.122102827702854,
          50.417066317655376,
          53.53867283261096,
          49.30845426514944,
          52.881024035816054,
          44.26085752800462,
          58.497077332423586,
          46.32086133392026,
          52.37504370164373,
          48.536482817807425,
          46.283054432927315,
          44.46294261827113,
          54.05823719691767,
          45.68767216887907,
          49.07936648359614,
          42.79564883022914,
          45.33235211752706,
          49.196256695027536,
          51.366906941238014
         ]
        },
        {
         "line": {
          "color": "#EB6852",
          "dash": "dash",
          "width": 2
         },
         "mode": "lines",
         "name": "Smoothed Line",
         "type": "scatter",
         "x": [
          "2023-01-01T00:00:00",
          "2023-01-02T00:00:00",
          "2023-01-03T00:00:00",
          "2023-01-04T00:00:00",
          "2023-01-05T00:00:00",
          "2023-01-06T00:00:00",
          "2023-01-07T00:00:00",
          "2023-01-08T00:00:00",
          "2023-01-09T00:00:00",
          "2023-01-10T00:00:00",
          "2023-01-11T00:00:00",
          "2023-01-12T00:00:00",
          "2023-01-13T00:00:00",
          "2023-01-14T00:00:00",
          "2023-01-15T00:00:00",
          "2023-01-16T00:00:00",
          "2023-01-17T00:00:00",
          "2023-01-18T00:00:00",
          "2023-01-19T00:00:00",
          "2023-01-20T00:00:00",
          "2023-01-21T00:00:00",
          "2023-01-22T00:00:00",
          "2023-01-23T00:00:00",
          "2023-01-24T00:00:00",
          "2023-01-25T00:00:00",
          "2023-01-26T00:00:00",
          "2023-01-27T00:00:00",
          "2023-01-28T00:00:00",
          "2023-01-29T00:00:00",
          "2023-01-30T00:00:00",
          "2023-01-31T00:00:00",
          "2023-02-01T00:00:00",
          "2023-02-02T00:00:00",
          "2023-02-03T00:00:00",
          "2023-02-04T00:00:00",
          "2023-02-05T00:00:00",
          "2023-02-06T00:00:00",
          "2023-02-07T00:00:00",
          "2023-02-08T00:00:00",
          "2023-02-09T00:00:00",
          "2023-02-10T00:00:00",
          "2023-02-11T00:00:00",
          "2023-02-12T00:00:00",
          "2023-02-13T00:00:00",
          "2023-02-14T00:00:00",
          "2023-02-15T00:00:00",
          "2023-02-16T00:00:00",
          "2023-02-17T00:00:00",
          "2023-02-18T00:00:00",
          "2023-02-19T00:00:00",
          "2023-02-20T00:00:00",
          "2023-02-21T00:00:00",
          "2023-02-22T00:00:00",
          "2023-02-23T00:00:00",
          "2023-02-24T00:00:00",
          "2023-02-25T00:00:00",
          "2023-02-26T00:00:00",
          "2023-02-27T00:00:00",
          "2023-02-28T00:00:00",
          "2023-03-01T00:00:00",
          "2023-03-02T00:00:00",
          "2023-03-03T00:00:00",
          "2023-03-04T00:00:00",
          "2023-03-05T00:00:00",
          "2023-03-06T00:00:00",
          "2023-03-07T00:00:00",
          "2023-03-08T00:00:00",
          "2023-03-09T00:00:00",
          "2023-03-10T00:00:00",
          "2023-03-11T00:00:00",
          "2023-03-12T00:00:00",
          "2023-03-13T00:00:00",
          "2023-03-14T00:00:00",
          "2023-03-15T00:00:00",
          "2023-03-16T00:00:00",
          "2023-03-17T00:00:00",
          "2023-03-18T00:00:00",
          "2023-03-19T00:00:00",
          "2023-03-20T00:00:00",
          "2023-03-21T00:00:00",
          "2023-03-22T00:00:00",
          "2023-03-23T00:00:00",
          "2023-03-24T00:00:00",
          "2023-03-25T00:00:00",
          "2023-03-26T00:00:00",
          "2023-03-27T00:00:00",
          "2023-03-28T00:00:00",
          "2023-03-29T00:00:00",
          "2023-03-30T00:00:00",
          "2023-03-31T00:00:00",
          "2023-04-01T00:00:00",
          "2023-04-02T00:00:00",
          "2023-04-03T00:00:00",
          "2023-04-04T00:00:00",
          "2023-04-05T00:00:00",
          "2023-04-06T00:00:00",
          "2023-04-07T00:00:00",
          "2023-04-08T00:00:00",
          "2023-04-09T00:00:00",
          "2023-04-10T00:00:00",
          "2023-04-11T00:00:00",
          "2023-04-12T00:00:00",
          "2023-04-13T00:00:00",
          "2023-04-14T00:00:00",
          "2023-04-15T00:00:00",
          "2023-04-16T00:00:00",
          "2023-04-17T00:00:00",
          "2023-04-18T00:00:00",
          "2023-04-19T00:00:00",
          "2023-04-20T00:00:00",
          "2023-04-21T00:00:00",
          "2023-04-22T00:00:00",
          "2023-04-23T00:00:00",
          "2023-04-24T00:00:00",
          "2023-04-25T00:00:00",
          "2023-04-26T00:00:00",
          "2023-04-27T00:00:00",
          "2023-04-28T00:00:00",
          "2023-04-29T00:00:00",
          "2023-04-30T00:00:00",
          "2023-05-01T00:00:00",
          "2023-05-02T00:00:00",
          "2023-05-03T00:00:00",
          "2023-05-04T00:00:00",
          "2023-05-05T00:00:00",
          "2023-05-06T00:00:00",
          "2023-05-07T00:00:00",
          "2023-05-08T00:00:00",
          "2023-05-09T00:00:00",
          "2023-05-10T00:00:00",
          "2023-05-11T00:00:00",
          "2023-05-12T00:00:00",
          "2023-05-13T00:00:00",
          "2023-05-14T00:00:00",
          "2023-05-15T00:00:00",
          "2023-05-16T00:00:00",
          "2023-05-17T00:00:00",
          "2023-05-18T00:00:00",
          "2023-05-19T00:00:00",
          "2023-05-20T00:00:00",
          "2023-05-21T00:00:00",
          "2023-05-22T00:00:00",
          "2023-05-23T00:00:00",
          "2023-05-24T00:00:00",
          "2023-05-25T00:00:00",
          "2023-05-26T00:00:00",
          "2023-05-27T00:00:00",
          "2023-05-28T00:00:00",
          "2023-05-29T00:00:00",
          "2023-05-30T00:00:00",
          "2023-05-31T00:00:00",
          "2023-06-01T00:00:00",
          "2023-06-02T00:00:00",
          "2023-06-03T00:00:00",
          "2023-06-04T00:00:00",
          "2023-06-05T00:00:00",
          "2023-06-06T00:00:00",
          "2023-06-07T00:00:00",
          "2023-06-08T00:00:00",
          "2023-06-09T00:00:00",
          "2023-06-10T00:00:00",
          "2023-06-11T00:00:00",
          "2023-06-12T00:00:00",
          "2023-06-13T00:00:00",
          "2023-06-14T00:00:00",
          "2023-06-15T00:00:00",
          "2023-06-16T00:00:00",
          "2023-06-17T00:00:00",
          "2023-06-18T00:00:00",
          "2023-06-19T00:00:00",
          "2023-06-20T00:00:00",
          "2023-06-21T00:00:00",
          "2023-06-22T00:00:00",
          "2023-06-23T00:00:00",
          "2023-06-24T00:00:00",
          "2023-06-25T00:00:00",
          "2023-06-26T00:00:00",
          "2023-06-27T00:00:00",
          "2023-06-28T00:00:00",
          "2023-06-29T00:00:00",
          "2023-06-30T00:00:00",
          "2023-07-01T00:00:00",
          "2023-07-02T00:00:00",
          "2023-07-03T00:00:00",
          "2023-07-04T00:00:00",
          "2023-07-05T00:00:00",
          "2023-07-06T00:00:00",
          "2023-07-07T00:00:00",
          "2023-07-08T00:00:00",
          "2023-07-09T00:00:00",
          "2023-07-10T00:00:00",
          "2023-07-11T00:00:00",
          "2023-07-12T00:00:00",
          "2023-07-13T00:00:00",
          "2023-07-14T00:00:00",
          "2023-07-15T00:00:00",
          "2023-07-16T00:00:00",
          "2023-07-17T00:00:00",
          "2023-07-18T00:00:00",
          "2023-07-19T00:00:00",
          "2023-07-20T00:00:00",
          "2023-07-21T00:00:00",
          "2023-07-22T00:00:00",
          "2023-07-23T00:00:00",
          "2023-07-24T00:00:00",
          "2023-07-25T00:00:00",
          "2023-07-26T00:00:00",
          "2023-07-27T00:00:00",
          "2023-07-28T00:00:00",
          "2023-07-29T00:00:00",
          "2023-07-30T00:00:00",
          "2023-07-31T00:00:00",
          "2023-08-01T00:00:00",
          "2023-08-02T00:00:00",
          "2023-08-03T00:00:00",
          "2023-08-04T00:00:00",
          "2023-08-05T00:00:00",
          "2023-08-06T00:00:00",
          "2023-08-07T00:00:00",
          "2023-08-08T00:00:00",
          "2023-08-09T00:00:00",
          "2023-08-10T00:00:00",
          "2023-08-11T00:00:00",
          "2023-08-12T00:00:00",
          "2023-08-13T00:00:00",
          "2023-08-14T00:00:00",
          "2023-08-15T00:00:00",
          "2023-08-16T00:00:00",
          "2023-08-17T00:00:00",
          "2023-08-18T00:00:00",
          "2023-08-19T00:00:00",
          "2023-08-20T00:00:00",
          "2023-08-21T00:00:00",
          "2023-08-22T00:00:00",
          "2023-08-23T00:00:00",
          "2023-08-24T00:00:00",
          "2023-08-25T00:00:00",
          "2023-08-26T00:00:00",
          "2023-08-27T00:00:00",
          "2023-08-28T00:00:00",
          "2023-08-29T00:00:00",
          "2023-08-30T00:00:00",
          "2023-08-31T00:00:00",
          "2023-09-01T00:00:00",
          "2023-09-02T00:00:00",
          "2023-09-03T00:00:00",
          "2023-09-04T00:00:00",
          "2023-09-05T00:00:00",
          "2023-09-06T00:00:00",
          "2023-09-07T00:00:00",
          "2023-09-08T00:00:00",
          "2023-09-09T00:00:00",
          "2023-09-10T00:00:00",
          "2023-09-11T00:00:00",
          "2023-09-12T00:00:00",
          "2023-09-13T00:00:00",
          "2023-09-14T00:00:00",
          "2023-09-15T00:00:00",
          "2023-09-16T00:00:00",
          "2023-09-17T00:00:00",
          "2023-09-18T00:00:00",
          "2023-09-19T00:00:00",
          "2023-09-20T00:00:00",
          "2023-09-21T00:00:00",
          "2023-09-22T00:00:00",
          "2023-09-23T00:00:00",
          "2023-09-24T00:00:00",
          "2023-09-25T00:00:00",
          "2023-09-26T00:00:00",
          "2023-09-27T00:00:00",
          "2023-09-28T00:00:00",
          "2023-09-29T00:00:00",
          "2023-09-30T00:00:00",
          "2023-10-01T00:00:00",
          "2023-10-02T00:00:00",
          "2023-10-03T00:00:00",
          "2023-10-04T00:00:00",
          "2023-10-05T00:00:00",
          "2023-10-06T00:00:00",
          "2023-10-07T00:00:00",
          "2023-10-08T00:00:00",
          "2023-10-09T00:00:00",
          "2023-10-10T00:00:00",
          "2023-10-11T00:00:00",
          "2023-10-12T00:00:00",
          "2023-10-13T00:00:00",
          "2023-10-14T00:00:00",
          "2023-10-15T00:00:00",
          "2023-10-16T00:00:00",
          "2023-10-17T00:00:00",
          "2023-10-18T00:00:00",
          "2023-10-19T00:00:00",
          "2023-10-20T00:00:00",
          "2023-10-21T00:00:00",
          "2023-10-22T00:00:00",
          "2023-10-23T00:00:00",
          "2023-10-24T00:00:00",
          "2023-10-25T00:00:00",
          "2023-10-26T00:00:00",
          "2023-10-27T00:00:00",
          "2023-10-28T00:00:00",
          "2023-10-29T00:00:00",
          "2023-10-30T00:00:00",
          "2023-10-31T00:00:00",
          "2023-11-01T00:00:00",
          "2023-11-02T00:00:00",
          "2023-11-03T00:00:00",
          "2023-11-04T00:00:00",
          "2023-11-05T00:00:00",
          "2023-11-06T00:00:00",
          "2023-11-07T00:00:00",
          "2023-11-08T00:00:00",
          "2023-11-09T00:00:00",
          "2023-11-10T00:00:00",
          "2023-11-11T00:00:00",
          "2023-11-12T00:00:00",
          "2023-11-13T00:00:00",
          "2023-11-14T00:00:00",
          "2023-11-15T00:00:00",
          "2023-11-16T00:00:00",
          "2023-11-17T00:00:00",
          "2023-11-18T00:00:00",
          "2023-11-19T00:00:00",
          "2023-11-20T00:00:00",
          "2023-11-21T00:00:00",
          "2023-11-22T00:00:00",
          "2023-11-23T00:00:00",
          "2023-11-24T00:00:00",
          "2023-11-25T00:00:00",
          "2023-11-26T00:00:00",
          "2023-11-27T00:00:00",
          "2023-11-28T00:00:00",
          "2023-11-29T00:00:00",
          "2023-11-30T00:00:00",
          "2023-12-01T00:00:00",
          "2023-12-02T00:00:00",
          "2023-12-03T00:00:00",
          "2023-12-04T00:00:00",
          "2023-12-05T00:00:00",
          "2023-12-06T00:00:00",
          "2023-12-07T00:00:00",
          "2023-12-08T00:00:00",
          "2023-12-09T00:00:00",
          "2023-12-10T00:00:00",
          "2023-12-11T00:00:00",
          "2023-12-12T00:00:00",
          "2023-12-13T00:00:00",
          "2023-12-14T00:00:00",
          "2023-12-15T00:00:00",
          "2023-12-16T00:00:00",
          "2023-12-17T00:00:00",
          "2023-12-18T00:00:00",
          "2023-12-19T00:00:00",
          "2023-12-20T00:00:00",
          "2023-12-21T00:00:00",
          "2023-12-22T00:00:00",
          "2023-12-23T00:00:00",
          "2023-12-24T00:00:00",
          "2023-12-25T00:00:00",
          "2023-12-26T00:00:00",
          "2023-12-27T00:00:00",
          "2023-12-28T00:00:00",
          "2023-12-29T00:00:00",
          "2023-12-30T00:00:00",
          "2023-12-31T00:00:00"
         ],
         "y": [
          -3.94664981324831,
          -2.830129855996752,
          -1.0031454039121703,
          0.8919139921579727,
          2.273567355162511,
          2.961305172516851,
          3.27875903080412,
          3.722063850287717,
          4.520971329009653,
          5.549574344873425,
          6.569309409878002,
          7.474430424197557,
          8.35809663633018,
          9.378874984693422,
          10.529858112014768,
          11.569630095936153,
          12.250771295031452,
          12.584861592896978,
          12.845293696372995,
          13.348574941530856,
          14.233708811828357,
          15.401538163979641,
          16.612300356895066,
          17.617987055795208,
          18.2497341998566,
          18.466610561180183,
          18.355324656037535,
          18.110762763387488,
          18.04529027760575,
          18.51437989783616,
          19.665539611494772,
          21.19689720604881,
          22.468932970521834,
          23.010446829498235,
          22.969933896827804,
          22.995583630111597,
          23.633753444332037,
          24.87611737400576,
          26.264227126979343,
          27.316613573375662,
          27.81716222230905,
          27.855193979959353,
          27.75479587799989,
          27.892585518528936,
          28.383041825573372,
          28.929058981243,
          29.125324303036237,
          28.91730014733308,
          28.641705532234443,
          28.60581655766825,
          28.754364554996805,
          28.846077890050946,
          28.863019801232884,
          29.056774656602002,
          29.588000545567503,
          30.30227448671785,
          30.912877462271624,
          31.237623209269856,
          31.216524918672725,
          30.907908504031,
          30.583553695920696,
          30.62346397919751,
          31.14171084634726,
          31.85657798643606,
          32.434829714044824,
          32.79274503716597,
          32.96655666955853,
          32.90908544217569,
          32.561423828851304,
          32.01369793780239,
          31.481169019833153,
          31.150304328349257,
          31.06028673519893,
          31.083680860127718,
          31.02881143445662,
          30.799759584550785,
          30.460327558410484,
          30.135499764148676,
          29.87979552625324,
          29.65205450386194,
          29.40871572125127,
          29.248426414360633,
          29.434137347795257,
          30.14647430225436,
          31.200305774910994,
          32.14381927983408,
          32.65768145317305,
          32.73783115721064,
          32.504174523830855,
          31.999674591857172,
          31.240493821395972,
          30.336225624705904,
          29.441479787280606,
          28.628427525152897,
          27.902710075439778,
          27.33894822637593,
          27.112034143312407,
          27.312935173822364,
          27.72314752902212,
          27.88241058790512,
          27.485153980848395,
          26.66013242071737,
          25.785647822663798,
          25.096229098665443,
          24.55783037334681,
          24.06556797069602,
          23.64390267757036,
          23.44342578603281,
          23.594688838569027,
          24.05052334402919,
          24.541660769823384,
          24.706736675099073,
          24.272618564947113,
          23.153017210657104,
          21.52508319203472,
          19.865501922779032,
          18.720298232659076,
          18.28517333807493,
          18.278557746448087,
          18.24485720065743,
          17.87007600054951,
          17.078302184708186,
          16.06726626058067,
          15.23887214564116,
          14.853033678204078,
          14.716774729909906,
          14.345608973003834,
          13.416344113508746,
          12.008231366848918,
          10.47559521777677,
          9.181559116731169,
          8.346301927104662,
          8.030636189885545,
          8.12497246719381,
          8.353365442340504,
          8.429173979862792,
          8.254952048432312,
          7.891942084369518,
          7.352022593385973,
          6.539692733359126,
          5.3922166959464874,
          3.9872757254715174,
          2.570280987395966,
          1.548184324257717,
          1.3127819266464005,
          1.9232550752446085,
          3.0356901850819877,
          4.2113680948200125,
          5.18799003754811,
          5.832090745859787,
          6.048048110110498,
          5.866768634306046,
          5.447224348480228,
          4.835688600617307,
          3.8754711673539664,
          2.526336387731055,
          1.1626943945720403,
          0.36754420670206733,
          0.4471096243856616,
          1.220242776417384,
          2.1413826467528434,
          2.5302119342158704,
          1.91940883891848,
          0.4472387040572846,
          -1.1379214941567821,
          -2.041671716162976,
          -2.0555492007444878,
          -1.5953831654889172,
          -1.18635949854019,
          -1.0786323748753577,
          -1.3066229689090194,
          -1.7857267888680308,
          -2.195825598535898,
          -2.0252997410158216,
          -0.982288012009101,
          0.6752991505349514,
          2.2965879562326963,
          3.2973089294220053,
          3.4815196349598247,
          3.0228601460730666,
          2.235181356997007,
          1.4003823080600957,
          0.7435131684919327,
          0.42473075785225345,
          0.46811862931671494,
          0.7100957911863769,
          0.8957472224052667,
          0.9078771167827346,
          0.8628217675362537,
          0.9099293886663105,
          1.0202132719431423,
          1.0685568322689987,
          1.0107618585443978,
          0.8663583450591618,
          0.6506525551810809,
          0.4868871843967078,
          0.7069999852152836,
          1.6359753227310119,
          3.2005909890063933,
          4.829077795293513,
          5.845214607684264,
          6.001951620517422,
          5.654334933566826,
          5.424594889285567,
          5.683150265756303,
          6.29449740905707,
          6.8367215957077745,
          7.044090980495653,
          6.996122013453407,
          6.939335318385798,
          7.093891574040114,
          7.649233683692445,
          8.732002505327593,
          10.23384518204314,
          11.779318392450518,
          13.01567740935483,
          13.875808488526925,
          14.473412524851232,
          14.895289890912988,
          15.224553613967824,
          15.635162286588649,
          16.31235592170038,
          17.346047034882513,
          18.72658719692881,
          20.309659286468648,
          21.76971115251994,
          22.74352933161864,
          23.064165791927717,
          22.84510847035595,
          22.42319210299075,
          22.251663712802042,
          22.713924093922692,
          23.883554529168503,
          25.433179272516,
          26.852581572190992,
          27.830193314517956,
          28.470559885994227,
          29.154794490492492,
          30.145300208310086,
          31.295232128424367,
          32.18727502669078,
          32.571074132253756,
          32.59149241633533,
          32.57146609292262,
          32.68554675521806,
          32.91200880151202,
          33.22316730191345,
          33.70830435241348,
          34.51975914064983,
          35.78200680180991,
          37.51881561933777,
          39.51797489956429,
          41.307791088989795,
          42.4752686827155,
          43.05150276071267,
          43.45499753189319,
          44.02037068189398,
          44.682394425487956,
          45.15110934199122,
          45.30862649678047,
          45.358546057235046,
          45.620766566006395,
          46.25481918673479,
          47.16663820090484,
          48.09543437456128,
          48.785603757503736,
          49.17114849486485,
          49.42794246492075,
          49.84662157297121,
          50.67233691199064,
          51.9966363523898,
          53.6592327762778,
          55.26853449722268,
          56.47665102080366,
          57.25881201202587,
          57.8225215461822,
          58.25613649524178,
          58.4149532769147,
          58.194054452084416,
          57.81469834327221,
          57.74988825972408,
          58.344490063535304,
          59.52666699926057,
          60.91002886534689,
          62.1507629311601,
          63.15441698486052,
          63.947487385281235,
          64.47642716526,
          64.63567559389699,
          64.43445421672311,
          64.03526315666879,
          63.62244901305664,
          63.2822542215092,
          63.057691596147855,
          63.09402474377963,
          63.642351706671384,
          64.85800876524104,
          66.57530777578134,
          68.28283982459595,
          69.39578190772491,
          69.66311512370231,
          69.32480565349329,
          68.81906599959004,
          68.3982143206309,
          68.07530594411169,
          67.79735404782635,
          67.53722537556854,
          67.30941963625176,
          67.19934199583236,
          67.31391878557797,
          67.66306628410986,
          68.17519791915583,
          68.82095333196938,
          69.57231467531906,
          70.21500919681657,
          70.37519092228345,
          69.8262478008911,
          68.6729000096026,
          67.18443753005997,
          65.56377053284572,
          63.93808727119027,
          62.48137987453544,
          61.4231276513294,
          60.88379018502448,
          60.748401310905805,
          60.77879791345974,
          60.83952163875641,
          60.98608463843483,
          61.378784679373744,
          62.12293852216866,
          63.12905362711379,
          64.09218825875328,
          64.64821729263639,
          64.60425561523817,
          64.03079519067188,
          63.159425528102304,
          62.24123914088189,
          61.48192831646679,
          61.01515145561994,
          60.86894522127484,
          60.92638285570544,
          60.91709574561118,
          60.55437362240511,
          59.779106697844185,
          58.810435638738454,
          57.89305643718703,
          57.08427197374574,
          56.32587758969119,
          55.61840332120926,
          55.04981477724087,
          54.69855726617928,
          54.53417868151034,
          54.3963017479072,
          54.09751796594687,
          53.58448305215758,
          52.991756355081115,
          52.52197358359465,
          52.24634086348252,
          52.02619532861229,
          51.67989160427163,
          51.24037166807751,
          50.98345128409326,
          51.15265190194026,
          51.65993469994156,
          52.10078942350078
         ]
        }
       ],
       "layout": {
        "annotations": [
         {
          "showarrow": false,
          "text": "Sample Annotation",
          "x": 0.5,
          "xref": "paper",
          "y": 0.5,
          "yref": "paper"
         }
        ],
        "colorway": [
         "#006E96",
         "#00263D",
         "#B8D87A",
         "#8E847A",
         "#EB6852",
         "#983E53"
        ],
        "font": {
         "color": "black",
         "size": 14
        },
        "images": [
         {
          "layer": "below",
          "opacity": 0.3,
          "sizex": 0.2,
          "sizey": 0.2,
          "source": "https://example.com/logo.png",
          "x": 0.5,
          "xanchor": "center",
          "xref": "paper",
          "y": 0.5,
          "yanchor": "middle",
          "yref": "paper"
         }
        ],
        "paper_bgcolor": "white",
        "plot_bgcolor": "rgba(245, 245, 245, 1)",
        "showlegend": false,
        "template": {
         "data": {
          "bar": [
           {
            "error_x": {
             "color": "#2a3f5f"
            },
            "error_y": {
             "color": "#2a3f5f"
            },
            "marker": {
             "line": {
              "color": "#E5ECF6",
              "width": 0.5
             },
             "pattern": {
              "fillmode": "overlay",
              "size": 10,
              "solidity": 0.2
             }
            },
            "type": "bar"
           }
          ],
          "barpolar": [
           {
            "marker": {
             "line": {
              "color": "#E5ECF6",
              "width": 0.5
             },
             "pattern": {
              "fillmode": "overlay",
              "size": 10,
              "solidity": 0.2
             }
            },
            "type": "barpolar"
           }
          ],
          "carpet": [
           {
            "aaxis": {
             "endlinecolor": "#2a3f5f",
             "gridcolor": "white",
             "linecolor": "white",
             "minorgridcolor": "white",
             "startlinecolor": "#2a3f5f"
            },
            "baxis": {
             "endlinecolor": "#2a3f5f",
             "gridcolor": "white",
             "linecolor": "white",
             "minorgridcolor": "white",
             "startlinecolor": "#2a3f5f"
            },
            "type": "carpet"
           }
          ],
          "choropleth": [
           {
            "colorbar": {
             "outlinewidth": 0,
             "ticks": ""
            },
            "type": "choropleth"
           }
          ],
          "contour": [
           {
            "colorbar": {
             "outlinewidth": 0,
             "ticks": ""
            },
            "colorscale": [
             [
              0,
              "#0d0887"
             ],
             [
              0.1111111111111111,
              "#46039f"
             ],
             [
              0.2222222222222222,
              "#7201a8"
             ],
             [
              0.3333333333333333,
              "#9c179e"
             ],
             [
              0.4444444444444444,
              "#bd3786"
             ],
             [
              0.5555555555555556,
              "#d8576b"
             ],
             [
              0.6666666666666666,
              "#ed7953"
             ],
             [
              0.7777777777777778,
              "#fb9f3a"
             ],
             [
              0.8888888888888888,
              "#fdca26"
             ],
             [
              1,
              "#f0f921"
             ]
            ],
            "type": "contour"
           }
          ],
          "contourcarpet": [
           {
            "colorbar": {
             "outlinewidth": 0,
             "ticks": ""
            },
            "type": "contourcarpet"
           }
          ],
          "heatmap": [
           {
            "colorbar": {
             "outlinewidth": 0,
             "ticks": ""
            },
            "colorscale": [
             [
              0,
              "#0d0887"
             ],
             [
              0.1111111111111111,
              "#46039f"
             ],
             [
              0.2222222222222222,
              "#7201a8"
             ],
             [
              0.3333333333333333,
              "#9c179e"
             ],
             [
              0.4444444444444444,
              "#bd3786"
             ],
             [
              0.5555555555555556,
              "#d8576b"
             ],
             [
              0.6666666666666666,
              "#ed7953"
             ],
             [
              0.7777777777777778,
              "#fb9f3a"
             ],
             [
              0.8888888888888888,
              "#fdca26"
             ],
             [
              1,
              "#f0f921"
             ]
            ],
            "type": "heatmap"
           }
          ],
          "heatmapgl": [
           {
            "colorbar": {
             "outlinewidth": 0,
             "ticks": ""
            },
            "colorscale": [
             [
              0,
              "#0d0887"
             ],
             [
              0.1111111111111111,
              "#46039f"
             ],
             [
              0.2222222222222222,
              "#7201a8"
             ],
             [
              0.3333333333333333,
              "#9c179e"
             ],
             [
              0.4444444444444444,
              "#bd3786"
             ],
             [
              0.5555555555555556,
              "#d8576b"
             ],
             [
              0.6666666666666666,
              "#ed7953"
             ],
             [
              0.7777777777777778,
              "#fb9f3a"
             ],
             [
              0.8888888888888888,
              "#fdca26"
             ],
             [
              1,
              "#f0f921"
             ]
            ],
            "type": "heatmapgl"
           }
          ],
          "histogram": [
           {
            "marker": {
             "pattern": {
              "fillmode": "overlay",
              "size": 10,
              "solidity": 0.2
             }
            },
            "type": "histogram"
           }
          ],
          "histogram2d": [
           {
            "colorbar": {
             "outlinewidth": 0,
             "ticks": ""
            },
            "colorscale": [
             [
              0,
              "#0d0887"
             ],
             [
              0.1111111111111111,
              "#46039f"
             ],
             [
              0.2222222222222222,
              "#7201a8"
             ],
             [
              0.3333333333333333,
              "#9c179e"
             ],
             [
              0.4444444444444444,
              "#bd3786"
             ],
             [
              0.5555555555555556,
              "#d8576b"
             ],
             [
              0.6666666666666666,
              "#ed7953"
             ],
             [
              0.7777777777777778,
              "#fb9f3a"
             ],
             [
              0.8888888888888888,
              "#fdca26"
             ],
             [
              1,
              "#f0f921"
             ]
            ],
            "type": "histogram2d"
           }
          ],
          "histogram2dcontour": [
           {
            "colorbar": {
             "outlinewidth": 0,
             "ticks": ""
            },
            "colorscale": [
             [
              0,
              "#0d0887"
             ],
             [
              0.1111111111111111,
              "#46039f"
             ],
             [
              0.2222222222222222,
              "#7201a8"
             ],
             [
              0.3333333333333333,
              "#9c179e"
             ],
             [
              0.4444444444444444,
              "#bd3786"
             ],
             [
              0.5555555555555556,
              "#d8576b"
             ],
             [
              0.6666666666666666,
              "#ed7953"
             ],
             [
              0.7777777777777778,
              "#fb9f3a"
             ],
             [
              0.8888888888888888,
              "#fdca26"
             ],
             [
              1,
              "#f0f921"
             ]
            ],
            "type": "histogram2dcontour"
           }
          ],
          "mesh3d": [
           {
            "colorbar": {
             "outlinewidth": 0,
             "ticks": ""
            },
            "type": "mesh3d"
           }
          ],
          "parcoords": [
           {
            "line": {
             "colorbar": {
              "outlinewidth": 0,
              "ticks": ""
             }
            },
            "type": "parcoords"
           }
          ],
          "pie": [
           {
            "automargin": true,
            "type": "pie"
           }
          ],
          "scatter": [
           {
            "fillpattern": {
             "fillmode": "overlay",
             "size": 10,
             "solidity": 0.2
            },
            "type": "scatter"
           }
          ],
          "scatter3d": [
           {
            "line": {
             "colorbar": {
              "outlinewidth": 0,
              "ticks": ""
             }
            },
            "marker": {
             "colorbar": {
              "outlinewidth": 0,
              "ticks": ""
             }
            },
            "type": "scatter3d"
           }
          ],
          "scattercarpet": [
           {
            "marker": {
             "colorbar": {
              "outlinewidth": 0,
              "ticks": ""
             }
            },
            "type": "scattercarpet"
           }
          ],
          "scattergeo": [
           {
            "marker": {
             "colorbar": {
              "outlinewidth": 0,
              "ticks": ""
             }
            },
            "type": "scattergeo"
           }
          ],
          "scattergl": [
           {
            "marker": {
             "colorbar": {
              "outlinewidth": 0,
              "ticks": ""
             }
            },
            "type": "scattergl"
           }
          ],
          "scattermapbox": [
           {
            "marker": {
             "colorbar": {
              "outlinewidth": 0,
              "ticks": ""
             }
            },
            "type": "scattermapbox"
           }
          ],
          "scatterpolar": [
           {
            "marker": {
             "colorbar": {
              "outlinewidth": 0,
              "ticks": ""
             }
            },
            "type": "scatterpolar"
           }
          ],
          "scatterpolargl": [
           {
            "marker": {
             "colorbar": {
              "outlinewidth": 0,
              "ticks": ""
             }
            },
            "type": "scatterpolargl"
           }
          ],
          "scatterternary": [
           {
            "marker": {
             "colorbar": {
              "outlinewidth": 0,
              "ticks": ""
             }
            },
            "type": "scatterternary"
           }
          ],
          "surface": [
           {
            "colorbar": {
             "outlinewidth": 0,
             "ticks": ""
            },
            "colorscale": [
             [
              0,
              "#0d0887"
             ],
             [
              0.1111111111111111,
              "#46039f"
             ],
             [
              0.2222222222222222,
              "#7201a8"
             ],
             [
              0.3333333333333333,
              "#9c179e"
             ],
             [
              0.4444444444444444,
              "#bd3786"
             ],
             [
              0.5555555555555556,
              "#d8576b"
             ],
             [
              0.6666666666666666,
              "#ed7953"
             ],
             [
              0.7777777777777778,
              "#fb9f3a"
             ],
             [
              0.8888888888888888,
              "#fdca26"
             ],
             [
              1,
              "#f0f921"
             ]
            ],
            "type": "surface"
           }
          ],
          "table": [
           {
            "cells": {
             "fill": {
              "color": "#EBF0F8"
             },
             "line": {
              "color": "white"
             }
            },
            "header": {
             "fill": {
              "color": "#C8D4E3"
             },
             "line": {
              "color": "white"
             }
            },
            "type": "table"
           }
          ]
         },
         "layout": {
          "annotationdefaults": {
           "arrowcolor": "#2a3f5f",
           "arrowhead": 0,
           "arrowwidth": 1
          },
          "autotypenumbers": "strict",
          "coloraxis": {
           "colorbar": {
            "outlinewidth": 0,
            "ticks": ""
           }
          },
          "colorscale": {
           "diverging": [
            [
             0,
             "#8e0152"
            ],
            [
             0.1,
             "#c51b7d"
            ],
            [
             0.2,
             "#de77ae"
            ],
            [
             0.3,
             "#f1b6da"
            ],
            [
             0.4,
             "#fde0ef"
            ],
            [
             0.5,
             "#f7f7f7"
            ],
            [
             0.6,
             "#e6f5d0"
            ],
            [
             0.7,
             "#b8e186"
            ],
            [
             0.8,
             "#7fbc41"
            ],
            [
             0.9,
             "#4d9221"
            ],
            [
             1,
             "#276419"
            ]
           ],
           "sequential": [
            [
             0,
             "#0d0887"
            ],
            [
             0.1111111111111111,
             "#46039f"
            ],
            [
             0.2222222222222222,
             "#7201a8"
            ],
            [
             0.3333333333333333,
             "#9c179e"
            ],
            [
             0.4444444444444444,
             "#bd3786"
            ],
            [
             0.5555555555555556,
             "#d8576b"
            ],
            [
             0.6666666666666666,
             "#ed7953"
            ],
            [
             0.7777777777777778,
             "#fb9f3a"
            ],
            [
             0.8888888888888888,
             "#fdca26"
            ],
            [
             1,
             "#f0f921"
            ]
           ],
           "sequentialminus": [
            [
             0,
             "#0d0887"
            ],
            [
             0.1111111111111111,
             "#46039f"
            ],
            [
             0.2222222222222222,
             "#7201a8"
            ],
            [
             0.3333333333333333,
             "#9c179e"
            ],
            [
             0.4444444444444444,
             "#bd3786"
            ],
            [
             0.5555555555555556,
             "#d8576b"
            ],
            [
             0.6666666666666666,
             "#ed7953"
            ],
            [
             0.7777777777777778,
             "#fb9f3a"
            ],
            [
             0.8888888888888888,
             "#fdca26"
            ],
            [
             1,
             "#f0f921"
            ]
           ]
          },
          "colorway": [
           "#636efa",
           "#EF553B",
           "#00cc96",
           "#ab63fa",
           "#FFA15A",
           "#19d3f3",
           "#FF6692",
           "#B6E880",
           "#FF97FF",
           "#FECB52"
          ],
          "font": {
           "color": "#2a3f5f"
          },
          "geo": {
           "bgcolor": "white",
           "lakecolor": "white",
           "landcolor": "#E5ECF6",
           "showlakes": true,
           "showland": true,
           "subunitcolor": "white"
          },
          "hoverlabel": {
           "align": "left"
          },
          "hovermode": "closest",
          "mapbox": {
           "style": "light"
          },
          "paper_bgcolor": "white",
          "plot_bgcolor": "#E5ECF6",
          "polar": {
           "angularaxis": {
            "gridcolor": "white",
            "linecolor": "white",
            "ticks": ""
           },
           "bgcolor": "#E5ECF6",
           "radialaxis": {
            "gridcolor": "white",
            "linecolor": "white",
            "ticks": ""
           }
          },
          "scene": {
           "xaxis": {
            "backgroundcolor": "#E5ECF6",
            "gridcolor": "white",
            "gridwidth": 2,
            "linecolor": "white",
            "showbackground": true,
            "ticks": "",
            "zerolinecolor": "white"
           },
           "yaxis": {
            "backgroundcolor": "#E5ECF6",
            "gridcolor": "white",
            "gridwidth": 2,
            "linecolor": "white",
            "showbackground": true,
            "ticks": "",
            "zerolinecolor": "white"
           },
           "zaxis": {
            "backgroundcolor": "#E5ECF6",
            "gridcolor": "white",
            "gridwidth": 2,
            "linecolor": "white",
            "showbackground": true,
            "ticks": "",
            "zerolinecolor": "white"
           }
          },
          "shapedefaults": {
           "line": {
            "color": "#2a3f5f"
           }
          },
          "ternary": {
           "aaxis": {
            "gridcolor": "white",
            "linecolor": "white",
            "ticks": ""
           },
           "baxis": {
            "gridcolor": "white",
            "linecolor": "white",
            "ticks": ""
           },
           "bgcolor": "#E5ECF6",
           "caxis": {
            "gridcolor": "white",
            "linecolor": "white",
            "ticks": ""
           }
          },
          "title": {
           "x": 0.05
          },
          "xaxis": {
           "automargin": true,
           "gridcolor": "white",
           "linecolor": "white",
           "ticks": "",
           "title": {
            "standoff": 15
           },
           "zerolinecolor": "white",
           "zerolinewidth": 2
          },
          "yaxis": {
           "automargin": true,
           "gridcolor": "white",
           "linecolor": "white",
           "ticks": "",
           "title": {
            "standoff": 15
           },
           "zerolinecolor": "white",
           "zerolinewidth": 2
          }
         }
        },
        "title": {
         "text": "Line Plot with Error Bands and Smoothing"
        }
       }
      },
      "text/html": [
       "<div>                            <div id=\"68d22a01-ea36-41fa-9010-c88526345402\" class=\"plotly-graph-div\" style=\"height:525px; width:100%;\"></div>            <script type=\"text/javascript\">                require([\"plotly\"], function(Plotly) {                    window.PLOTLYENV=window.PLOTLYENV || {};                                    if (document.getElementById(\"68d22a01-ea36-41fa-9010-c88526345402\")) {                    Plotly.newPlot(                        \"68d22a01-ea36-41fa-9010-c88526345402\",                        [{\"line\":{\"color\":\"blue\",\"dash\":\"solid\",\"width\":2},\"mode\":\"lines\",\"name\":\"Main Line\",\"opacity\":0.8,\"x\":[\"2023-01-01T00:00:00\",\"2023-01-02T00:00:00\",\"2023-01-03T00:00:00\",\"2023-01-04T00:00:00\",\"2023-01-05T00:00:00\",\"2023-01-06T00:00:00\",\"2023-01-07T00:00:00\",\"2023-01-08T00:00:00\",\"2023-01-09T00:00:00\",\"2023-01-10T00:00:00\",\"2023-01-11T00:00:00\",\"2023-01-12T00:00:00\",\"2023-01-13T00:00:00\",\"2023-01-14T00:00:00\",\"2023-01-15T00:00:00\",\"2023-01-16T00:00:00\",\"2023-01-17T00:00:00\",\"2023-01-18T00:00:00\",\"2023-01-19T00:00:00\",\"2023-01-20T00:00:00\",\"2023-01-21T00:00:00\",\"2023-01-22T00:00:00\",\"2023-01-23T00:00:00\",\"2023-01-24T00:00:00\",\"2023-01-25T00:00:00\",\"2023-01-26T00:00:00\",\"2023-01-27T00:00:00\",\"2023-01-28T00:00:00\",\"2023-01-29T00:00:00\",\"2023-01-30T00:00:00\",\"2023-01-31T00:00:00\",\"2023-02-01T00:00:00\",\"2023-02-02T00:00:00\",\"2023-02-03T00:00:00\",\"2023-02-04T00:00:00\",\"2023-02-05T00:00:00\",\"2023-02-06T00:00:00\",\"2023-02-07T00:00:00\",\"2023-02-08T00:00:00\",\"2023-02-09T00:00:00\",\"2023-02-10T00:00:00\",\"2023-02-11T00:00:00\",\"2023-02-12T00:00:00\",\"2023-02-13T00:00:00\",\"2023-02-14T00:00:00\",\"2023-02-15T00:00:00\",\"2023-02-16T00:00:00\",\"2023-02-17T00:00:00\",\"2023-02-18T00:00:00\",\"2023-02-19T00:00:00\",\"2023-02-20T00:00:00\",\"2023-02-21T00:00:00\",\"2023-02-22T00:00:00\",\"2023-02-23T00:00:00\",\"2023-02-24T00:00:00\",\"2023-02-25T00:00:00\",\"2023-02-26T00:00:00\",\"2023-02-27T00:00:00\",\"2023-02-28T00:00:00\",\"2023-03-01T00:00:00\",\"2023-03-02T00:00:00\",\"2023-03-03T00:00:00\",\"2023-03-04T00:00:00\",\"2023-03-05T00:00:00\",\"2023-03-06T00:00:00\",\"2023-03-07T00:00:00\",\"2023-03-08T00:00:00\",\"2023-03-09T00:00:00\",\"2023-03-10T00:00:00\",\"2023-03-11T00:00:00\",\"2023-03-12T00:00:00\",\"2023-03-13T00:00:00\",\"2023-03-14T00:00:00\",\"2023-03-15T00:00:00\",\"2023-03-16T00:00:00\",\"2023-03-17T00:00:00\",\"2023-03-18T00:00:00\",\"2023-03-19T00:00:00\",\"2023-03-20T00:00:00\",\"2023-03-21T00:00:00\",\"2023-03-22T00:00:00\",\"2023-03-23T00:00:00\",\"2023-03-24T00:00:00\",\"2023-03-25T00:00:00\",\"2023-03-26T00:00:00\",\"2023-03-27T00:00:00\",\"2023-03-28T00:00:00\",\"2023-03-29T00:00:00\",\"2023-03-30T00:00:00\",\"2023-03-31T00:00:00\",\"2023-04-01T00:00:00\",\"2023-04-02T00:00:00\",\"2023-04-03T00:00:00\",\"2023-04-04T00:00:00\",\"2023-04-05T00:00:00\",\"2023-04-06T00:00:00\",\"2023-04-07T00:00:00\",\"2023-04-08T00:00:00\",\"2023-04-09T00:00:00\",\"2023-04-10T00:00:00\",\"2023-04-11T00:00:00\",\"2023-04-12T00:00:00\",\"2023-04-13T00:00:00\",\"2023-04-14T00:00:00\",\"2023-04-15T00:00:00\",\"2023-04-16T00:00:00\",\"2023-04-17T00:00:00\",\"2023-04-18T00:00:00\",\"2023-04-19T00:00:00\",\"2023-04-20T00:00:00\",\"2023-04-21T00:00:00\",\"2023-04-22T00:00:00\",\"2023-04-23T00:00:00\",\"2023-04-24T00:00:00\",\"2023-04-25T00:00:00\",\"2023-04-26T00:00:00\",\"2023-04-27T00:00:00\",\"2023-04-28T00:00:00\",\"2023-04-29T00:00:00\",\"2023-04-30T00:00:00\",\"2023-05-01T00:00:00\",\"2023-05-02T00:00:00\",\"2023-05-03T00:00:00\",\"2023-05-04T00:00:00\",\"2023-05-05T00:00:00\",\"2023-05-06T00:00:00\",\"2023-05-07T00:00:00\",\"2023-05-08T00:00:00\",\"2023-05-09T00:00:00\",\"2023-05-10T00:00:00\",\"2023-05-11T00:00:00\",\"2023-05-12T00:00:00\",\"2023-05-13T00:00:00\",\"2023-05-14T00:00:00\",\"2023-05-15T00:00:00\",\"2023-05-16T00:00:00\",\"2023-05-17T00:00:00\",\"2023-05-18T00:00:00\",\"2023-05-19T00:00:00\",\"2023-05-20T00:00:00\",\"2023-05-21T00:00:00\",\"2023-05-22T00:00:00\",\"2023-05-23T00:00:00\",\"2023-05-24T00:00:00\",\"2023-05-25T00:00:00\",\"2023-05-26T00:00:00\",\"2023-05-27T00:00:00\",\"2023-05-28T00:00:00\",\"2023-05-29T00:00:00\",\"2023-05-30T00:00:00\",\"2023-05-31T00:00:00\",\"2023-06-01T00:00:00\",\"2023-06-02T00:00:00\",\"2023-06-03T00:00:00\",\"2023-06-04T00:00:00\",\"2023-06-05T00:00:00\",\"2023-06-06T00:00:00\",\"2023-06-07T00:00:00\",\"2023-06-08T00:00:00\",\"2023-06-09T00:00:00\",\"2023-06-10T00:00:00\",\"2023-06-11T00:00:00\",\"2023-06-12T00:00:00\",\"2023-06-13T00:00:00\",\"2023-06-14T00:00:00\",\"2023-06-15T00:00:00\",\"2023-06-16T00:00:00\",\"2023-06-17T00:00:00\",\"2023-06-18T00:00:00\",\"2023-06-19T00:00:00\",\"2023-06-20T00:00:00\",\"2023-06-21T00:00:00\",\"2023-06-22T00:00:00\",\"2023-06-23T00:00:00\",\"2023-06-24T00:00:00\",\"2023-06-25T00:00:00\",\"2023-06-26T00:00:00\",\"2023-06-27T00:00:00\",\"2023-06-28T00:00:00\",\"2023-06-29T00:00:00\",\"2023-06-30T00:00:00\",\"2023-07-01T00:00:00\",\"2023-07-02T00:00:00\",\"2023-07-03T00:00:00\",\"2023-07-04T00:00:00\",\"2023-07-05T00:00:00\",\"2023-07-06T00:00:00\",\"2023-07-07T00:00:00\",\"2023-07-08T00:00:00\",\"2023-07-09T00:00:00\",\"2023-07-10T00:00:00\",\"2023-07-11T00:00:00\",\"2023-07-12T00:00:00\",\"2023-07-13T00:00:00\",\"2023-07-14T00:00:00\",\"2023-07-15T00:00:00\",\"2023-07-16T00:00:00\",\"2023-07-17T00:00:00\",\"2023-07-18T00:00:00\",\"2023-07-19T00:00:00\",\"2023-07-20T00:00:00\",\"2023-07-21T00:00:00\",\"2023-07-22T00:00:00\",\"2023-07-23T00:00:00\",\"2023-07-24T00:00:00\",\"2023-07-25T00:00:00\",\"2023-07-26T00:00:00\",\"2023-07-27T00:00:00\",\"2023-07-28T00:00:00\",\"2023-07-29T00:00:00\",\"2023-07-30T00:00:00\",\"2023-07-31T00:00:00\",\"2023-08-01T00:00:00\",\"2023-08-02T00:00:00\",\"2023-08-03T00:00:00\",\"2023-08-04T00:00:00\",\"2023-08-05T00:00:00\",\"2023-08-06T00:00:00\",\"2023-08-07T00:00:00\",\"2023-08-08T00:00:00\",\"2023-08-09T00:00:00\",\"2023-08-10T00:00:00\",\"2023-08-11T00:00:00\",\"2023-08-12T00:00:00\",\"2023-08-13T00:00:00\",\"2023-08-14T00:00:00\",\"2023-08-15T00:00:00\",\"2023-08-16T00:00:00\",\"2023-08-17T00:00:00\",\"2023-08-18T00:00:00\",\"2023-08-19T00:00:00\",\"2023-08-20T00:00:00\",\"2023-08-21T00:00:00\",\"2023-08-22T00:00:00\",\"2023-08-23T00:00:00\",\"2023-08-24T00:00:00\",\"2023-08-25T00:00:00\",\"2023-08-26T00:00:00\",\"2023-08-27T00:00:00\",\"2023-08-28T00:00:00\",\"2023-08-29T00:00:00\",\"2023-08-30T00:00:00\",\"2023-08-31T00:00:00\",\"2023-09-01T00:00:00\",\"2023-09-02T00:00:00\",\"2023-09-03T00:00:00\",\"2023-09-04T00:00:00\",\"2023-09-05T00:00:00\",\"2023-09-06T00:00:00\",\"2023-09-07T00:00:00\",\"2023-09-08T00:00:00\",\"2023-09-09T00:00:00\",\"2023-09-10T00:00:00\",\"2023-09-11T00:00:00\",\"2023-09-12T00:00:00\",\"2023-09-13T00:00:00\",\"2023-09-14T00:00:00\",\"2023-09-15T00:00:00\",\"2023-09-16T00:00:00\",\"2023-09-17T00:00:00\",\"2023-09-18T00:00:00\",\"2023-09-19T00:00:00\",\"2023-09-20T00:00:00\",\"2023-09-21T00:00:00\",\"2023-09-22T00:00:00\",\"2023-09-23T00:00:00\",\"2023-09-24T00:00:00\",\"2023-09-25T00:00:00\",\"2023-09-26T00:00:00\",\"2023-09-27T00:00:00\",\"2023-09-28T00:00:00\",\"2023-09-29T00:00:00\",\"2023-09-30T00:00:00\",\"2023-10-01T00:00:00\",\"2023-10-02T00:00:00\",\"2023-10-03T00:00:00\",\"2023-10-04T00:00:00\",\"2023-10-05T00:00:00\",\"2023-10-06T00:00:00\",\"2023-10-07T00:00:00\",\"2023-10-08T00:00:00\",\"2023-10-09T00:00:00\",\"2023-10-10T00:00:00\",\"2023-10-11T00:00:00\",\"2023-10-12T00:00:00\",\"2023-10-13T00:00:00\",\"2023-10-14T00:00:00\",\"2023-10-15T00:00:00\",\"2023-10-16T00:00:00\",\"2023-10-17T00:00:00\",\"2023-10-18T00:00:00\",\"2023-10-19T00:00:00\",\"2023-10-20T00:00:00\",\"2023-10-21T00:00:00\",\"2023-10-22T00:00:00\",\"2023-10-23T00:00:00\",\"2023-10-24T00:00:00\",\"2023-10-25T00:00:00\",\"2023-10-26T00:00:00\",\"2023-10-27T00:00:00\",\"2023-10-28T00:00:00\",\"2023-10-29T00:00:00\",\"2023-10-30T00:00:00\",\"2023-10-31T00:00:00\",\"2023-11-01T00:00:00\",\"2023-11-02T00:00:00\",\"2023-11-03T00:00:00\",\"2023-11-04T00:00:00\",\"2023-11-05T00:00:00\",\"2023-11-06T00:00:00\",\"2023-11-07T00:00:00\",\"2023-11-08T00:00:00\",\"2023-11-09T00:00:00\",\"2023-11-10T00:00:00\",\"2023-11-11T00:00:00\",\"2023-11-12T00:00:00\",\"2023-11-13T00:00:00\",\"2023-11-14T00:00:00\",\"2023-11-15T00:00:00\",\"2023-11-16T00:00:00\",\"2023-11-17T00:00:00\",\"2023-11-18T00:00:00\",\"2023-11-19T00:00:00\",\"2023-11-20T00:00:00\",\"2023-11-21T00:00:00\",\"2023-11-22T00:00:00\",\"2023-11-23T00:00:00\",\"2023-11-24T00:00:00\",\"2023-11-25T00:00:00\",\"2023-11-26T00:00:00\",\"2023-11-27T00:00:00\",\"2023-11-28T00:00:00\",\"2023-11-29T00:00:00\",\"2023-11-30T00:00:00\",\"2023-12-01T00:00:00\",\"2023-12-02T00:00:00\",\"2023-12-03T00:00:00\",\"2023-12-04T00:00:00\",\"2023-12-05T00:00:00\",\"2023-12-06T00:00:00\",\"2023-12-07T00:00:00\",\"2023-12-08T00:00:00\",\"2023-12-09T00:00:00\",\"2023-12-10T00:00:00\",\"2023-12-11T00:00:00\",\"2023-12-12T00:00:00\",\"2023-12-13T00:00:00\",\"2023-12-14T00:00:00\",\"2023-12-15T00:00:00\",\"2023-12-16T00:00:00\",\"2023-12-17T00:00:00\",\"2023-12-18T00:00:00\",\"2023-12-19T00:00:00\",\"2023-12-20T00:00:00\",\"2023-12-21T00:00:00\",\"2023-12-22T00:00:00\",\"2023-12-23T00:00:00\",\"2023-12-24T00:00:00\",\"2023-12-25T00:00:00\",\"2023-12-26T00:00:00\",\"2023-12-27T00:00:00\",\"2023-12-28T00:00:00\",\"2023-12-29T00:00:00\",\"2023-12-30T00:00:00\",\"2023-12-31T00:00:00\"],\"y\":[-11.847934526133015,5.104857994309561,-9.629261196478174,4.359549494532008,9.258401665128101,4.23859136118999,-1.7060366720883424,2.5407583854972424,4.93217144749501,6.098212315344158,6.7601194212317175,7.986066089710426,10.359047576896316,3.9998225659273565,9.578099949789216,19.11907029456678,10.337756050588798,10.76827535925798,19.097774015277693,1.622664714429721,21.02936539328371,12.658541949030967,17.324621746720936,17.66446519657138,22.563677585824536,17.172084826827202,15.768544710074657,26.28606839385457,8.603351216467825,21.14215861713564,14.905693502887253,18.430538704644576,32.8757207025285,23.165141008766675,24.91950752596107,15.579465044390604,21.371983687053525,26.516465853964327,27.81022925252647,29.609680609816355,27.043003899430897,30.0950854449557,30.17454097373944,19.18765676218133,28.93707856892564,32.99203029237663,32.48698642548648,28.087797058613305,26.232741455279907,25.00723127187471,30.265437306514823,36.89189908345287,21.757034439994722,28.489812475296628,26.34704486587039,36.21112055281277,29.738481411902537,30.3639007708922,31.822716924880915,35.30808739949808,31.276088852031297,18.147474488036977,36.21814648719787,35.803449797789305,32.600449148103394,28.351193572542822,35.58684571902994,35.76409158865363,31.541183818490723,32.814667120050764,29.238147538414307,32.970317887558735,26.069286928532883,35.850155199403844,28.96793409477311,34.790737304011536,26.465233679766197,30.42413099737763,32.68606038651655,24.78399695239228,33.497317709697505,30.84521990454608,23.834066314298894,25.820256206929542,35.13865860621379,36.35363370875521,30.965564663064235,33.38488966562648,32.203258908091115,32.44238203409878,36.92196507662324,22.64267753859233,33.23374708275268,27.603632713630812,28.043395582548317,27.293559090385543,26.55862771350859,21.922716376500574,28.579853126105363,35.617811734725905,26.573210828995148,26.42893641109672,22.57293077420035,24.987574158819527,27.463639893823395,22.83218485587413,21.958087928715024,25.780661655004238,18.70546798191137,24.083456285264084,26.442802084611415,28.65630809924489,20.91559695541959,27.712424034710736,25.54982997807117,14.896896948486699,13.285711240779381,17.345722284739168,23.508478168780968,17.49418124391097,14.34313216947025,24.597861068577405,17.761248175623777,4.2141241997573164,16.893991554322355,17.400640581438452,15.422318573664748,16.038693702593704,12.952063210520771,6.197648517857498,10.440599492132733,7.074261462183391,6.651007865658898,4.516312677339323,12.616027824829375,10.37038953261518,7.173215891788448,5.706699479327677,8.382233411547563,13.448292261084422,-2.408388647819553,9.06523226662733,4.028619525652196,-3.080873994923504,-3.792667879613342,0.9750032375542164,6.249180697179644,6.739650546494575,-0.2875332670908266,9.13619211852618,10.82072198335728,5.352283090446737,0.09252677431541656,8.361278417649531,6.218055927885323,6.492553958453398,-1.3995340079869698,-12.549617765314848,11.960849323751766,-6.910132114695102,0.7466594956505757,12.624579563947187,2.1834318159939667,5.101037561796533,-7.318148664075111,-8.840499778333143,-2.7465163708341316,5.255250429724603,-2.0297302284488388,-4.355979148780966,0.5385431536053389,4.90584384558263,-7.764988086323721,-6.613256276995266,-4.507835503846811,4.921155738343409,0.6510093473491774,10.183164064852157,4.266739962325213,-0.5121807589440945,6.084176848707149,0.9285020639104338,-3.5246067625372213,3.5456164962018293,-3.17339506159154,-0.9645145544392517,7.32232591186065,0.3896159545393212,-2.890453570750978,-0.9506476693175858,6.742265894445586,-0.8507172009346786,0.27261142204265987,-0.033317922993814086,3.7650374722853432,1.2611822261270564,-4.461509388921128,-0.5135238307939742,-0.3513432228641493,10.934761587940839,9.202259338433613,8.510882310784703,3.4982619428055326,2.411125867109341,4.431867890620951,2.2035407084775205,20.456302767675027,-2.7353216126664837,11.845684185096871,3.150337829298585,9.611667684402862,5.766205749661985,5.403153542701068,6.187352177472653,21.271944060695823,12.45207911584607,9.91952296456701,17.1686553123931,15.093489381155818,19.303924669774112,7.25412469607774,18.574360466569445,21.609664570264005,10.136594470536316,21.39212789025313,28.346413297849608,20.512972507793414,25.423056165741023,25.40425759410918,19.255468230087082,23.73922922137681,16.45821933008115,22.79446097038191,27.141769325785056,30.19533626263827,27.473128052760288,31.72352474101635,23.38549224654701,29.170404313150268,30.556175090490175,40.490210590323024,30.955053506501816,30.315159029152625,33.70164304579411,29.783819766376507,36.1270778347294,34.12094220549301,27.771045590948198,37.214339174943966,36.69683808728445,30.896982716642345,39.494811018648534,48.04505603294598,43.96857863772054,45.18104884217986,36.168434576909576,46.00965400528804,45.110982465484,47.751455204768085,47.95038632178614,39.762475564705596,47.07123953641696,44.19809363587982,48.43818840609535,44.89434382420232,56.62764620868442,46.445218264518715,46.91063490473634,52.433668955906406,47.32041129673982,51.21719791746637,49.81440395437957,61.632578465667365,59.106688663819554,55.479422723620075,54.38763241204055,61.61280498857795,59.48600210593954,60.48899625900474,58.39324424262898,50.594984970022715,58.97194226249556,57.355925179827175,63.71348683349783,66.00276853094601,58.09444408463606,64.15186215466002,70.89996806130775,59.277363779132024,71.40543466082006,59.097176983371014,63.82341481733937,63.985485814521304,64.41526334185119,60.46977061072696,61.98636499806234,61.87142811887943,67.09613349140459,67.34625260630658,77.04395547745094,72.97068173879748,63.751326491044395,68.09296807627418,71.60553790775366,66.90752648095558,66.5241220439982,67.23127355434767,71.39413154636765,62.8838115461175,65.54809549261928,69.56305803207184,68.78606692127534,68.42825446097042,65.36650484314622,72.04712257367085,77.80659366796709,69.10613827454459,66.02911968863016,70.67892612892396,64.0942177073108,62.915686147948314,66.68721574208574,53.453186707249756,60.42657632068608,64.2710441362278,59.04401783282569,60.4336648379393,63.185101998195194,56.91227062326407,62.841535726234795,61.927148876880594,64.44921011703698,69.79914865647412,64.58444421190819,63.50887248098492,63.57072702673001,63.868876485471695,57.29556377996781,61.441939851185786,63.18568289905513,54.404130483600674,65.19244171236332,65.86790301279291,56.89195002757911,58.42127793507126,54.807856112319634,62.25863496959063,53.01101471747476,56.752993719482404,53.11228578287077,57.19681663804293,47.50011590571628,62.62725224747065,50.69046984324764,55.326824293393685,53.47429353791488,50.23202391863482,49.10593680062952,57.726050263343495,49.91248149033604,53.390998668445235,47.520393967932876,47.78340138814117,52.87110696753528,54.652042480555586],\"type\":\"scatter\"},{\"line\":{\"color\":\"rgba(0,100,80,0.2)\",\"width\":0},\"mode\":\"lines\",\"showlegend\":false,\"x\":[\"2023-01-01T00:00:00\",\"2023-01-02T00:00:00\",\"2023-01-03T00:00:00\",\"2023-01-04T00:00:00\",\"2023-01-05T00:00:00\",\"2023-01-06T00:00:00\",\"2023-01-07T00:00:00\",\"2023-01-08T00:00:00\",\"2023-01-09T00:00:00\",\"2023-01-10T00:00:00\",\"2023-01-11T00:00:00\",\"2023-01-12T00:00:00\",\"2023-01-13T00:00:00\",\"2023-01-14T00:00:00\",\"2023-01-15T00:00:00\",\"2023-01-16T00:00:00\",\"2023-01-17T00:00:00\",\"2023-01-18T00:00:00\",\"2023-01-19T00:00:00\",\"2023-01-20T00:00:00\",\"2023-01-21T00:00:00\",\"2023-01-22T00:00:00\",\"2023-01-23T00:00:00\",\"2023-01-24T00:00:00\",\"2023-01-25T00:00:00\",\"2023-01-26T00:00:00\",\"2023-01-27T00:00:00\",\"2023-01-28T00:00:00\",\"2023-01-29T00:00:00\",\"2023-01-30T00:00:00\",\"2023-01-31T00:00:00\",\"2023-02-01T00:00:00\",\"2023-02-02T00:00:00\",\"2023-02-03T00:00:00\",\"2023-02-04T00:00:00\",\"2023-02-05T00:00:00\",\"2023-02-06T00:00:00\",\"2023-02-07T00:00:00\",\"2023-02-08T00:00:00\",\"2023-02-09T00:00:00\",\"2023-02-10T00:00:00\",\"2023-02-11T00:00:00\",\"2023-02-12T00:00:00\",\"2023-02-13T00:00:00\",\"2023-02-14T00:00:00\",\"2023-02-15T00:00:00\",\"2023-02-16T00:00:00\",\"2023-02-17T00:00:00\",\"2023-02-18T00:00:00\",\"2023-02-19T00:00:00\",\"2023-02-20T00:00:00\",\"2023-02-21T00:00:00\",\"2023-02-22T00:00:00\",\"2023-02-23T00:00:00\",\"2023-02-24T00:00:00\",\"2023-02-25T00:00:00\",\"2023-02-26T00:00:00\",\"2023-02-27T00:00:00\",\"2023-02-28T00:00:00\",\"2023-03-01T00:00:00\",\"2023-03-02T00:00:00\",\"2023-03-03T00:00:00\",\"2023-03-04T00:00:00\",\"2023-03-05T00:00:00\",\"2023-03-06T00:00:00\",\"2023-03-07T00:00:00\",\"2023-03-08T00:00:00\",\"2023-03-09T00:00:00\",\"2023-03-10T00:00:00\",\"2023-03-11T00:00:00\",\"2023-03-12T00:00:00\",\"2023-03-13T00:00:00\",\"2023-03-14T00:00:00\",\"2023-03-15T00:00:00\",\"2023-03-16T00:00:00\",\"2023-03-17T00:00:00\",\"2023-03-18T00:00:00\",\"2023-03-19T00:00:00\",\"2023-03-20T00:00:00\",\"2023-03-21T00:00:00\",\"2023-03-22T00:00:00\",\"2023-03-23T00:00:00\",\"2023-03-24T00:00:00\",\"2023-03-25T00:00:00\",\"2023-03-26T00:00:00\",\"2023-03-27T00:00:00\",\"2023-03-28T00:00:00\",\"2023-03-29T00:00:00\",\"2023-03-30T00:00:00\",\"2023-03-31T00:00:00\",\"2023-04-01T00:00:00\",\"2023-04-02T00:00:00\",\"2023-04-03T00:00:00\",\"2023-04-04T00:00:00\",\"2023-04-05T00:00:00\",\"2023-04-06T00:00:00\",\"2023-04-07T00:00:00\",\"2023-04-08T00:00:00\",\"2023-04-09T00:00:00\",\"2023-04-10T00:00:00\",\"2023-04-11T00:00:00\",\"2023-04-12T00:00:00\",\"2023-04-13T00:00:00\",\"2023-04-14T00:00:00\",\"2023-04-15T00:00:00\",\"2023-04-16T00:00:00\",\"2023-04-17T00:00:00\",\"2023-04-18T00:00:00\",\"2023-04-19T00:00:00\",\"2023-04-20T00:00:00\",\"2023-04-21T00:00:00\",\"2023-04-22T00:00:00\",\"2023-04-23T00:00:00\",\"2023-04-24T00:00:00\",\"2023-04-25T00:00:00\",\"2023-04-26T00:00:00\",\"2023-04-27T00:00:00\",\"2023-04-28T00:00:00\",\"2023-04-29T00:00:00\",\"2023-04-30T00:00:00\",\"2023-05-01T00:00:00\",\"2023-05-02T00:00:00\",\"2023-05-03T00:00:00\",\"2023-05-04T00:00:00\",\"2023-05-05T00:00:00\",\"2023-05-06T00:00:00\",\"2023-05-07T00:00:00\",\"2023-05-08T00:00:00\",\"2023-05-09T00:00:00\",\"2023-05-10T00:00:00\",\"2023-05-11T00:00:00\",\"2023-05-12T00:00:00\",\"2023-05-13T00:00:00\",\"2023-05-14T00:00:00\",\"2023-05-15T00:00:00\",\"2023-05-16T00:00:00\",\"2023-05-17T00:00:00\",\"2023-05-18T00:00:00\",\"2023-05-19T00:00:00\",\"2023-05-20T00:00:00\",\"2023-05-21T00:00:00\",\"2023-05-22T00:00:00\",\"2023-05-23T00:00:00\",\"2023-05-24T00:00:00\",\"2023-05-25T00:00:00\",\"2023-05-26T00:00:00\",\"2023-05-27T00:00:00\",\"2023-05-28T00:00:00\",\"2023-05-29T00:00:00\",\"2023-05-30T00:00:00\",\"2023-05-31T00:00:00\",\"2023-06-01T00:00:00\",\"2023-06-02T00:00:00\",\"2023-06-03T00:00:00\",\"2023-06-04T00:00:00\",\"2023-06-05T00:00:00\",\"2023-06-06T00:00:00\",\"2023-06-07T00:00:00\",\"2023-06-08T00:00:00\",\"2023-06-09T00:00:00\",\"2023-06-10T00:00:00\",\"2023-06-11T00:00:00\",\"2023-06-12T00:00:00\",\"2023-06-13T00:00:00\",\"2023-06-14T00:00:00\",\"2023-06-15T00:00:00\",\"2023-06-16T00:00:00\",\"2023-06-17T00:00:00\",\"2023-06-18T00:00:00\",\"2023-06-19T00:00:00\",\"2023-06-20T00:00:00\",\"2023-06-21T00:00:00\",\"2023-06-22T00:00:00\",\"2023-06-23T00:00:00\",\"2023-06-24T00:00:00\",\"2023-06-25T00:00:00\",\"2023-06-26T00:00:00\",\"2023-06-27T00:00:00\",\"2023-06-28T00:00:00\",\"2023-06-29T00:00:00\",\"2023-06-30T00:00:00\",\"2023-07-01T00:00:00\",\"2023-07-02T00:00:00\",\"2023-07-03T00:00:00\",\"2023-07-04T00:00:00\",\"2023-07-05T00:00:00\",\"2023-07-06T00:00:00\",\"2023-07-07T00:00:00\",\"2023-07-08T00:00:00\",\"2023-07-09T00:00:00\",\"2023-07-10T00:00:00\",\"2023-07-11T00:00:00\",\"2023-07-12T00:00:00\",\"2023-07-13T00:00:00\",\"2023-07-14T00:00:00\",\"2023-07-15T00:00:00\",\"2023-07-16T00:00:00\",\"2023-07-17T00:00:00\",\"2023-07-18T00:00:00\",\"2023-07-19T00:00:00\",\"2023-07-20T00:00:00\",\"2023-07-21T00:00:00\",\"2023-07-22T00:00:00\",\"2023-07-23T00:00:00\",\"2023-07-24T00:00:00\",\"2023-07-25T00:00:00\",\"2023-07-26T00:00:00\",\"2023-07-27T00:00:00\",\"2023-07-28T00:00:00\",\"2023-07-29T00:00:00\",\"2023-07-30T00:00:00\",\"2023-07-31T00:00:00\",\"2023-08-01T00:00:00\",\"2023-08-02T00:00:00\",\"2023-08-03T00:00:00\",\"2023-08-04T00:00:00\",\"2023-08-05T00:00:00\",\"2023-08-06T00:00:00\",\"2023-08-07T00:00:00\",\"2023-08-08T00:00:00\",\"2023-08-09T00:00:00\",\"2023-08-10T00:00:00\",\"2023-08-11T00:00:00\",\"2023-08-12T00:00:00\",\"2023-08-13T00:00:00\",\"2023-08-14T00:00:00\",\"2023-08-15T00:00:00\",\"2023-08-16T00:00:00\",\"2023-08-17T00:00:00\",\"2023-08-18T00:00:00\",\"2023-08-19T00:00:00\",\"2023-08-20T00:00:00\",\"2023-08-21T00:00:00\",\"2023-08-22T00:00:00\",\"2023-08-23T00:00:00\",\"2023-08-24T00:00:00\",\"2023-08-25T00:00:00\",\"2023-08-26T00:00:00\",\"2023-08-27T00:00:00\",\"2023-08-28T00:00:00\",\"2023-08-29T00:00:00\",\"2023-08-30T00:00:00\",\"2023-08-31T00:00:00\",\"2023-09-01T00:00:00\",\"2023-09-02T00:00:00\",\"2023-09-03T00:00:00\",\"2023-09-04T00:00:00\",\"2023-09-05T00:00:00\",\"2023-09-06T00:00:00\",\"2023-09-07T00:00:00\",\"2023-09-08T00:00:00\",\"2023-09-09T00:00:00\",\"2023-09-10T00:00:00\",\"2023-09-11T00:00:00\",\"2023-09-12T00:00:00\",\"2023-09-13T00:00:00\",\"2023-09-14T00:00:00\",\"2023-09-15T00:00:00\",\"2023-09-16T00:00:00\",\"2023-09-17T00:00:00\",\"2023-09-18T00:00:00\",\"2023-09-19T00:00:00\",\"2023-09-20T00:00:00\",\"2023-09-21T00:00:00\",\"2023-09-22T00:00:00\",\"2023-09-23T00:00:00\",\"2023-09-24T00:00:00\",\"2023-09-25T00:00:00\",\"2023-09-26T00:00:00\",\"2023-09-27T00:00:00\",\"2023-09-28T00:00:00\",\"2023-09-29T00:00:00\",\"2023-09-30T00:00:00\",\"2023-10-01T00:00:00\",\"2023-10-02T00:00:00\",\"2023-10-03T00:00:00\",\"2023-10-04T00:00:00\",\"2023-10-05T00:00:00\",\"2023-10-06T00:00:00\",\"2023-10-07T00:00:00\",\"2023-10-08T00:00:00\",\"2023-10-09T00:00:00\",\"2023-10-10T00:00:00\",\"2023-10-11T00:00:00\",\"2023-10-12T00:00:00\",\"2023-10-13T00:00:00\",\"2023-10-14T00:00:00\",\"2023-10-15T00:00:00\",\"2023-10-16T00:00:00\",\"2023-10-17T00:00:00\",\"2023-10-18T00:00:00\",\"2023-10-19T00:00:00\",\"2023-10-20T00:00:00\",\"2023-10-21T00:00:00\",\"2023-10-22T00:00:00\",\"2023-10-23T00:00:00\",\"2023-10-24T00:00:00\",\"2023-10-25T00:00:00\",\"2023-10-26T00:00:00\",\"2023-10-27T00:00:00\",\"2023-10-28T00:00:00\",\"2023-10-29T00:00:00\",\"2023-10-30T00:00:00\",\"2023-10-31T00:00:00\",\"2023-11-01T00:00:00\",\"2023-11-02T00:00:00\",\"2023-11-03T00:00:00\",\"2023-11-04T00:00:00\",\"2023-11-05T00:00:00\",\"2023-11-06T00:00:00\",\"2023-11-07T00:00:00\",\"2023-11-08T00:00:00\",\"2023-11-09T00:00:00\",\"2023-11-10T00:00:00\",\"2023-11-11T00:00:00\",\"2023-11-12T00:00:00\",\"2023-11-13T00:00:00\",\"2023-11-14T00:00:00\",\"2023-11-15T00:00:00\",\"2023-11-16T00:00:00\",\"2023-11-17T00:00:00\",\"2023-11-18T00:00:00\",\"2023-11-19T00:00:00\",\"2023-11-20T00:00:00\",\"2023-11-21T00:00:00\",\"2023-11-22T00:00:00\",\"2023-11-23T00:00:00\",\"2023-11-24T00:00:00\",\"2023-11-25T00:00:00\",\"2023-11-26T00:00:00\",\"2023-11-27T00:00:00\",\"2023-11-28T00:00:00\",\"2023-11-29T00:00:00\",\"2023-11-30T00:00:00\",\"2023-12-01T00:00:00\",\"2023-12-02T00:00:00\",\"2023-12-03T00:00:00\",\"2023-12-04T00:00:00\",\"2023-12-05T00:00:00\",\"2023-12-06T00:00:00\",\"2023-12-07T00:00:00\",\"2023-12-08T00:00:00\",\"2023-12-09T00:00:00\",\"2023-12-10T00:00:00\",\"2023-12-11T00:00:00\",\"2023-12-12T00:00:00\",\"2023-12-13T00:00:00\",\"2023-12-14T00:00:00\",\"2023-12-15T00:00:00\",\"2023-12-16T00:00:00\",\"2023-12-17T00:00:00\",\"2023-12-18T00:00:00\",\"2023-12-19T00:00:00\",\"2023-12-20T00:00:00\",\"2023-12-21T00:00:00\",\"2023-12-22T00:00:00\",\"2023-12-23T00:00:00\",\"2023-12-24T00:00:00\",\"2023-12-25T00:00:00\",\"2023-12-26T00:00:00\",\"2023-12-27T00:00:00\",\"2023-12-28T00:00:00\",\"2023-12-29T00:00:00\",\"2023-12-30T00:00:00\",\"2023-12-31T00:00:00\"],\"y\":[-9.537199135787898,7.1591470689139864,-5.857505059334373,7.6661441161248085,13.654469411779809,9.00895797580231,1.1914242615431059,5.7059707370045585,8.390987706482955,9.862666696650056,11.711680910276568,12.078056842200581,13.527693098933023,6.791125625278743,14.411977105055588,21.525715593892297,14.498553608103073,15.544460435135303,23.09177077488101,4.891828034928085,23.626338213060166,15.760967915786749,21.4452371749813,21.61306786909727,27.34760608561961,21.77266756780533,20.21699696687376,31.020421019906856,11.432362674678973,24.250729237554587,18.045375214245304,22.111890470773915,36.88037539115681,26.02529105788786,26.977894927888972,18.77713219536433,24.297567565716726,31.34302001101847,32.4750243741586,34.19061264484661,31.002003182266627,33.12795293905252,33.821088775937355,23.63333188433045,31.23290967509407,37.395254933142546,34.61052579947084,32.53706015225637,30.65543286775953,27.160253198360977,34.1469194409004,40.39925830639156,24.266492949509868,30.934949288328752,30.66682224407146,39.9141987993233,34.68747881665213,35.31064410275724,36.800717905273714,37.66393395459538,36.09085726292318,20.881183315098667,39.59278326647371,40.075669465254485,35.21131194433509,32.05012838920581,38.144295963707926,38.07829990869751,33.890859655779515,35.88758422459542,31.252112048925856,36.24487965116381,30.06187824377633,39.05521975441581,31.225317896332616,36.97880389008246,29.299583218060782,32.932069069008435,37.58134530617046,27.237687627314536,37.91370502191249,34.60354372976951,27.541927074251777,29.356498354700896,40.05394783455564,39.445168034030125,35.329311915925864,37.05077198802736,35.39015991096829,37.30877983401612,40.7169129847173,24.999428365030372,36.48636468574325,31.948377896675638,32.12463665226596,32.04258007989527,29.33675986593315,26.197297525562046,31.959478748288927,39.33864097562635,31.438350872014,31.366795371064253,27.157703665977042,28.064865422010417,32.12674240100535,26.74801238879837,25.248078270127163,27.88788970250569,23.015852354486114,27.589773027436422,30.8013675830066,32.9003764972747,25.296299059564646,30.614377510801035,29.952225775274062,18.5434359338852,16.705689842126812,21.37110002620144,25.572554217596014,19.80113169157375,17.219664264972817,29.546831398450923,20.18048551221864,7.205913102034947,19.047150748398124,20.394447222316632,18.383297433197242,20.87911521542727,17.487525471507933,9.345941175585812,12.514906666250479,11.567354804169526,10.63261639709252,6.973406128293252,17.604241637859936,12.671089844887549,11.774559516569436,8.589497971716744,11.688293810523035,17.834661841413364,1.6241364201624773,13.878825389959447,7.892040502033346,-0.7874435104863458,0.860413210112509,5.28246981251999,10.384792049859609,8.90085118855578,2.9011349668944053,11.638499576904799,15.286433708580887,9.453868958900326,4.7417595662728225,13.261003738422023,10.542298770462818,11.475253208115685,2.444775650445927,-10.438228953640504,14.003603869202653,-3.8838204890837362,5.217074652853187,17.22298368292138,7.065869402462001,7.296401967442987,-5.184435331112119,-4.100648989232042,0.16862372425445304,8.9292126315535,2.917604420553291,-1.154633544573196,4.536157348534859,8.108482536478586,-3.4604040929353816,-3.030112100276668,-1.7952660898877624,7.735074042118808,3.425186984964399,13.78012504962784,8.376307010372205,4.335658941185333,10.16643897395609,5.272080595797606,-1.0178284149435246,6.667804371223806,0.06794559798325839,3.094626135562167,10.210001840991271,3.2994917187983193,0.1772138931716265,3.4802585753121105,10.475036164575632,1.3751146385635247,2.5073497211140663,3.080542909853684,8.064810624103817,5.327232505563098,-0.33756232496756766,3.788106367368317,2.510114915794839,14.579530433767104,12.832317259383922,12.729779814324552,8.368873650122472,5.245095701495739,8.811712908892094,6.183452354047308,24.197016380265406,1.5893177253757216,16.67778158438117,5.260412082906823,12.053867991942525,10.035067444165332,7.6545276014313215,9.735723279695932,23.931526390620643,15.274966227374325,14.02504441340026,19.259233632199233,19.71344766486153,22.637361535830923,10.761304577799043,22.19450435765052,25.546297454002488,13.17116423040456,23.695450361943603,31.301550107848136,23.017398861861874,29.091455704092446,28.35834348699034,24.129669764067387,28.636432055317652,20.318596971785873,26.646952773383767,32.097905019486376,34.85718571634383,31.768337900234705,34.66429657624445,26.48210933090124,31.774204610432864,34.0176194712423,45.46131615674176,35.69150636553658,32.67020733121103,35.777213913665626,34.479732771601306,39.73858821857552,36.72151187011838,31.792005399702106,41.14700870873342,39.06309490779385,33.67578341713521,41.67504491158831,50.674637454556404,46.36549566227973,47.76075771960353,40.22483601464893,48.15815323807124,47.41654631122865,50.15397611900295,50.900009684660546,42.65872649726142,49.83643089236688,48.44970359617707,53.43225676936965,48.49627759508871,61.46025436242624,49.63504860089691,49.23068224514448,55.659990444315916,50.2087946169839,54.69741880433391,53.78553498512884,65.01572912312459,63.91217020005303,60.13371719051821,58.49356519753914,65.08185972567159,61.88106395138291,63.680037259337645,62.5064488608325,53.44964153168391,61.28390649512582,62.07962055235906,67.84063926294446,69.8485978108513,62.47194080146281,68.65880026741046,74.35034505582081,63.920928533360346,76.15469169292338,61.91183026964536,67.64605089671176,67.56523790098271,68.0291006793069,65.28275989262065,64.90193110614143,66.82173005358315,71.80252713581729,70.72242127214709,81.49631526830544,77.2778227217579,67.78501139989996,71.05246974442363,74.19489088321652,70.92210957125286,71.05304193320146,69.28003192037977,75.32254167229318,66.21243061998413,70.24235875800024,72.52747682463445,72.2086213580662,71.97255577307598,67.78782340725938,76.18579948176756,82.29802270332998,71.27986610523337,68.90328615024087,72.79306017352914,68.96385002137553,66.91719261005979,71.57981700045008,57.04766954224368,64.83278189237292,67.39428608786702,62.10547493054361,63.568468289254696,67.15868839937448,59.990630076329026,67.54263808104747,66.87697347203105,66.540489663048,72.3800185276816,66.92119418967035,65.63596462225925,66.25395000677187,67.20925644657893,61.80653487583386,64.10741194271577,66.66751866604173,59.19298670194094,69.19408583272335,70.2621400720609,60.54493193813556,63.362677311593146,58.57384257636406,64.3951671114784,55.60496311729414,59.967314606353845,56.9161173005921,61.51260924026981,50.739374283427935,66.75742716251771,55.06007835257502,58.278604885143636,58.41210425802234,54.18099340434233,53.748930982987915,61.39386332976932,54.137290811793015,57.70263085329433,52.24513910563661,50.234450658755286,56.54595724004303,57.93717801987316],\"type\":\"scatter\"},{\"fill\":\"tonexty\",\"line\":{\"color\":\"rgba(0,100,80,0.2)\",\"width\":0},\"mode\":\"lines\",\"showlegend\":false,\"x\":[\"2023-01-01T00:00:00\",\"2023-01-02T00:00:00\",\"2023-01-03T00:00:00\",\"2023-01-04T00:00:00\",\"2023-01-05T00:00:00\",\"2023-01-06T00:00:00\",\"2023-01-07T00:00:00\",\"2023-01-08T00:00:00\",\"2023-01-09T00:00:00\",\"2023-01-10T00:00:00\",\"2023-01-11T00:00:00\",\"2023-01-12T00:00:00\",\"2023-01-13T00:00:00\",\"2023-01-14T00:00:00\",\"2023-01-15T00:00:00\",\"2023-01-16T00:00:00\",\"2023-01-17T00:00:00\",\"2023-01-18T00:00:00\",\"2023-01-19T00:00:00\",\"2023-01-20T00:00:00\",\"2023-01-21T00:00:00\",\"2023-01-22T00:00:00\",\"2023-01-23T00:00:00\",\"2023-01-24T00:00:00\",\"2023-01-25T00:00:00\",\"2023-01-26T00:00:00\",\"2023-01-27T00:00:00\",\"2023-01-28T00:00:00\",\"2023-01-29T00:00:00\",\"2023-01-30T00:00:00\",\"2023-01-31T00:00:00\",\"2023-02-01T00:00:00\",\"2023-02-02T00:00:00\",\"2023-02-03T00:00:00\",\"2023-02-04T00:00:00\",\"2023-02-05T00:00:00\",\"2023-02-06T00:00:00\",\"2023-02-07T00:00:00\",\"2023-02-08T00:00:00\",\"2023-02-09T00:00:00\",\"2023-02-10T00:00:00\",\"2023-02-11T00:00:00\",\"2023-02-12T00:00:00\",\"2023-02-13T00:00:00\",\"2023-02-14T00:00:00\",\"2023-02-15T00:00:00\",\"2023-02-16T00:00:00\",\"2023-02-17T00:00:00\",\"2023-02-18T00:00:00\",\"2023-02-19T00:00:00\",\"2023-02-20T00:00:00\",\"2023-02-21T00:00:00\",\"2023-02-22T00:00:00\",\"2023-02-23T00:00:00\",\"2023-02-24T00:00:00\",\"2023-02-25T00:00:00\",\"2023-02-26T00:00:00\",\"2023-02-27T00:00:00\",\"2023-02-28T00:00:00\",\"2023-03-01T00:00:00\",\"2023-03-02T00:00:00\",\"2023-03-03T00:00:00\",\"2023-03-04T00:00:00\",\"2023-03-05T00:00:00\",\"2023-03-06T00:00:00\",\"2023-03-07T00:00:00\",\"2023-03-08T00:00:00\",\"2023-03-09T00:00:00\",\"2023-03-10T00:00:00\",\"2023-03-11T00:00:00\",\"2023-03-12T00:00:00\",\"2023-03-13T00:00:00\",\"2023-03-14T00:00:00\",\"2023-03-15T00:00:00\",\"2023-03-16T00:00:00\",\"2023-03-17T00:00:00\",\"2023-03-18T00:00:00\",\"2023-03-19T00:00:00\",\"2023-03-20T00:00:00\",\"2023-03-21T00:00:00\",\"2023-03-22T00:00:00\",\"2023-03-23T00:00:00\",\"2023-03-24T00:00:00\",\"2023-03-25T00:00:00\",\"2023-03-26T00:00:00\",\"2023-03-27T00:00:00\",\"2023-03-28T00:00:00\",\"2023-03-29T00:00:00\",\"2023-03-30T00:00:00\",\"2023-03-31T00:00:00\",\"2023-04-01T00:00:00\",\"2023-04-02T00:00:00\",\"2023-04-03T00:00:00\",\"2023-04-04T00:00:00\",\"2023-04-05T00:00:00\",\"2023-04-06T00:00:00\",\"2023-04-07T00:00:00\",\"2023-04-08T00:00:00\",\"2023-04-09T00:00:00\",\"2023-04-10T00:00:00\",\"2023-04-11T00:00:00\",\"2023-04-12T00:00:00\",\"2023-04-13T00:00:00\",\"2023-04-14T00:00:00\",\"2023-04-15T00:00:00\",\"2023-04-16T00:00:00\",\"2023-04-17T00:00:00\",\"2023-04-18T00:00:00\",\"2023-04-19T00:00:00\",\"2023-04-20T00:00:00\",\"2023-04-21T00:00:00\",\"2023-04-22T00:00:00\",\"2023-04-23T00:00:00\",\"2023-04-24T00:00:00\",\"2023-04-25T00:00:00\",\"2023-04-26T00:00:00\",\"2023-04-27T00:00:00\",\"2023-04-28T00:00:00\",\"2023-04-29T00:00:00\",\"2023-04-30T00:00:00\",\"2023-05-01T00:00:00\",\"2023-05-02T00:00:00\",\"2023-05-03T00:00:00\",\"2023-05-04T00:00:00\",\"2023-05-05T00:00:00\",\"2023-05-06T00:00:00\",\"2023-05-07T00:00:00\",\"2023-05-08T00:00:00\",\"2023-05-09T00:00:00\",\"2023-05-10T00:00:00\",\"2023-05-11T00:00:00\",\"2023-05-12T00:00:00\",\"2023-05-13T00:00:00\",\"2023-05-14T00:00:00\",\"2023-05-15T00:00:00\",\"2023-05-16T00:00:00\",\"2023-05-17T00:00:00\",\"2023-05-18T00:00:00\",\"2023-05-19T00:00:00\",\"2023-05-20T00:00:00\",\"2023-05-21T00:00:00\",\"2023-05-22T00:00:00\",\"2023-05-23T00:00:00\",\"2023-05-24T00:00:00\",\"2023-05-25T00:00:00\",\"2023-05-26T00:00:00\",\"2023-05-27T00:00:00\",\"2023-05-28T00:00:00\",\"2023-05-29T00:00:00\",\"2023-05-30T00:00:00\",\"2023-05-31T00:00:00\",\"2023-06-01T00:00:00\",\"2023-06-02T00:00:00\",\"2023-06-03T00:00:00\",\"2023-06-04T00:00:00\",\"2023-06-05T00:00:00\",\"2023-06-06T00:00:00\",\"2023-06-07T00:00:00\",\"2023-06-08T00:00:00\",\"2023-06-09T00:00:00\",\"2023-06-10T00:00:00\",\"2023-06-11T00:00:00\",\"2023-06-12T00:00:00\",\"2023-06-13T00:00:00\",\"2023-06-14T00:00:00\",\"2023-06-15T00:00:00\",\"2023-06-16T00:00:00\",\"2023-06-17T00:00:00\",\"2023-06-18T00:00:00\",\"2023-06-19T00:00:00\",\"2023-06-20T00:00:00\",\"2023-06-21T00:00:00\",\"2023-06-22T00:00:00\",\"2023-06-23T00:00:00\",\"2023-06-24T00:00:00\",\"2023-06-25T00:00:00\",\"2023-06-26T00:00:00\",\"2023-06-27T00:00:00\",\"2023-06-28T00:00:00\",\"2023-06-29T00:00:00\",\"2023-06-30T00:00:00\",\"2023-07-01T00:00:00\",\"2023-07-02T00:00:00\",\"2023-07-03T00:00:00\",\"2023-07-04T00:00:00\",\"2023-07-05T00:00:00\",\"2023-07-06T00:00:00\",\"2023-07-07T00:00:00\",\"2023-07-08T00:00:00\",\"2023-07-09T00:00:00\",\"2023-07-10T00:00:00\",\"2023-07-11T00:00:00\",\"2023-07-12T00:00:00\",\"2023-07-13T00:00:00\",\"2023-07-14T00:00:00\",\"2023-07-15T00:00:00\",\"2023-07-16T00:00:00\",\"2023-07-17T00:00:00\",\"2023-07-18T00:00:00\",\"2023-07-19T00:00:00\",\"2023-07-20T00:00:00\",\"2023-07-21T00:00:00\",\"2023-07-22T00:00:00\",\"2023-07-23T00:00:00\",\"2023-07-24T00:00:00\",\"2023-07-25T00:00:00\",\"2023-07-26T00:00:00\",\"2023-07-27T00:00:00\",\"2023-07-28T00:00:00\",\"2023-07-29T00:00:00\",\"2023-07-30T00:00:00\",\"2023-07-31T00:00:00\",\"2023-08-01T00:00:00\",\"2023-08-02T00:00:00\",\"2023-08-03T00:00:00\",\"2023-08-04T00:00:00\",\"2023-08-05T00:00:00\",\"2023-08-06T00:00:00\",\"2023-08-07T00:00:00\",\"2023-08-08T00:00:00\",\"2023-08-09T00:00:00\",\"2023-08-10T00:00:00\",\"2023-08-11T00:00:00\",\"2023-08-12T00:00:00\",\"2023-08-13T00:00:00\",\"2023-08-14T00:00:00\",\"2023-08-15T00:00:00\",\"2023-08-16T00:00:00\",\"2023-08-17T00:00:00\",\"2023-08-18T00:00:00\",\"2023-08-19T00:00:00\",\"2023-08-20T00:00:00\",\"2023-08-21T00:00:00\",\"2023-08-22T00:00:00\",\"2023-08-23T00:00:00\",\"2023-08-24T00:00:00\",\"2023-08-25T00:00:00\",\"2023-08-26T00:00:00\",\"2023-08-27T00:00:00\",\"2023-08-28T00:00:00\",\"2023-08-29T00:00:00\",\"2023-08-30T00:00:00\",\"2023-08-31T00:00:00\",\"2023-09-01T00:00:00\",\"2023-09-02T00:00:00\",\"2023-09-03T00:00:00\",\"2023-09-04T00:00:00\",\"2023-09-05T00:00:00\",\"2023-09-06T00:00:00\",\"2023-09-07T00:00:00\",\"2023-09-08T00:00:00\",\"2023-09-09T00:00:00\",\"2023-09-10T00:00:00\",\"2023-09-11T00:00:00\",\"2023-09-12T00:00:00\",\"2023-09-13T00:00:00\",\"2023-09-14T00:00:00\",\"2023-09-15T00:00:00\",\"2023-09-16T00:00:00\",\"2023-09-17T00:00:00\",\"2023-09-18T00:00:00\",\"2023-09-19T00:00:00\",\"2023-09-20T00:00:00\",\"2023-09-21T00:00:00\",\"2023-09-22T00:00:00\",\"2023-09-23T00:00:00\",\"2023-09-24T00:00:00\",\"2023-09-25T00:00:00\",\"2023-09-26T00:00:00\",\"2023-09-27T00:00:00\",\"2023-09-28T00:00:00\",\"2023-09-29T00:00:00\",\"2023-09-30T00:00:00\",\"2023-10-01T00:00:00\",\"2023-10-02T00:00:00\",\"2023-10-03T00:00:00\",\"2023-10-04T00:00:00\",\"2023-10-05T00:00:00\",\"2023-10-06T00:00:00\",\"2023-10-07T00:00:00\",\"2023-10-08T00:00:00\",\"2023-10-09T00:00:00\",\"2023-10-10T00:00:00\",\"2023-10-11T00:00:00\",\"2023-10-12T00:00:00\",\"2023-10-13T00:00:00\",\"2023-10-14T00:00:00\",\"2023-10-15T00:00:00\",\"2023-10-16T00:00:00\",\"2023-10-17T00:00:00\",\"2023-10-18T00:00:00\",\"2023-10-19T00:00:00\",\"2023-10-20T00:00:00\",\"2023-10-21T00:00:00\",\"2023-10-22T00:00:00\",\"2023-10-23T00:00:00\",\"2023-10-24T00:00:00\",\"2023-10-25T00:00:00\",\"2023-10-26T00:00:00\",\"2023-10-27T00:00:00\",\"2023-10-28T00:00:00\",\"2023-10-29T00:00:00\",\"2023-10-30T00:00:00\",\"2023-10-31T00:00:00\",\"2023-11-01T00:00:00\",\"2023-11-02T00:00:00\",\"2023-11-03T00:00:00\",\"2023-11-04T00:00:00\",\"2023-11-05T00:00:00\",\"2023-11-06T00:00:00\",\"2023-11-07T00:00:00\",\"2023-11-08T00:00:00\",\"2023-11-09T00:00:00\",\"2023-11-10T00:00:00\",\"2023-11-11T00:00:00\",\"2023-11-12T00:00:00\",\"2023-11-13T00:00:00\",\"2023-11-14T00:00:00\",\"2023-11-15T00:00:00\",\"2023-11-16T00:00:00\",\"2023-11-17T00:00:00\",\"2023-11-18T00:00:00\",\"2023-11-19T00:00:00\",\"2023-11-20T00:00:00\",\"2023-11-21T00:00:00\",\"2023-11-22T00:00:00\",\"2023-11-23T00:00:00\",\"2023-11-24T00:00:00\",\"2023-11-25T00:00:00\",\"2023-11-26T00:00:00\",\"2023-11-27T00:00:00\",\"2023-11-28T00:00:00\",\"2023-11-29T00:00:00\",\"2023-11-30T00:00:00\",\"2023-12-01T00:00:00\",\"2023-12-02T00:00:00\",\"2023-12-03T00:00:00\",\"2023-12-04T00:00:00\",\"2023-12-05T00:00:00\",\"2023-12-06T00:00:00\",\"2023-12-07T00:00:00\",\"2023-12-08T00:00:00\",\"2023-12-09T00:00:00\",\"2023-12-10T00:00:00\",\"2023-12-11T00:00:00\",\"2023-12-12T00:00:00\",\"2023-12-13T00:00:00\",\"2023-12-14T00:00:00\",\"2023-12-15T00:00:00\",\"2023-12-16T00:00:00\",\"2023-12-17T00:00:00\",\"2023-12-18T00:00:00\",\"2023-12-19T00:00:00\",\"2023-12-20T00:00:00\",\"2023-12-21T00:00:00\",\"2023-12-22T00:00:00\",\"2023-12-23T00:00:00\",\"2023-12-24T00:00:00\",\"2023-12-25T00:00:00\",\"2023-12-26T00:00:00\",\"2023-12-27T00:00:00\",\"2023-12-28T00:00:00\",\"2023-12-29T00:00:00\",\"2023-12-30T00:00:00\",\"2023-12-31T00:00:00\"],\"y\":[-14.158669916478132,3.0505689197051353,-13.401017333621976,1.0529548729392073,4.862333918476393,-0.531775253422329,-4.603497605719791,-0.6244539660100736,1.4733551885070657,2.3337579340382604,1.8085579321868668,3.894075337220271,7.190402054859609,1.2085195065759704,4.744222794522844,16.71242499524126,6.176958493074523,5.992090283380659,15.103777255674377,-1.6464986060686426,18.432392573507258,9.556115982275186,13.20400631846057,13.715862524045491,17.77974908602946,12.571502085849078,11.320092453275553,21.551715767802285,5.7743397582566764,18.03358799671669,11.766011791529202,14.749186938515235,28.871066013900183,20.30499095964549,22.861120124033167,12.381797893416877,18.446399808390325,21.689911696910183,23.145434130894337,25.028748574786096,23.084004616595166,27.062217950858884,26.527993171541524,14.741981640032211,26.641247462757207,28.58880565161072,30.363447051502114,23.638533964970236,21.810050042800285,22.85420934538844,26.383955172129248,33.38453986051418,19.247575930479577,26.044675662264503,22.02726748766932,32.508042306302244,24.78948400715294,25.417157439027168,26.844715944488115,32.95224084440078,26.46132044113941,15.413765660975288,32.84350970792203,31.531230130324126,29.989586351871697,24.65225875587983,33.02939547435195,33.449883268609746,29.191507981201926,29.741750015506106,27.224183027902757,29.695756123953668,22.076695613289434,32.64509064439188,26.710550293213604,32.60267071794061,23.63088414147161,27.916192925746827,27.79077546686264,22.330306277470022,29.080930397482515,27.086896079322646,20.12620555434601,22.28401405915819,30.223369377871933,33.2620993834803,26.601817410202607,29.719007343225602,29.016357905213937,27.575984234181433,33.12701716852918,20.28592671215429,29.98112947976211,23.258887530585987,23.962154512830676,22.54453810087582,23.780495561084027,17.648135227439102,25.2002275039218,31.89698249382546,21.708070785976297,21.49107745112919,17.98815788242366,21.910282895628637,22.800537386641437,18.91635732294989,18.668097587302885,23.673433607502787,14.395083609336622,20.577139543091747,22.08423658621623,24.41223970121508,16.534894851274537,24.810470558620437,21.147434180868277,11.250357963088197,9.865732639431952,13.320344543276896,21.444402119965922,15.187230796248187,11.466600073967683,19.648890738703887,15.342010839028912,1.2223352974796855,14.740832360246584,14.406833940560274,12.461339714132254,11.198272189760138,8.41660094953361,3.0493558601291837,8.366292318014988,2.5811681201972565,2.669399334225278,2.059219226385394,7.627814011798813,8.069689220342811,2.5718722670074596,2.8239009869386096,5.0761730125720925,9.061922680755478,-6.4409137158015835,4.251639143295213,0.1651985492710466,-5.374304479360662,-8.445748969339192,-3.332463337411557,2.1135693444996777,4.578449904433369,-3.4762015010760585,6.6338846601475625,6.355010258133674,1.250697221993149,-4.556706017641989,3.46155309687704,1.8938130853078272,1.5098547087911127,-5.243843666419867,-14.661006576989191,9.91809477830088,-9.93644374030647,-3.723755661552035,8.026175444972994,-2.699005770474067,2.9056731561500775,-9.451861997038105,-13.580350567434245,-5.661656465922716,1.5812882278957048,-6.977064877450969,-7.557324752988736,-3.4590710413241808,1.7032051546866738,-12.06957207971206,-10.196400453713863,-7.22040491780586,2.1072374345680105,-2.1231682902660447,6.586203080076475,0.15717291427822033,-5.360020459073521,2.001914723458209,-3.415076467976738,-6.031385110130918,0.42342862117985236,-6.4147357211663385,-5.02365524444067,4.434649982730029,-2.5202598097196773,-5.9581210346735825,-5.3815539139472826,3.0094956243155395,-3.076549040432882,-1.9621268770287466,-3.147178755841312,-0.5347356795331311,-2.8048680533089847,-8.585456452874688,-4.8151540289562655,-3.2128013615231374,7.289992742114575,5.5722014174833046,4.291984807244855,-1.3723497645114069,-0.422843967277057,0.052022872349806626,-1.776370937092267,16.715589155084647,-7.059960950708689,7.013586785812573,1.040263575690346,7.1694673768632,1.4973440551586377,3.151779483970814,2.638981075249374,18.612361730771003,9.629192004317815,5.814001515733761,15.078076992586965,10.473531097450106,15.970487803717301,3.746944814356437,14.954216575488369,17.673031686525523,7.102024710668072,19.088805418562654,25.39127648785108,18.008546153724954,21.7546566273896,22.45017170122802,14.381266696106778,18.84202638743597,12.597841688376425,18.94196916738005,22.185633632083736,25.533486808932714,23.17791820528587,28.78275290578825,20.28887516219278,26.56660401586767,27.09473070973805,35.51910502390429,26.21860064746705,27.960110727094218,31.626072177922588,25.087906761151707,32.515567450883275,31.52037254086764,23.75008578219429,33.28166964115451,34.33058126677505,28.118182016149486,37.31457712570876,45.415474611335554,41.57166161316135,42.60133996475619,32.11203313917022,43.86115477250484,42.80541861973935,45.34893429053322,45.000762958911736,36.86622463214977,44.306048180467045,39.94648367558257,43.44412004282105,41.29241005331593,51.795038054942594,43.25538792814052,44.5905875643282,49.207347467496895,44.43202797649574,47.73697703059884,45.8432729236303,58.24942780821014,54.301207127586075,50.82512825672194,50.281699626541965,58.1437502514843,57.09094026049617,57.29795525867184,54.28003962442546,47.74032840836152,56.6599780298653,52.63222980729529,59.5863344040512,62.156939251040725,53.71694736780931,59.6449240419096,67.44959106679468,54.6337990249037,66.65617762871675,56.28252369709667,60.00077873796699,60.4057337280599,60.80142600439548,55.656781328833276,59.07079888998325,56.9211261841757,62.38973984699189,63.97008394046607,72.59159568659643,68.66354075583706,59.71764158218883,65.13346640812472,69.0161849322908,62.89294339065831,61.99520215479495,65.18251518831556,67.46572142044211,59.55519247225086,60.85383222723833,66.59863923950923,65.36351248448447,64.88395314886486,62.94518627903306,67.90844566557413,73.31516463260421,66.93241044385582,63.154953227019455,68.56479208431878,59.22458539324607,58.91417968583684,61.794614483721396,49.85870387225583,56.02037074899924,61.14780218458858,55.98256073510777,57.2988613866239,59.21151559701591,53.833911170199116,58.14043337142212,56.97732428173013,62.35793057102597,67.21827878526663,62.24769423414603,61.38178033971059,60.88750404668815,60.52849652436445,52.78459268410175,58.7764677596558,59.703847132068525,49.61527426526041,61.19079759200329,61.473665953524915,53.23896811702265,53.47987855854937,51.04186964827521,60.122102827702854,50.417066317655376,53.53867283261096,49.30845426514944,52.881024035816054,44.26085752800462,58.497077332423586,46.32086133392026,52.37504370164373,48.536482817807425,46.283054432927315,44.46294261827113,54.05823719691767,45.68767216887907,49.07936648359614,42.79564883022914,45.33235211752706,49.196256695027536,51.366906941238014],\"type\":\"scatter\"},{\"line\":{\"color\":\"#EB6852\",\"dash\":\"dash\",\"width\":2},\"mode\":\"lines\",\"name\":\"Smoothed Line\",\"x\":[\"2023-01-01T00:00:00\",\"2023-01-02T00:00:00\",\"2023-01-03T00:00:00\",\"2023-01-04T00:00:00\",\"2023-01-05T00:00:00\",\"2023-01-06T00:00:00\",\"2023-01-07T00:00:00\",\"2023-01-08T00:00:00\",\"2023-01-09T00:00:00\",\"2023-01-10T00:00:00\",\"2023-01-11T00:00:00\",\"2023-01-12T00:00:00\",\"2023-01-13T00:00:00\",\"2023-01-14T00:00:00\",\"2023-01-15T00:00:00\",\"2023-01-16T00:00:00\",\"2023-01-17T00:00:00\",\"2023-01-18T00:00:00\",\"2023-01-19T00:00:00\",\"2023-01-20T00:00:00\",\"2023-01-21T00:00:00\",\"2023-01-22T00:00:00\",\"2023-01-23T00:00:00\",\"2023-01-24T00:00:00\",\"2023-01-25T00:00:00\",\"2023-01-26T00:00:00\",\"2023-01-27T00:00:00\",\"2023-01-28T00:00:00\",\"2023-01-29T00:00:00\",\"2023-01-30T00:00:00\",\"2023-01-31T00:00:00\",\"2023-02-01T00:00:00\",\"2023-02-02T00:00:00\",\"2023-02-03T00:00:00\",\"2023-02-04T00:00:00\",\"2023-02-05T00:00:00\",\"2023-02-06T00:00:00\",\"2023-02-07T00:00:00\",\"2023-02-08T00:00:00\",\"2023-02-09T00:00:00\",\"2023-02-10T00:00:00\",\"2023-02-11T00:00:00\",\"2023-02-12T00:00:00\",\"2023-02-13T00:00:00\",\"2023-02-14T00:00:00\",\"2023-02-15T00:00:00\",\"2023-02-16T00:00:00\",\"2023-02-17T00:00:00\",\"2023-02-18T00:00:00\",\"2023-02-19T00:00:00\",\"2023-02-20T00:00:00\",\"2023-02-21T00:00:00\",\"2023-02-22T00:00:00\",\"2023-02-23T00:00:00\",\"2023-02-24T00:00:00\",\"2023-02-25T00:00:00\",\"2023-02-26T00:00:00\",\"2023-02-27T00:00:00\",\"2023-02-28T00:00:00\",\"2023-03-01T00:00:00\",\"2023-03-02T00:00:00\",\"2023-03-03T00:00:00\",\"2023-03-04T00:00:00\",\"2023-03-05T00:00:00\",\"2023-03-06T00:00:00\",\"2023-03-07T00:00:00\",\"2023-03-08T00:00:00\",\"2023-03-09T00:00:00\",\"2023-03-10T00:00:00\",\"2023-03-11T00:00:00\",\"2023-03-12T00:00:00\",\"2023-03-13T00:00:00\",\"2023-03-14T00:00:00\",\"2023-03-15T00:00:00\",\"2023-03-16T00:00:00\",\"2023-03-17T00:00:00\",\"2023-03-18T00:00:00\",\"2023-03-19T00:00:00\",\"2023-03-20T00:00:00\",\"2023-03-21T00:00:00\",\"2023-03-22T00:00:00\",\"2023-03-23T00:00:00\",\"2023-03-24T00:00:00\",\"2023-03-25T00:00:00\",\"2023-03-26T00:00:00\",\"2023-03-27T00:00:00\",\"2023-03-28T00:00:00\",\"2023-03-29T00:00:00\",\"2023-03-30T00:00:00\",\"2023-03-31T00:00:00\",\"2023-04-01T00:00:00\",\"2023-04-02T00:00:00\",\"2023-04-03T00:00:00\",\"2023-04-04T00:00:00\",\"2023-04-05T00:00:00\",\"2023-04-06T00:00:00\",\"2023-04-07T00:00:00\",\"2023-04-08T00:00:00\",\"2023-04-09T00:00:00\",\"2023-04-10T00:00:00\",\"2023-04-11T00:00:00\",\"2023-04-12T00:00:00\",\"2023-04-13T00:00:00\",\"2023-04-14T00:00:00\",\"2023-04-15T00:00:00\",\"2023-04-16T00:00:00\",\"2023-04-17T00:00:00\",\"2023-04-18T00:00:00\",\"2023-04-19T00:00:00\",\"2023-04-20T00:00:00\",\"2023-04-21T00:00:00\",\"2023-04-22T00:00:00\",\"2023-04-23T00:00:00\",\"2023-04-24T00:00:00\",\"2023-04-25T00:00:00\",\"2023-04-26T00:00:00\",\"2023-04-27T00:00:00\",\"2023-04-28T00:00:00\",\"2023-04-29T00:00:00\",\"2023-04-30T00:00:00\",\"2023-05-01T00:00:00\",\"2023-05-02T00:00:00\",\"2023-05-03T00:00:00\",\"2023-05-04T00:00:00\",\"2023-05-05T00:00:00\",\"2023-05-06T00:00:00\",\"2023-05-07T00:00:00\",\"2023-05-08T00:00:00\",\"2023-05-09T00:00:00\",\"2023-05-10T00:00:00\",\"2023-05-11T00:00:00\",\"2023-05-12T00:00:00\",\"2023-05-13T00:00:00\",\"2023-05-14T00:00:00\",\"2023-05-15T00:00:00\",\"2023-05-16T00:00:00\",\"2023-05-17T00:00:00\",\"2023-05-18T00:00:00\",\"2023-05-19T00:00:00\",\"2023-05-20T00:00:00\",\"2023-05-21T00:00:00\",\"2023-05-22T00:00:00\",\"2023-05-23T00:00:00\",\"2023-05-24T00:00:00\",\"2023-05-25T00:00:00\",\"2023-05-26T00:00:00\",\"2023-05-27T00:00:00\",\"2023-05-28T00:00:00\",\"2023-05-29T00:00:00\",\"2023-05-30T00:00:00\",\"2023-05-31T00:00:00\",\"2023-06-01T00:00:00\",\"2023-06-02T00:00:00\",\"2023-06-03T00:00:00\",\"2023-06-04T00:00:00\",\"2023-06-05T00:00:00\",\"2023-06-06T00:00:00\",\"2023-06-07T00:00:00\",\"2023-06-08T00:00:00\",\"2023-06-09T00:00:00\",\"2023-06-10T00:00:00\",\"2023-06-11T00:00:00\",\"2023-06-12T00:00:00\",\"2023-06-13T00:00:00\",\"2023-06-14T00:00:00\",\"2023-06-15T00:00:00\",\"2023-06-16T00:00:00\",\"2023-06-17T00:00:00\",\"2023-06-18T00:00:00\",\"2023-06-19T00:00:00\",\"2023-06-20T00:00:00\",\"2023-06-21T00:00:00\",\"2023-06-22T00:00:00\",\"2023-06-23T00:00:00\",\"2023-06-24T00:00:00\",\"2023-06-25T00:00:00\",\"2023-06-26T00:00:00\",\"2023-06-27T00:00:00\",\"2023-06-28T00:00:00\",\"2023-06-29T00:00:00\",\"2023-06-30T00:00:00\",\"2023-07-01T00:00:00\",\"2023-07-02T00:00:00\",\"2023-07-03T00:00:00\",\"2023-07-04T00:00:00\",\"2023-07-05T00:00:00\",\"2023-07-06T00:00:00\",\"2023-07-07T00:00:00\",\"2023-07-08T00:00:00\",\"2023-07-09T00:00:00\",\"2023-07-10T00:00:00\",\"2023-07-11T00:00:00\",\"2023-07-12T00:00:00\",\"2023-07-13T00:00:00\",\"2023-07-14T00:00:00\",\"2023-07-15T00:00:00\",\"2023-07-16T00:00:00\",\"2023-07-17T00:00:00\",\"2023-07-18T00:00:00\",\"2023-07-19T00:00:00\",\"2023-07-20T00:00:00\",\"2023-07-21T00:00:00\",\"2023-07-22T00:00:00\",\"2023-07-23T00:00:00\",\"2023-07-24T00:00:00\",\"2023-07-25T00:00:00\",\"2023-07-26T00:00:00\",\"2023-07-27T00:00:00\",\"2023-07-28T00:00:00\",\"2023-07-29T00:00:00\",\"2023-07-30T00:00:00\",\"2023-07-31T00:00:00\",\"2023-08-01T00:00:00\",\"2023-08-02T00:00:00\",\"2023-08-03T00:00:00\",\"2023-08-04T00:00:00\",\"2023-08-05T00:00:00\",\"2023-08-06T00:00:00\",\"2023-08-07T00:00:00\",\"2023-08-08T00:00:00\",\"2023-08-09T00:00:00\",\"2023-08-10T00:00:00\",\"2023-08-11T00:00:00\",\"2023-08-12T00:00:00\",\"2023-08-13T00:00:00\",\"2023-08-14T00:00:00\",\"2023-08-15T00:00:00\",\"2023-08-16T00:00:00\",\"2023-08-17T00:00:00\",\"2023-08-18T00:00:00\",\"2023-08-19T00:00:00\",\"2023-08-20T00:00:00\",\"2023-08-21T00:00:00\",\"2023-08-22T00:00:00\",\"2023-08-23T00:00:00\",\"2023-08-24T00:00:00\",\"2023-08-25T00:00:00\",\"2023-08-26T00:00:00\",\"2023-08-27T00:00:00\",\"2023-08-28T00:00:00\",\"2023-08-29T00:00:00\",\"2023-08-30T00:00:00\",\"2023-08-31T00:00:00\",\"2023-09-01T00:00:00\",\"2023-09-02T00:00:00\",\"2023-09-03T00:00:00\",\"2023-09-04T00:00:00\",\"2023-09-05T00:00:00\",\"2023-09-06T00:00:00\",\"2023-09-07T00:00:00\",\"2023-09-08T00:00:00\",\"2023-09-09T00:00:00\",\"2023-09-10T00:00:00\",\"2023-09-11T00:00:00\",\"2023-09-12T00:00:00\",\"2023-09-13T00:00:00\",\"2023-09-14T00:00:00\",\"2023-09-15T00:00:00\",\"2023-09-16T00:00:00\",\"2023-09-17T00:00:00\",\"2023-09-18T00:00:00\",\"2023-09-19T00:00:00\",\"2023-09-20T00:00:00\",\"2023-09-21T00:00:00\",\"2023-09-22T00:00:00\",\"2023-09-23T00:00:00\",\"2023-09-24T00:00:00\",\"2023-09-25T00:00:00\",\"2023-09-26T00:00:00\",\"2023-09-27T00:00:00\",\"2023-09-28T00:00:00\",\"2023-09-29T00:00:00\",\"2023-09-30T00:00:00\",\"2023-10-01T00:00:00\",\"2023-10-02T00:00:00\",\"2023-10-03T00:00:00\",\"2023-10-04T00:00:00\",\"2023-10-05T00:00:00\",\"2023-10-06T00:00:00\",\"2023-10-07T00:00:00\",\"2023-10-08T00:00:00\",\"2023-10-09T00:00:00\",\"2023-10-10T00:00:00\",\"2023-10-11T00:00:00\",\"2023-10-12T00:00:00\",\"2023-10-13T00:00:00\",\"2023-10-14T00:00:00\",\"2023-10-15T00:00:00\",\"2023-10-16T00:00:00\",\"2023-10-17T00:00:00\",\"2023-10-18T00:00:00\",\"2023-10-19T00:00:00\",\"2023-10-20T00:00:00\",\"2023-10-21T00:00:00\",\"2023-10-22T00:00:00\",\"2023-10-23T00:00:00\",\"2023-10-24T00:00:00\",\"2023-10-25T00:00:00\",\"2023-10-26T00:00:00\",\"2023-10-27T00:00:00\",\"2023-10-28T00:00:00\",\"2023-10-29T00:00:00\",\"2023-10-30T00:00:00\",\"2023-10-31T00:00:00\",\"2023-11-01T00:00:00\",\"2023-11-02T00:00:00\",\"2023-11-03T00:00:00\",\"2023-11-04T00:00:00\",\"2023-11-05T00:00:00\",\"2023-11-06T00:00:00\",\"2023-11-07T00:00:00\",\"2023-11-08T00:00:00\",\"2023-11-09T00:00:00\",\"2023-11-10T00:00:00\",\"2023-11-11T00:00:00\",\"2023-11-12T00:00:00\",\"2023-11-13T00:00:00\",\"2023-11-14T00:00:00\",\"2023-11-15T00:00:00\",\"2023-11-16T00:00:00\",\"2023-11-17T00:00:00\",\"2023-11-18T00:00:00\",\"2023-11-19T00:00:00\",\"2023-11-20T00:00:00\",\"2023-11-21T00:00:00\",\"2023-11-22T00:00:00\",\"2023-11-23T00:00:00\",\"2023-11-24T00:00:00\",\"2023-11-25T00:00:00\",\"2023-11-26T00:00:00\",\"2023-11-27T00:00:00\",\"2023-11-28T00:00:00\",\"2023-11-29T00:00:00\",\"2023-11-30T00:00:00\",\"2023-12-01T00:00:00\",\"2023-12-02T00:00:00\",\"2023-12-03T00:00:00\",\"2023-12-04T00:00:00\",\"2023-12-05T00:00:00\",\"2023-12-06T00:00:00\",\"2023-12-07T00:00:00\",\"2023-12-08T00:00:00\",\"2023-12-09T00:00:00\",\"2023-12-10T00:00:00\",\"2023-12-11T00:00:00\",\"2023-12-12T00:00:00\",\"2023-12-13T00:00:00\",\"2023-12-14T00:00:00\",\"2023-12-15T00:00:00\",\"2023-12-16T00:00:00\",\"2023-12-17T00:00:00\",\"2023-12-18T00:00:00\",\"2023-12-19T00:00:00\",\"2023-12-20T00:00:00\",\"2023-12-21T00:00:00\",\"2023-12-22T00:00:00\",\"2023-12-23T00:00:00\",\"2023-12-24T00:00:00\",\"2023-12-25T00:00:00\",\"2023-12-26T00:00:00\",\"2023-12-27T00:00:00\",\"2023-12-28T00:00:00\",\"2023-12-29T00:00:00\",\"2023-12-30T00:00:00\",\"2023-12-31T00:00:00\"],\"y\":[-3.94664981324831,-2.830129855996752,-1.0031454039121703,0.8919139921579727,2.273567355162511,2.961305172516851,3.27875903080412,3.722063850287717,4.520971329009653,5.549574344873425,6.569309409878002,7.474430424197557,8.35809663633018,9.378874984693422,10.529858112014768,11.569630095936153,12.250771295031452,12.584861592896978,12.845293696372995,13.348574941530856,14.233708811828357,15.401538163979641,16.612300356895066,17.617987055795208,18.2497341998566,18.466610561180183,18.355324656037535,18.110762763387488,18.04529027760575,18.51437989783616,19.665539611494772,21.19689720604881,22.468932970521834,23.010446829498235,22.969933896827804,22.995583630111597,23.633753444332037,24.87611737400576,26.264227126979343,27.316613573375662,27.81716222230905,27.855193979959353,27.75479587799989,27.892585518528936,28.383041825573372,28.929058981243,29.125324303036237,28.91730014733308,28.641705532234443,28.60581655766825,28.754364554996805,28.846077890050946,28.863019801232884,29.056774656602002,29.588000545567503,30.30227448671785,30.912877462271624,31.237623209269856,31.216524918672725,30.907908504031,30.583553695920696,30.62346397919751,31.14171084634726,31.85657798643606,32.434829714044824,32.79274503716597,32.96655666955853,32.90908544217569,32.561423828851304,32.01369793780239,31.481169019833153,31.150304328349257,31.06028673519893,31.083680860127718,31.02881143445662,30.799759584550785,30.460327558410484,30.135499764148676,29.87979552625324,29.65205450386194,29.40871572125127,29.248426414360633,29.434137347795257,30.14647430225436,31.200305774910994,32.14381927983408,32.65768145317305,32.73783115721064,32.504174523830855,31.999674591857172,31.240493821395972,30.336225624705904,29.441479787280606,28.628427525152897,27.902710075439778,27.33894822637593,27.112034143312407,27.312935173822364,27.72314752902212,27.88241058790512,27.485153980848395,26.66013242071737,25.785647822663798,25.096229098665443,24.55783037334681,24.06556797069602,23.64390267757036,23.44342578603281,23.594688838569027,24.05052334402919,24.541660769823384,24.706736675099073,24.272618564947113,23.153017210657104,21.52508319203472,19.865501922779032,18.720298232659076,18.28517333807493,18.278557746448087,18.24485720065743,17.87007600054951,17.078302184708186,16.06726626058067,15.23887214564116,14.853033678204078,14.716774729909906,14.345608973003834,13.416344113508746,12.008231366848918,10.47559521777677,9.181559116731169,8.346301927104662,8.030636189885545,8.12497246719381,8.353365442340504,8.429173979862792,8.254952048432312,7.891942084369518,7.352022593385973,6.539692733359126,5.3922166959464874,3.9872757254715174,2.570280987395966,1.548184324257717,1.3127819266464005,1.9232550752446085,3.0356901850819877,4.2113680948200125,5.18799003754811,5.832090745859787,6.048048110110498,5.866768634306046,5.447224348480228,4.835688600617307,3.8754711673539664,2.526336387731055,1.1626943945720403,0.36754420670206733,0.4471096243856616,1.220242776417384,2.1413826467528434,2.5302119342158704,1.91940883891848,0.4472387040572846,-1.1379214941567821,-2.041671716162976,-2.0555492007444878,-1.5953831654889172,-1.18635949854019,-1.0786323748753577,-1.3066229689090194,-1.7857267888680308,-2.195825598535898,-2.0252997410158216,-0.982288012009101,0.6752991505349514,2.2965879562326963,3.2973089294220053,3.4815196349598247,3.0228601460730666,2.235181356997007,1.4003823080600957,0.7435131684919327,0.42473075785225345,0.46811862931671494,0.7100957911863769,0.8957472224052667,0.9078771167827346,0.8628217675362537,0.9099293886663105,1.0202132719431423,1.0685568322689987,1.0107618585443978,0.8663583450591618,0.6506525551810809,0.4868871843967078,0.7069999852152836,1.6359753227310119,3.2005909890063933,4.829077795293513,5.845214607684264,6.001951620517422,5.654334933566826,5.424594889285567,5.683150265756303,6.29449740905707,6.8367215957077745,7.044090980495653,6.996122013453407,6.939335318385798,7.093891574040114,7.649233683692445,8.732002505327593,10.23384518204314,11.779318392450518,13.01567740935483,13.875808488526925,14.473412524851232,14.895289890912988,15.224553613967824,15.635162286588649,16.31235592170038,17.346047034882513,18.72658719692881,20.309659286468648,21.76971115251994,22.74352933161864,23.064165791927717,22.84510847035595,22.42319210299075,22.251663712802042,22.713924093922692,23.883554529168503,25.433179272516,26.852581572190992,27.830193314517956,28.470559885994227,29.154794490492492,30.145300208310086,31.295232128424367,32.18727502669078,32.571074132253756,32.59149241633533,32.57146609292262,32.68554675521806,32.91200880151202,33.22316730191345,33.70830435241348,34.51975914064983,35.78200680180991,37.51881561933777,39.51797489956429,41.307791088989795,42.4752686827155,43.05150276071267,43.45499753189319,44.02037068189398,44.682394425487956,45.15110934199122,45.30862649678047,45.358546057235046,45.620766566006395,46.25481918673479,47.16663820090484,48.09543437456128,48.785603757503736,49.17114849486485,49.42794246492075,49.84662157297121,50.67233691199064,51.9966363523898,53.6592327762778,55.26853449722268,56.47665102080366,57.25881201202587,57.8225215461822,58.25613649524178,58.4149532769147,58.194054452084416,57.81469834327221,57.74988825972408,58.344490063535304,59.52666699926057,60.91002886534689,62.1507629311601,63.15441698486052,63.947487385281235,64.47642716526,64.63567559389699,64.43445421672311,64.03526315666879,63.62244901305664,63.2822542215092,63.057691596147855,63.09402474377963,63.642351706671384,64.85800876524104,66.57530777578134,68.28283982459595,69.39578190772491,69.66311512370231,69.32480565349329,68.81906599959004,68.3982143206309,68.07530594411169,67.79735404782635,67.53722537556854,67.30941963625176,67.19934199583236,67.31391878557797,67.66306628410986,68.17519791915583,68.82095333196938,69.57231467531906,70.21500919681657,70.37519092228345,69.8262478008911,68.6729000096026,67.18443753005997,65.56377053284572,63.93808727119027,62.48137987453544,61.4231276513294,60.88379018502448,60.748401310905805,60.77879791345974,60.83952163875641,60.98608463843483,61.378784679373744,62.12293852216866,63.12905362711379,64.09218825875328,64.64821729263639,64.60425561523817,64.03079519067188,63.159425528102304,62.24123914088189,61.48192831646679,61.01515145561994,60.86894522127484,60.92638285570544,60.91709574561118,60.55437362240511,59.779106697844185,58.810435638738454,57.89305643718703,57.08427197374574,56.32587758969119,55.61840332120926,55.04981477724087,54.69855726617928,54.53417868151034,54.3963017479072,54.09751796594687,53.58448305215758,52.991756355081115,52.52197358359465,52.24634086348252,52.02619532861229,51.67989160427163,51.24037166807751,50.98345128409326,51.15265190194026,51.65993469994156,52.10078942350078],\"type\":\"scatter\"}],                        {\"template\":{\"data\":{\"histogram2dcontour\":[{\"type\":\"histogram2dcontour\",\"colorbar\":{\"outlinewidth\":0,\"ticks\":\"\"},\"colorscale\":[[0.0,\"#0d0887\"],[0.1111111111111111,\"#46039f\"],[0.2222222222222222,\"#7201a8\"],[0.3333333333333333,\"#9c179e\"],[0.4444444444444444,\"#bd3786\"],[0.5555555555555556,\"#d8576b\"],[0.6666666666666666,\"#ed7953\"],[0.7777777777777778,\"#fb9f3a\"],[0.8888888888888888,\"#fdca26\"],[1.0,\"#f0f921\"]]}],\"choropleth\":[{\"type\":\"choropleth\",\"colorbar\":{\"outlinewidth\":0,\"ticks\":\"\"}}],\"histogram2d\":[{\"type\":\"histogram2d\",\"colorbar\":{\"outlinewidth\":0,\"ticks\":\"\"},\"colorscale\":[[0.0,\"#0d0887\"],[0.1111111111111111,\"#46039f\"],[0.2222222222222222,\"#7201a8\"],[0.3333333333333333,\"#9c179e\"],[0.4444444444444444,\"#bd3786\"],[0.5555555555555556,\"#d8576b\"],[0.6666666666666666,\"#ed7953\"],[0.7777777777777778,\"#fb9f3a\"],[0.8888888888888888,\"#fdca26\"],[1.0,\"#f0f921\"]]}],\"heatmap\":[{\"type\":\"heatmap\",\"colorbar\":{\"outlinewidth\":0,\"ticks\":\"\"},\"colorscale\":[[0.0,\"#0d0887\"],[0.1111111111111111,\"#46039f\"],[0.2222222222222222,\"#7201a8\"],[0.3333333333333333,\"#9c179e\"],[0.4444444444444444,\"#bd3786\"],[0.5555555555555556,\"#d8576b\"],[0.6666666666666666,\"#ed7953\"],[0.7777777777777778,\"#fb9f3a\"],[0.8888888888888888,\"#fdca26\"],[1.0,\"#f0f921\"]]}],\"heatmapgl\":[{\"type\":\"heatmapgl\",\"colorbar\":{\"outlinewidth\":0,\"ticks\":\"\"},\"colorscale\":[[0.0,\"#0d0887\"],[0.1111111111111111,\"#46039f\"],[0.2222222222222222,\"#7201a8\"],[0.3333333333333333,\"#9c179e\"],[0.4444444444444444,\"#bd3786\"],[0.5555555555555556,\"#d8576b\"],[0.6666666666666666,\"#ed7953\"],[0.7777777777777778,\"#fb9f3a\"],[0.8888888888888888,\"#fdca26\"],[1.0,\"#f0f921\"]]}],\"contourcarpet\":[{\"type\":\"contourcarpet\",\"colorbar\":{\"outlinewidth\":0,\"ticks\":\"\"}}],\"contour\":[{\"type\":\"contour\",\"colorbar\":{\"outlinewidth\":0,\"ticks\":\"\"},\"colorscale\":[[0.0,\"#0d0887\"],[0.1111111111111111,\"#46039f\"],[0.2222222222222222,\"#7201a8\"],[0.3333333333333333,\"#9c179e\"],[0.4444444444444444,\"#bd3786\"],[0.5555555555555556,\"#d8576b\"],[0.6666666666666666,\"#ed7953\"],[0.7777777777777778,\"#fb9f3a\"],[0.8888888888888888,\"#fdca26\"],[1.0,\"#f0f921\"]]}],\"surface\":[{\"type\":\"surface\",\"colorbar\":{\"outlinewidth\":0,\"ticks\":\"\"},\"colorscale\":[[0.0,\"#0d0887\"],[0.1111111111111111,\"#46039f\"],[0.2222222222222222,\"#7201a8\"],[0.3333333333333333,\"#9c179e\"],[0.4444444444444444,\"#bd3786\"],[0.5555555555555556,\"#d8576b\"],[0.6666666666666666,\"#ed7953\"],[0.7777777777777778,\"#fb9f3a\"],[0.8888888888888888,\"#fdca26\"],[1.0,\"#f0f921\"]]}],\"mesh3d\":[{\"type\":\"mesh3d\",\"colorbar\":{\"outlinewidth\":0,\"ticks\":\"\"}}],\"scatter\":[{\"fillpattern\":{\"fillmode\":\"overlay\",\"size\":10,\"solidity\":0.2},\"type\":\"scatter\"}],\"parcoords\":[{\"type\":\"parcoords\",\"line\":{\"colorbar\":{\"outlinewidth\":0,\"ticks\":\"\"}}}],\"scatterpolargl\":[{\"type\":\"scatterpolargl\",\"marker\":{\"colorbar\":{\"outlinewidth\":0,\"ticks\":\"\"}}}],\"bar\":[{\"error_x\":{\"color\":\"#2a3f5f\"},\"error_y\":{\"color\":\"#2a3f5f\"},\"marker\":{\"line\":{\"color\":\"#E5ECF6\",\"width\":0.5},\"pattern\":{\"fillmode\":\"overlay\",\"size\":10,\"solidity\":0.2}},\"type\":\"bar\"}],\"scattergeo\":[{\"type\":\"scattergeo\",\"marker\":{\"colorbar\":{\"outlinewidth\":0,\"ticks\":\"\"}}}],\"scatterpolar\":[{\"type\":\"scatterpolar\",\"marker\":{\"colorbar\":{\"outlinewidth\":0,\"ticks\":\"\"}}}],\"histogram\":[{\"marker\":{\"pattern\":{\"fillmode\":\"overlay\",\"size\":10,\"solidity\":0.2}},\"type\":\"histogram\"}],\"scattergl\":[{\"type\":\"scattergl\",\"marker\":{\"colorbar\":{\"outlinewidth\":0,\"ticks\":\"\"}}}],\"scatter3d\":[{\"type\":\"scatter3d\",\"line\":{\"colorbar\":{\"outlinewidth\":0,\"ticks\":\"\"}},\"marker\":{\"colorbar\":{\"outlinewidth\":0,\"ticks\":\"\"}}}],\"scattermapbox\":[{\"type\":\"scattermapbox\",\"marker\":{\"colorbar\":{\"outlinewidth\":0,\"ticks\":\"\"}}}],\"scatterternary\":[{\"type\":\"scatterternary\",\"marker\":{\"colorbar\":{\"outlinewidth\":0,\"ticks\":\"\"}}}],\"scattercarpet\":[{\"type\":\"scattercarpet\",\"marker\":{\"colorbar\":{\"outlinewidth\":0,\"ticks\":\"\"}}}],\"carpet\":[{\"aaxis\":{\"endlinecolor\":\"#2a3f5f\",\"gridcolor\":\"white\",\"linecolor\":\"white\",\"minorgridcolor\":\"white\",\"startlinecolor\":\"#2a3f5f\"},\"baxis\":{\"endlinecolor\":\"#2a3f5f\",\"gridcolor\":\"white\",\"linecolor\":\"white\",\"minorgridcolor\":\"white\",\"startlinecolor\":\"#2a3f5f\"},\"type\":\"carpet\"}],\"table\":[{\"cells\":{\"fill\":{\"color\":\"#EBF0F8\"},\"line\":{\"color\":\"white\"}},\"header\":{\"fill\":{\"color\":\"#C8D4E3\"},\"line\":{\"color\":\"white\"}},\"type\":\"table\"}],\"barpolar\":[{\"marker\":{\"line\":{\"color\":\"#E5ECF6\",\"width\":0.5},\"pattern\":{\"fillmode\":\"overlay\",\"size\":10,\"solidity\":0.2}},\"type\":\"barpolar\"}],\"pie\":[{\"automargin\":true,\"type\":\"pie\"}]},\"layout\":{\"autotypenumbers\":\"strict\",\"colorway\":[\"#636efa\",\"#EF553B\",\"#00cc96\",\"#ab63fa\",\"#FFA15A\",\"#19d3f3\",\"#FF6692\",\"#B6E880\",\"#FF97FF\",\"#FECB52\"],\"font\":{\"color\":\"#2a3f5f\"},\"hovermode\":\"closest\",\"hoverlabel\":{\"align\":\"left\"},\"paper_bgcolor\":\"white\",\"plot_bgcolor\":\"#E5ECF6\",\"polar\":{\"bgcolor\":\"#E5ECF6\",\"angularaxis\":{\"gridcolor\":\"white\",\"linecolor\":\"white\",\"ticks\":\"\"},\"radialaxis\":{\"gridcolor\":\"white\",\"linecolor\":\"white\",\"ticks\":\"\"}},\"ternary\":{\"bgcolor\":\"#E5ECF6\",\"aaxis\":{\"gridcolor\":\"white\",\"linecolor\":\"white\",\"ticks\":\"\"},\"baxis\":{\"gridcolor\":\"white\",\"linecolor\":\"white\",\"ticks\":\"\"},\"caxis\":{\"gridcolor\":\"white\",\"linecolor\":\"white\",\"ticks\":\"\"}},\"coloraxis\":{\"colorbar\":{\"outlinewidth\":0,\"ticks\":\"\"}},\"colorscale\":{\"sequential\":[[0.0,\"#0d0887\"],[0.1111111111111111,\"#46039f\"],[0.2222222222222222,\"#7201a8\"],[0.3333333333333333,\"#9c179e\"],[0.4444444444444444,\"#bd3786\"],[0.5555555555555556,\"#d8576b\"],[0.6666666666666666,\"#ed7953\"],[0.7777777777777778,\"#fb9f3a\"],[0.8888888888888888,\"#fdca26\"],[1.0,\"#f0f921\"]],\"sequentialminus\":[[0.0,\"#0d0887\"],[0.1111111111111111,\"#46039f\"],[0.2222222222222222,\"#7201a8\"],[0.3333333333333333,\"#9c179e\"],[0.4444444444444444,\"#bd3786\"],[0.5555555555555556,\"#d8576b\"],[0.6666666666666666,\"#ed7953\"],[0.7777777777777778,\"#fb9f3a\"],[0.8888888888888888,\"#fdca26\"],[1.0,\"#f0f921\"]],\"diverging\":[[0,\"#8e0152\"],[0.1,\"#c51b7d\"],[0.2,\"#de77ae\"],[0.3,\"#f1b6da\"],[0.4,\"#fde0ef\"],[0.5,\"#f7f7f7\"],[0.6,\"#e6f5d0\"],[0.7,\"#b8e186\"],[0.8,\"#7fbc41\"],[0.9,\"#4d9221\"],[1,\"#276419\"]]},\"xaxis\":{\"gridcolor\":\"white\",\"linecolor\":\"white\",\"ticks\":\"\",\"title\":{\"standoff\":15},\"zerolinecolor\":\"white\",\"automargin\":true,\"zerolinewidth\":2},\"yaxis\":{\"gridcolor\":\"white\",\"linecolor\":\"white\",\"ticks\":\"\",\"title\":{\"standoff\":15},\"zerolinecolor\":\"white\",\"automargin\":true,\"zerolinewidth\":2},\"scene\":{\"xaxis\":{\"backgroundcolor\":\"#E5ECF6\",\"gridcolor\":\"white\",\"linecolor\":\"white\",\"showbackground\":true,\"ticks\":\"\",\"zerolinecolor\":\"white\",\"gridwidth\":2},\"yaxis\":{\"backgroundcolor\":\"#E5ECF6\",\"gridcolor\":\"white\",\"linecolor\":\"white\",\"showbackground\":true,\"ticks\":\"\",\"zerolinecolor\":\"white\",\"gridwidth\":2},\"zaxis\":{\"backgroundcolor\":\"#E5ECF6\",\"gridcolor\":\"white\",\"linecolor\":\"white\",\"showbackground\":true,\"ticks\":\"\",\"zerolinecolor\":\"white\",\"gridwidth\":2}},\"shapedefaults\":{\"line\":{\"color\":\"#2a3f5f\"}},\"annotationdefaults\":{\"arrowcolor\":\"#2a3f5f\",\"arrowhead\":0,\"arrowwidth\":1},\"geo\":{\"bgcolor\":\"white\",\"landcolor\":\"#E5ECF6\",\"subunitcolor\":\"white\",\"showland\":true,\"showlakes\":true,\"lakecolor\":\"white\"},\"title\":{\"x\":0.05},\"mapbox\":{\"style\":\"light\"}}},\"annotations\":[{\"showarrow\":false,\"text\":\"Sample Annotation\",\"x\":0.5,\"xref\":\"paper\",\"y\":0.5,\"yref\":\"paper\"}],\"images\":[{\"layer\":\"below\",\"opacity\":0.3,\"sizex\":0.2,\"sizey\":0.2,\"source\":\"https://example.com/logo.png\",\"x\":0.5,\"xanchor\":\"center\",\"xref\":\"paper\",\"y\":0.5,\"yanchor\":\"middle\",\"yref\":\"paper\"}],\"font\":{\"color\":\"black\",\"size\":14},\"title\":{\"text\":\"Line Plot with Error Bands and Smoothing\"},\"plot_bgcolor\":\"rgba(245, 245, 245, 1)\",\"paper_bgcolor\":\"white\",\"showlegend\":false,\"colorway\":[\"#006E96\",\"#00263D\",\"#B8D87A\",\"#8E847A\",\"#EB6852\",\"#983E53\"]},                        {\"responsive\": true}                    ).then(function(){\n",
       "                            \n",
       "var gd = document.getElementById('68d22a01-ea36-41fa-9010-c88526345402');\n",
       "var x = new MutationObserver(function (mutations, observer) {{\n",
       "        var display = window.getComputedStyle(gd).display;\n",
       "        if (!display || display === 'none') {{\n",
       "            console.log([gd, 'removed!']);\n",
       "            Plotly.purge(gd);\n",
       "            observer.disconnect();\n",
       "        }}\n",
       "}});\n",
       "\n",
       "// Listen for the removal of the full notebook cells\n",
       "var notebookContainer = gd.closest('#notebook-container');\n",
       "if (notebookContainer) {{\n",
       "    x.observe(notebookContainer, {childList: true});\n",
       "}}\n",
       "\n",
       "// Listen for the clearing of the current output cell\n",
       "var outputEl = gd.closest('.output');\n",
       "if (outputEl) {{\n",
       "    x.observe(outputEl, {childList: true});\n",
       "}}\n",
       "\n",
       "                        })                };                });            </script>        </div>"
      ]
     },
     "metadata": {},
     "output_type": "display_data"
    }
   ],
   "source": [
    "def create_line_plot(df):\n",
    "    \"\"\"\n",
    "    Create a line plot with error bands and a smoothed line.\n",
    "    \n",
    "    Args:\n",
    "        df (pd.DataFrame): Input data frame.\n",
    "\n",
    "    Returns:\n",
    "        fig (plotly.graph_objs.Figure): The configured line plot.\n",
    "    \"\"\"\n",
    "    fig = go.Figure()\n",
    "\n",
    "    fig.add_trace(go.Scatter(\n",
    "        x=df['x'],\n",
    "        y=df['y'],\n",
    "        mode='lines',\n",
    "        line=dict(color='blue', width=2, dash='solid'),\n",
    "        opacity=0.8,\n",
    "        name='Main Line'\n",
    "    ))\n",
    "\n",
    "    fig.add_trace(go.Scatter(\n",
    "        x=df['x'],\n",
    "        y=df['y'] + df['error'],\n",
    "        mode='lines',\n",
    "        line=dict(color='rgba(0,100,80,0.2)', width=0),\n",
    "        showlegend=False\n",
    "    ))\n",
    "\n",
    "    fig.add_trace(go.Scatter(\n",
    "        x=df['x'],\n",
    "        y=df['y'] - df['error'],\n",
    "        mode='lines',\n",
    "        fill='tonexty',\n",
    "        line=dict(color='rgba(0,100,80,0.2)', width=0),\n",
    "        showlegend=False\n",
    "    ))\n",
    "\n",
    "    smoothed_y = gaussian_filter1d(df['y'], sigma=2)\n",
    "    fig.add_trace(go.Scatter(\n",
    "        x=df['x'],\n",
    "        y=smoothed_y,\n",
    "        mode='lines',\n",
    "        line=dict(color='#EB6852', width=2, dash='dash'),\n",
    "        name='Smoothed Line'\n",
    "    ))\n",
    "    \n",
    "    # Adding annotations\n",
    "    fig.add_annotation(\n",
    "        text=\"Sample Annotation\",  # Arbitrary text annotation\n",
    "        xref=\"paper\", yref=\"paper\",\n",
    "        x=0.5, y=0.5, showarrow=False\n",
    "    )\n",
    "\n",
    "    # Adding CBBI logo watermark as an example (replace with actual graphic location)\n",
    "    fig.add_layout_image(\n",
    "        dict(\n",
    "            source=\"https://example.com/logo.png\",  # Placeholder image\n",
    "            xref=\"paper\", yref=\"paper\",\n",
    "            x=0.5, y=0.5,  # Positioning\n",
    "            sizex=0.2, sizey=0.2,\n",
    "            xanchor=\"center\", yanchor=\"middle\",\n",
    "            opacity=0.3,\n",
    "            layer=\"below\"\n",
    "        )\n",
    "    )\n",
    "\n",
    "    # Applying global configuration\n",
    "    layout = set_global_plotly_config(\"Line Plot with Error Bands and Smoothing\")\n",
    "    fig.update_layout(layout)\n",
    "\n",
    "    return fig\n",
    "# Create and display a line plot\n",
    "fig_line = create_line_plot(df_line)\n",
    "fig_line.show()"
   ]
  },
  {
   "cell_type": "code",
   "execution_count": null,
   "id": "27f1e1e4",
   "metadata": {},
   "outputs": [],
   "source": []
  }
 ],
 "metadata": {
  "kernelspec": {
   "display_name": "Python 3 (ipykernel)",
   "language": "python",
   "name": "python3"
  },
  "language_info": {
   "codemirror_mode": {
    "name": "ipython",
    "version": 3
   },
   "file_extension": ".py",
   "mimetype": "text/x-python",
   "name": "python",
   "nbconvert_exporter": "python",
   "pygments_lexer": "ipython3",
   "version": "3.9.13"
  }
 },
 "nbformat": 4,
 "nbformat_minor": 5
}
